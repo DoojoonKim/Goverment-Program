{
 "cells": [
  {
   "cell_type": "markdown",
   "metadata": {},
   "source": [
    "### 주제 특성상 머신러닝 사용\n",
    "\n",
    "- Naive Bayes(나이브 베이즈) 분류법\n",
    "- 머신러닝 > 지도학습\n",
    "- 두 사건(pos,neg)은 독립적이다라고 가정\n",
    "- 각각의 조건부 확률 존재\n",
    "\n",
    "** 사이트에서 특정 단어 검색 **\n",
    "- 텍스트 수집\n",
    "- 수집된 데이터로 학습 -> 분류 -> 예측 -> 신호를 확인"
   ]
  },
  {
   "cell_type": "code",
   "execution_count": 67,
   "metadata": {},
   "outputs": [],
   "source": [
    "from nltk.tokenize import word_tokenize\n",
    "import nltk"
   ]
  },
  {
   "cell_type": "code",
   "execution_count": 9,
   "metadata": {},
   "outputs": [],
   "source": [
    "# trainning data : 학습용 데이터\n",
    "train = [('i like you','pos'),\n",
    "         ('i hate you','neg'),\n",
    "         ('you like me','neg'),\n",
    "         ('i like her','pos')      \n",
    "]"
   ]
  },
  {
   "cell_type": "code",
   "execution_count": 10,
   "metadata": {},
   "outputs": [
    {
     "name": "stdout",
     "output_type": "stream",
     "text": [
      "i\n",
      "like\n",
      "you\n",
      "i\n",
      "hate\n",
      "you\n",
      "you\n",
      "like\n",
      "me\n",
      "i\n",
      "like\n",
      "her\n"
     ]
    }
   ],
   "source": [
    "for sentence in train:\n",
    "    for word in word_tokenize(sentence[0]):\n",
    "        print(word.lower())\n",
    "        # 중복 제거는 왜함?    "
   ]
  },
  {
   "cell_type": "code",
   "execution_count": 11,
   "metadata": {},
   "outputs": [],
   "source": [
    "words = set( word.lower() for sentence in train for word in word_tokenize(sentence[0]))"
   ]
  },
  {
   "cell_type": "code",
   "execution_count": 13,
   "metadata": {},
   "outputs": [
    {
     "data": {
      "text/plain": [
       "{'hate', 'her', 'i', 'like', 'me', 'you'}"
      ]
     },
     "execution_count": 13,
     "metadata": {},
     "output_type": "execute_result"
    }
   ],
   "source": [
    "# 말 뭉치 => 각 말뭉치가 pos에 속에 있냐 neg에 속해 있나 계산\n",
    "words"
   ]
  },
  {
   "cell_type": "code",
   "execution_count": 20,
   "metadata": {},
   "outputs": [
    {
     "name": "stdout",
     "output_type": "stream",
     "text": [
      "{'i': True, 'like': True, 'her': False, 'hate': False, 'me': False, 'you': True}\n",
      "{'i': True, 'like': False, 'her': False, 'hate': True, 'me': False, 'you': True}\n",
      "{'i': True, 'like': True, 'her': False, 'hate': False, 'me': True, 'you': True}\n",
      "{'i': True, 'like': True, 'her': True, 'hate': False, 'me': False, 'you': False}\n"
     ]
    }
   ],
   "source": [
    "# 훈련 데이터에 해당 말뭉치가 포함되어 있는지 아닌지를 판단하라.\n",
    "\n",
    "# 훈련 데이터에서 한개씩 뽑아서 말뭉치 존재 여부를 체크하여 dict타입으로 구성 \n",
    "for x in train:\n",
    "    print({word: word in x[0] for word in words})"
   ]
  },
  {
   "cell_type": "code",
   "execution_count": 31,
   "metadata": {},
   "outputs": [
    {
     "name": "stdout",
     "output_type": "stream",
     "text": [
      "i : True pos\n",
      "like : True pos\n",
      "her : False pos\n",
      "hate : False pos\n",
      "me : False pos\n",
      "you : True pos\n",
      "i : True neg\n",
      "like : False neg\n",
      "her : False neg\n",
      "hate : True neg\n",
      "me : False neg\n",
      "you : True neg\n",
      "i : True neg\n",
      "like : True neg\n",
      "her : False neg\n",
      "hate : False neg\n",
      "me : True neg\n",
      "you : True neg\n",
      "i : True pos\n",
      "like : True pos\n",
      "her : True pos\n",
      "hate : False pos\n",
      "me : False pos\n",
      "you : False pos\n"
     ]
    }
   ],
   "source": [
    "# 위에꺼 번역\n",
    "for x in train:\n",
    "    for word in words:\n",
    "        # 말뭉치 데이터 하나하나가 훈련 데이터 문장에 포함되어 있는가?\n",
    "        print(word,':',word in x[0], x[1])            "
   ]
  },
  {
   "cell_type": "code",
   "execution_count": 15,
   "metadata": {},
   "outputs": [
    {
     "data": {
      "text/plain": [
       "True"
      ]
     },
     "execution_count": 15,
     "metadata": {},
     "output_type": "execute_result"
    }
   ],
   "source": [
    "a = 'i like her'\n",
    "# 문자열안에 들어 잇나 안들어 있나 찾기\n",
    "'i' in a # collection에 해당 element가 있냐 없냐"
   ]
  },
  {
   "cell_type": "code",
   "execution_count": 26,
   "metadata": {},
   "outputs": [
    {
     "name": "stdout",
     "output_type": "stream",
     "text": [
      "[({'i': True, 'like': True, 'her': False, 'hate': False, 'me': False, 'you': True}, 'pos'), ({'i': True, 'like': False, 'her': False, 'hate': True, 'me': False, 'you': True}, 'neg'), ({'i': True, 'like': True, 'her': False, 'hate': False, 'me': True, 'you': True}, 'neg'), ({'i': True, 'like': True, 'her': True, 'hate': False, 'me': False, 'you': False}, 'pos')]\n"
     ]
    }
   ],
   "source": [
    "# 훈련데이터 형태 맞추기\n",
    "# [({},'pos'),(),(),()...]\n",
    "train_list=[] \n",
    "for x in train:\n",
    "    train_list.append(({word: word in x[0] for word in words},x[1]))\n",
    "print(train_list)"
   ]
  },
  {
   "cell_type": "code",
   "execution_count": 34,
   "metadata": {},
   "outputs": [
    {
     "name": "stdout",
     "output_type": "stream",
     "text": [
      "[({'i': True, 'like': True, 'her': False, 'hate': False, 'me': False, 'you': True}, 'pos'), ({'i': True, 'like': False, 'her': False, 'hate': True, 'me': False, 'you': True}, 'neg'), ({'i': True, 'like': True, 'her': False, 'hate': False, 'me': True, 'you': True}, 'neg'), ({'i': True, 'like': True, 'her': True, 'hate': False, 'me': False, 'you': False}, 'pos')]\n"
     ]
    }
   ],
   "source": [
    "t = [({word: word in x[0] for word in words},x[1]) for x in train]\n",
    "print(t)\n",
    "# 훈련 데이터를 머신러닝(나이브 베이즈)에 적합한 형태"
   ]
  },
  {
   "cell_type": "code",
   "execution_count": 35,
   "metadata": {},
   "outputs": [],
   "source": [
    "# 머신러닝 사용\n",
    "# 학습 \n",
    "classifier = nltk.NaiveBayesClassifier.train(t)"
   ]
  },
  {
   "cell_type": "code",
   "execution_count": 36,
   "metadata": {},
   "outputs": [
    {
     "name": "stdout",
     "output_type": "stream",
     "text": [
      "Most Informative Features\n",
      "                    hate = False             pos : neg    =      1.7 : 1.0\n",
      "                     you = True              neg : pos    =      1.7 : 1.0\n",
      "                     her = False             neg : pos    =      1.7 : 1.0\n",
      "                      me = False             pos : neg    =      1.7 : 1.0\n",
      "                    like = True              pos : neg    =      1.7 : 1.0\n",
      "                       i = True              neg : pos    =      1.0 : 1.0\n"
     ]
    }
   ],
   "source": [
    "classifier.show_most_informative_features() # 알고리즘 내용이 좀 궁금함, 아마 pos: neg 비율 차이가 많이 나는게 나오지 않을까 싶다.\n",
    "# me라는 단어가 문장에 없을 경우 긍정의 비율이 1.7배이다."
   ]
  },
  {
   "cell_type": "code",
   "execution_count": 53,
   "metadata": {},
   "outputs": [
    {
     "data": {
      "text/plain": [
       "{'i': True,\n",
       " 'like': True,\n",
       " 'her': False,\n",
       " 'hate': False,\n",
       " 'me': False,\n",
       " 'you': False}"
      ]
     },
     "execution_count": 53,
     "metadata": {},
     "output_type": "execute_result"
    }
   ],
   "source": [
    "# 신규 데이터를 넣어서 => 예측 =>\n",
    "test_sentence = 'i like MeRi'\n",
    "# 테스트 데이터에 대해 형태그를 구성하여 판정\n",
    "# 딕셔너리 형태로 구성{말뭉치 : True/False}\n",
    "# test_sentence_feature = { element : element in words for element in word_tokenize(test_sentence)}\n",
    "test_sentence_feature = {word: word in word_tokenize(test_sentence) for word in words}\n",
    "test_sentence_feature"
   ]
  },
  {
   "cell_type": "code",
   "execution_count": 54,
   "metadata": {},
   "outputs": [
    {
     "data": {
      "text/plain": [
       "'pos'"
      ]
     },
     "execution_count": 54,
     "metadata": {},
     "output_type": "execute_result"
    }
   ],
   "source": [
    "classifier.classify(test_sentence_feature)"
   ]
  },
  {
   "cell_type": "markdown",
   "metadata": {},
   "source": [
    "#### 한글을 훈련 데이터 및 데이트 데이터로 사용하여 체크"
   ]
  },
  {
   "cell_type": "code",
   "execution_count": 55,
   "metadata": {},
   "outputs": [],
   "source": [
    "from konlpy.tag import Okt\n",
    "ok = Okt()"
   ]
  },
  {
   "cell_type": "code",
   "execution_count": 58,
   "metadata": {},
   "outputs": [],
   "source": [
    "# 학습 데이터\n",
    "train = [\n",
    "    ('메리가 좋아','pos'),\n",
    "    ('고양이도 좋아','pos'),\n",
    "    ('난 운동이 지루해','neg'),\n",
    "    ('메리는 이쁜 고양이야','pos'),\n",
    "    ('난 마치고 메리랑 놀거야','pos')\n",
    "]"
   ]
  },
  {
   "cell_type": "code",
   "execution_count": 59,
   "metadata": {},
   "outputs": [],
   "source": [
    "# 말뭉치 생성\n",
    "words = set( word for sentence in train for word in word_tokenize(sentence[0]))"
   ]
  },
  {
   "cell_type": "code",
   "execution_count": 62,
   "metadata": {},
   "outputs": [
    {
     "data": {
      "text/plain": [
       "12"
      ]
     },
     "execution_count": 62,
     "metadata": {},
     "output_type": "execute_result"
    }
   ],
   "source": [
    "len(words)"
   ]
  },
  {
   "cell_type": "code",
   "execution_count": 61,
   "metadata": {},
   "outputs": [
    {
     "name": "stdout",
     "output_type": "stream",
     "text": [
      "[({'이쁜': False, '난': False, '고양이도': False, '좋아': True, '메리랑': False, '놀거야': False, '고양이야': False, '운동이': False, '지루해': False, '메리는': False, '마치고': False, '메리가': True}, 'pos'), ({'이쁜': False, '난': False, '고양이도': True, '좋아': True, '메리랑': False, '놀거야': False, '고양이야': False, '운동이': False, '지루해': False, '메리는': False, '마치고': False, '메리가': False}, 'pos'), ({'이쁜': False, '난': True, '고양이도': False, '좋아': False, '메리랑': False, '놀거야': False, '고양이야': False, '운동이': True, '지루해': True, '메리는': False, '마치고': False, '메리가': False}, 'neg'), ({'이쁜': True, '난': False, '고양이도': False, '좋아': False, '메리랑': False, '놀거야': False, '고양이야': True, '운동이': False, '지루해': False, '메리는': True, '마치고': False, '메리가': False}, 'pos'), ({'이쁜': False, '난': True, '고양이도': False, '좋아': False, '메리랑': True, '놀거야': True, '고양이야': False, '운동이': False, '지루해': False, '메리는': False, '마치고': True, '메리가': False}, 'pos')]\n"
     ]
    }
   ],
   "source": [
    "t = [({word: word in x[0] for word in words},x[1]) for x in train]\n",
    "print(t)"
   ]
  },
  {
   "cell_type": "code",
   "execution_count": 63,
   "metadata": {},
   "outputs": [
    {
     "name": "stdout",
     "output_type": "stream",
     "text": [
      "Most Informative Features\n",
      "                       난 = True              neg : pos    =      2.5 : 1.0\n",
      "                      좋아 = False             neg : pos    =      1.5 : 1.0\n",
      "                     마치고 = False             neg : pos    =      1.1 : 1.0\n",
      "                     놀거야 = False             neg : pos    =      1.1 : 1.0\n",
      "                     메리는 = False             neg : pos    =      1.1 : 1.0\n",
      "                    고양이야 = False             neg : pos    =      1.1 : 1.0\n",
      "                     메리랑 = False             neg : pos    =      1.1 : 1.0\n",
      "                     메리가 = False             neg : pos    =      1.1 : 1.0\n",
      "                      이쁜 = False             neg : pos    =      1.1 : 1.0\n",
      "                    고양이도 = False             neg : pos    =      1.1 : 1.0\n"
     ]
    }
   ],
   "source": [
    "classifier = nltk.NaiveBayesClassifier.train(t)\n",
    "classifier.show_most_informative_features()"
   ]
  },
  {
   "cell_type": "code",
   "execution_count": 64,
   "metadata": {},
   "outputs": [
    {
     "data": {
      "text/plain": [
       "{'이쁜': False,\n",
       " '난': True,\n",
       " '고양이도': False,\n",
       " '좋아': False,\n",
       " '메리랑': True,\n",
       " '놀거야': True,\n",
       " '고양이야': False,\n",
       " '운동이': False,\n",
       " '지루해': False,\n",
       " '메리는': False,\n",
       " '마치고': False,\n",
       " '메리가': False}"
      ]
     },
     "execution_count": 64,
     "metadata": {},
     "output_type": "execute_result"
    }
   ],
   "source": [
    "# 신규 데이터를 넣어서 => 예측 =>\n",
    "test_sentence = '난 수업을 마치면 메리랑 놀거야'\n",
    "# 테스트 데이터에 대해 형태그를 구성하여 판정\n",
    "# 딕셔너리 형태로 구성{말뭉치 : True/False}\n",
    "# test_sentence_feature = { element : element in words for element in word_tokenize(test_sentence)}\n",
    "test_sentence_feature = {word: word in word_tokenize(test_sentence) for word in words}\n",
    "test_sentence_feature\n"
   ]
  },
  {
   "cell_type": "code",
   "execution_count": 65,
   "metadata": {},
   "outputs": [
    {
     "data": {
      "text/plain": [
       "'pos'"
      ]
     },
     "execution_count": 65,
     "metadata": {},
     "output_type": "execute_result"
    }
   ],
   "source": [
    "# 판정\n",
    "classifier.classify(test_sentence_feature)"
   ]
  },
  {
   "cell_type": "code",
   "execution_count": 69,
   "metadata": {},
   "outputs": [],
   "source": [
    "txt=('메리가좋아','pos')"
   ]
  },
  {
   "cell_type": "markdown",
   "metadata": {},
   "source": [
    "## => 이상함.\n",
    "- 한글은 단어 분석만으로는 정확하게 예측이 힘들다.\n",
    "- 형태소 분석을 사용해야 한다."
   ]
  },
  {
   "cell_type": "code",
   "execution_count": 70,
   "metadata": {},
   "outputs": [
    {
     "data": {
      "text/plain": [
       "[('메리', 'Noun'), ('가', 'Josa'), ('좋다', 'Adjective')]"
      ]
     },
     "execution_count": 70,
     "metadata": {},
     "output_type": "execute_result"
    }
   ],
   "source": [
    "# 형태소 처리 \n",
    "# norm : 정규화 단어(normalize tokens)\n",
    "# stem : 줄기 단어(stem tokens)\n",
    "ok.pos(txt[0], norm=True, stem=True)\n",
    "# 우리가 원하는 형태 : 메리/Noun\n",
    "# [('메리', 'Noun'), ('가', 'Josa'), ('좋다', 'Adjective')] 명사,조사,형용사"
   ]
  },
  {
   "cell_type": "code",
   "execution_count": 74,
   "metadata": {},
   "outputs": [
    {
     "data": {
      "text/plain": [
       "['메리/Noun', '가/Josa', '좋다/Adjective']"
      ]
     },
     "execution_count": 74,
     "metadata": {},
     "output_type": "execute_result"
    }
   ],
   "source": [
    "['%s/%s' % (element[0],element[1]) for element in ok.pos(txt[0], norm=True, stem=True)]\n",
    "# ['/'.join(element) for element in ok.pos(txt[0], norm=True, stem=True)]"
   ]
  },
  {
   "cell_type": "code",
   "execution_count": 77,
   "metadata": {},
   "outputs": [],
   "source": [
    "# 표현이 복잡한데 반복해서 사용해야 하니 함수로 일단 대체\n",
    "def okTokenize(txt):\n",
    "    return ['/'.join(element) for element in ok.pos(txt, norm=True, stem=True)] #한줄짜리라 lambda로도 가능"
   ]
  },
  {
   "cell_type": "code",
   "execution_count": 78,
   "metadata": {},
   "outputs": [
    {
     "data": {
      "text/plain": [
       "['메리/Noun', '가/Josa', '좋다/Adjective']"
      ]
     },
     "execution_count": 78,
     "metadata": {},
     "output_type": "execute_result"
    }
   ],
   "source": [
    "okTokenize(txt[0])"
   ]
  },
  {
   "cell_type": "code",
   "execution_count": 79,
   "metadata": {},
   "outputs": [
    {
     "data": {
      "text/plain": [
       "[('메리가 좋아', 'pos'),\n",
       " ('고양이도 좋아', 'pos'),\n",
       " ('난 운동이 지루해', 'neg'),\n",
       " ('메리는 이쁜 고양이야', 'pos'),\n",
       " ('난 마치고 메리랑 놀거야', 'pos')]"
      ]
     },
     "execution_count": 79,
     "metadata": {},
     "output_type": "execute_result"
    }
   ],
   "source": [
    "# 훈련 데이터 교체\n",
    "train"
   ]
  },
  {
   "cell_type": "code",
   "execution_count": 80,
   "metadata": {},
   "outputs": [],
   "source": [
    "train = [(okTokenize(t[0]),t[1]) for t in train ]"
   ]
  },
  {
   "cell_type": "code",
   "execution_count": 81,
   "metadata": {},
   "outputs": [
    {
     "data": {
      "text/plain": [
       "[(['메리/Noun', '가/Josa', '좋다/Adjective'], 'pos'),\n",
       " (['고양이/Noun', '도/Josa', '좋다/Adjective'], 'pos'),\n",
       " (['난/Noun', '운동/Noun', '이/Josa', '지루하다/Adjective'], 'neg'),\n",
       " (['메리/Noun', '는/Josa', '이쁘다/Adjective', '고양이/Noun', '야/Josa'], 'pos'),\n",
       " (['난/Noun', '마치/Noun', '고/Josa', '메리/Noun', '랑/Josa', '놀다/Verb'], 'pos')]"
      ]
     },
     "execution_count": 81,
     "metadata": {},
     "output_type": "execute_result"
    }
   ],
   "source": [
    "train"
   ]
  },
  {
   "cell_type": "code",
   "execution_count": 103,
   "metadata": {},
   "outputs": [
    {
     "data": {
      "text/plain": [
       "['도/Josa',\n",
       " '메리/Noun',\n",
       " '고/Josa',\n",
       " '이/Josa',\n",
       " '마치/Noun',\n",
       " '야/Josa',\n",
       " '가/Josa',\n",
       " '지루하다/Adjective',\n",
       " '난/Noun',\n",
       " '랑/Josa',\n",
       " '좋다/Adjective',\n",
       " '놀다/Verb',\n",
       " '고양이/Noun',\n",
       " '운동/Noun',\n",
       " '는/Josa',\n",
       " '이쁘다/Adjective']"
      ]
     },
     "execution_count": 103,
     "metadata": {},
     "output_type": "execute_result"
    }
   ],
   "source": [
    "# 말뭉치 생성\n",
    "# 말 뭉치 생성\n",
    "tokens = list(set(word for t in train for word in t[0]))\n",
    "tokens\n",
    "\n",
    "\n",
    "# word_list=[]\n",
    "# for words in train :\n",
    "#     for word in words[0]:\n",
    "#         word_list.append(word)\n",
    "# set(word_list)"
   ]
  },
  {
   "cell_type": "code",
   "execution_count": 111,
   "metadata": {},
   "outputs": [
    {
     "name": "stdout",
     "output_type": "stream",
     "text": [
      "{'도/Josa': False, '메리/Noun': True, '고/Josa': False, '이/Josa': False, '마치/Noun': False, '야/Josa': False, '가/Josa': True, '지루하다/Adjective': False, '난/Noun': False, '랑/Josa': False, '좋다/Adjective': True, '놀다/Verb': False, '고양이/Noun': False, '운동/Noun': False, '는/Josa': False, '이쁘다/Adjective': False}\n",
      "{'도/Josa': True, '메리/Noun': False, '고/Josa': False, '이/Josa': False, '마치/Noun': False, '야/Josa': False, '가/Josa': False, '지루하다/Adjective': False, '난/Noun': False, '랑/Josa': False, '좋다/Adjective': True, '놀다/Verb': False, '고양이/Noun': True, '운동/Noun': False, '는/Josa': False, '이쁘다/Adjective': False}\n",
      "{'도/Josa': False, '메리/Noun': False, '고/Josa': False, '이/Josa': True, '마치/Noun': False, '야/Josa': False, '가/Josa': False, '지루하다/Adjective': True, '난/Noun': True, '랑/Josa': False, '좋다/Adjective': False, '놀다/Verb': False, '고양이/Noun': False, '운동/Noun': True, '는/Josa': False, '이쁘다/Adjective': False}\n",
      "{'도/Josa': False, '메리/Noun': True, '고/Josa': False, '이/Josa': False, '마치/Noun': False, '야/Josa': True, '가/Josa': False, '지루하다/Adjective': False, '난/Noun': False, '랑/Josa': False, '좋다/Adjective': False, '놀다/Verb': False, '고양이/Noun': True, '운동/Noun': False, '는/Josa': True, '이쁘다/Adjective': True}\n",
      "{'도/Josa': False, '메리/Noun': True, '고/Josa': True, '이/Josa': False, '마치/Noun': True, '야/Josa': False, '가/Josa': False, '지루하다/Adjective': False, '난/Noun': True, '랑/Josa': True, '좋다/Adjective': False, '놀다/Verb': True, '고양이/Noun': False, '운동/Noun': False, '는/Josa': False, '이쁘다/Adjective': False}\n"
     ]
    }
   ],
   "source": [
    "# 최종 훈련 데이터 모습\n",
    "# ({'메리/Noun':True, '가/Josa':True, ...})\n",
    "for doc in train:\n",
    "    print({word : word in doc[0] for word in tokens} )    "
   ]
  },
  {
   "cell_type": "code",
   "execution_count": 107,
   "metadata": {},
   "outputs": [],
   "source": [
    "## 강사님꺼\n",
    "def makePosCheck(doc):\n",
    "    return {word:(word in set(doc)) for word in tokens}"
   ]
  },
  {
   "cell_type": "code",
   "execution_count": 109,
   "metadata": {},
   "outputs": [],
   "source": [
    "train_han = [(makePosCheck(sentence),pos_neg) for sentence, pos_neg in train]"
   ]
  },
  {
   "cell_type": "code",
   "execution_count": 110,
   "metadata": {},
   "outputs": [
    {
     "data": {
      "text/plain": [
       "[({'도/Josa': False,\n",
       "   '메리/Noun': True,\n",
       "   '고/Josa': False,\n",
       "   '이/Josa': False,\n",
       "   '마치/Noun': False,\n",
       "   '야/Josa': False,\n",
       "   '가/Josa': True,\n",
       "   '지루하다/Adjective': False,\n",
       "   '난/Noun': False,\n",
       "   '랑/Josa': False,\n",
       "   '좋다/Adjective': True,\n",
       "   '놀다/Verb': False,\n",
       "   '고양이/Noun': False,\n",
       "   '운동/Noun': False,\n",
       "   '는/Josa': False,\n",
       "   '이쁘다/Adjective': False},\n",
       "  'pos'),\n",
       " ({'도/Josa': True,\n",
       "   '메리/Noun': False,\n",
       "   '고/Josa': False,\n",
       "   '이/Josa': False,\n",
       "   '마치/Noun': False,\n",
       "   '야/Josa': False,\n",
       "   '가/Josa': False,\n",
       "   '지루하다/Adjective': False,\n",
       "   '난/Noun': False,\n",
       "   '랑/Josa': False,\n",
       "   '좋다/Adjective': True,\n",
       "   '놀다/Verb': False,\n",
       "   '고양이/Noun': True,\n",
       "   '운동/Noun': False,\n",
       "   '는/Josa': False,\n",
       "   '이쁘다/Adjective': False},\n",
       "  'pos'),\n",
       " ({'도/Josa': False,\n",
       "   '메리/Noun': False,\n",
       "   '고/Josa': False,\n",
       "   '이/Josa': True,\n",
       "   '마치/Noun': False,\n",
       "   '야/Josa': False,\n",
       "   '가/Josa': False,\n",
       "   '지루하다/Adjective': True,\n",
       "   '난/Noun': True,\n",
       "   '랑/Josa': False,\n",
       "   '좋다/Adjective': False,\n",
       "   '놀다/Verb': False,\n",
       "   '고양이/Noun': False,\n",
       "   '운동/Noun': True,\n",
       "   '는/Josa': False,\n",
       "   '이쁘다/Adjective': False},\n",
       "  'neg'),\n",
       " ({'도/Josa': False,\n",
       "   '메리/Noun': True,\n",
       "   '고/Josa': False,\n",
       "   '이/Josa': False,\n",
       "   '마치/Noun': False,\n",
       "   '야/Josa': True,\n",
       "   '가/Josa': False,\n",
       "   '지루하다/Adjective': False,\n",
       "   '난/Noun': False,\n",
       "   '랑/Josa': False,\n",
       "   '좋다/Adjective': False,\n",
       "   '놀다/Verb': False,\n",
       "   '고양이/Noun': True,\n",
       "   '운동/Noun': False,\n",
       "   '는/Josa': True,\n",
       "   '이쁘다/Adjective': True},\n",
       "  'pos'),\n",
       " ({'도/Josa': False,\n",
       "   '메리/Noun': True,\n",
       "   '고/Josa': True,\n",
       "   '이/Josa': False,\n",
       "   '마치/Noun': True,\n",
       "   '야/Josa': False,\n",
       "   '가/Josa': False,\n",
       "   '지루하다/Adjective': False,\n",
       "   '난/Noun': True,\n",
       "   '랑/Josa': True,\n",
       "   '좋다/Adjective': False,\n",
       "   '놀다/Verb': True,\n",
       "   '고양이/Noun': False,\n",
       "   '운동/Noun': False,\n",
       "   '는/Josa': False,\n",
       "   '이쁘다/Adjective': False},\n",
       "  'pos')]"
      ]
     },
     "execution_count": 110,
     "metadata": {},
     "output_type": "execute_result"
    }
   ],
   "source": [
    "train_han"
   ]
  },
  {
   "cell_type": "code",
   "execution_count": 112,
   "metadata": {},
   "outputs": [
    {
     "name": "stdout",
     "output_type": "stream",
     "text": [
      "Most Informative Features\n",
      "                 메리/Noun = False             neg : pos    =      2.5 : 1.0\n",
      "                  난/Noun = True              neg : pos    =      2.5 : 1.0\n",
      "                고양이/Noun = False             neg : pos    =      1.5 : 1.0\n",
      "            좋다/Adjective = False             neg : pos    =      1.5 : 1.0\n",
      "                  가/Josa = False             neg : pos    =      1.1 : 1.0\n",
      "                  고/Josa = False             neg : pos    =      1.1 : 1.0\n",
      "                  는/Josa = False             neg : pos    =      1.1 : 1.0\n",
      "                 놀다/Verb = False             neg : pos    =      1.1 : 1.0\n",
      "                  랑/Josa = False             neg : pos    =      1.1 : 1.0\n",
      "                  야/Josa = False             neg : pos    =      1.1 : 1.0\n"
     ]
    }
   ],
   "source": [
    "classifier = nltk.NaiveBayesClassifier.train(train_han)\n",
    "classifier.show_most_informative_features()"
   ]
  },
  {
   "cell_type": "code",
   "execution_count": 113,
   "metadata": {},
   "outputs": [],
   "source": [
    "# 예측\n",
    "test_sentence=[('난 운동이 끝나면 메리랑 놀거야')]"
   ]
  },
  {
   "cell_type": "code",
   "execution_count": 119,
   "metadata": {},
   "outputs": [
    {
     "data": {
      "text/plain": [
       "['난/Noun', '운동/Noun', '이/Josa', '끝나다/Verb', '메리/Noun', '랑/Josa', '놀다/Verb']"
      ]
     },
     "execution_count": 119,
     "metadata": {},
     "output_type": "execute_result"
    }
   ],
   "source": [
    "# 형태소 획득 \n",
    "# test_pos = ok.pos(test_sentence)\n",
    "# test_pos\n",
    "test_pos = okTokenize(test_sentence[0])\n",
    "test_pos\n"
   ]
  },
  {
   "cell_type": "code",
   "execution_count": 120,
   "metadata": {},
   "outputs": [
    {
     "data": {
      "text/plain": [
       "{'도/Josa': False,\n",
       " '메리/Noun': True,\n",
       " '고/Josa': False,\n",
       " '이/Josa': True,\n",
       " '마치/Noun': False,\n",
       " '야/Josa': False,\n",
       " '가/Josa': False,\n",
       " '지루하다/Adjective': False,\n",
       " '난/Noun': True,\n",
       " '랑/Josa': True,\n",
       " '좋다/Adjective': False,\n",
       " '놀다/Verb': True,\n",
       " '고양이/Noun': False,\n",
       " '운동/Noun': True,\n",
       " '는/Josa': False,\n",
       " '이쁘다/Adjective': False}"
      ]
     },
     "execution_count": 120,
     "metadata": {},
     "output_type": "execute_result"
    }
   ],
   "source": [
    "test_pos_feature = makePosCheck(test_pos)\n",
    "test_pos_feature"
   ]
  },
  {
   "cell_type": "code",
   "execution_count": 121,
   "metadata": {},
   "outputs": [
    {
     "data": {
      "text/plain": [
       "'neg'"
      ]
     },
     "execution_count": 121,
     "metadata": {},
     "output_type": "execute_result"
    }
   ],
   "source": [
    "classifier.classify(test_pos_feature)"
   ]
  },
  {
   "cell_type": "code",
   "execution_count": null,
   "metadata": {},
   "outputs": [],
   "source": []
  }
 ],
 "metadata": {
  "kernelspec": {
   "display_name": "Python 3",
   "language": "python",
   "name": "python3"
  },
  "language_info": {
   "codemirror_mode": {
    "name": "ipython",
    "version": 3
   },
   "file_extension": ".py",
   "mimetype": "text/x-python",
   "name": "python",
   "nbconvert_exporter": "python",
   "pygments_lexer": "ipython3",
   "version": "3.6.5"
  }
 },
 "nbformat": 4,
 "nbformat_minor": 2
}
