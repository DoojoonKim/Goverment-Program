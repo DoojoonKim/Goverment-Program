{
 "cells": [
  {
   "cell_type": "code",
   "execution_count": 1,
   "metadata": {},
   "outputs": [],
   "source": [
    "# 크롤링실습\n",
    "# 인터파크 투어접속\n",
    "# 파리로 검색=[]\n",
    "# 패키지 상품 이름, 가격, 기간, 평점, 썸네일 주소,\n",
    "#, 세부 내용 주소 획득\n",
    "# 세부 내용 들어가서 상품 특징 획득\n",
    "# 해당 전체 목록을 다 수집해서 디비에 입력"
   ]
  },
  {
   "cell_type": "code",
   "execution_count": 2,
   "metadata": {},
   "outputs": [],
   "source": [
    "#from bs4 import BeautifulSoup\n",
    "from selenium import webdriver as wd"
   ]
  },
  {
   "cell_type": "code",
   "execution_count": 3,
   "metadata": {},
   "outputs": [],
   "source": [
    "# 크롤링 실습\n",
    "#기본 접속\n",
    "driver = wd.Chrome('./data/chromedriver.exe')\n",
    "driver.get('http://search-tour.interpark.com/PC/Result?search=%ED%8C%8C%EB%A6%AC&code1=R&code2=')"
   ]
  },
  {
   "cell_type": "code",
   "execution_count": 4,
   "metadata": {},
   "outputs": [],
   "source": [
    "# 각 항목 배열 생성\n",
    "name_list=[]\n",
    "price_list=[]\n",
    "period_list=[]\n",
    "score_list=[]\n",
    "thumb_nail_list=[]\n"
   ]
  },
  {
   "cell_type": "code",
   "execution_count": 5,
   "metadata": {},
   "outputs": [],
   "source": [
    "period_list=[]"
   ]
  },
  {
   "cell_type": "code",
   "execution_count": 6,
   "metadata": {},
   "outputs": [],
   "source": [
    "names = driver.find_elements_by_css_selector('.proTit')"
   ]
  },
  {
   "cell_type": "code",
   "execution_count": 7,
   "metadata": {},
   "outputs": [],
   "source": [
    "prices = driver.find_elements_by_css_selector('.proPrice')"
   ]
  },
  {
   "cell_type": "code",
   "execution_count": 8,
   "metadata": {},
   "outputs": [],
   "source": [
    "period_scores = driver.find_elements_by_css_selector('.proInfo')"
   ]
  },
  {
   "cell_type": "code",
   "execution_count": 9,
   "metadata": {},
   "outputs": [],
   "source": [
    "for name in names:\n",
    "    name_list.append(name.text)"
   ]
  },
  {
   "cell_type": "code",
   "execution_count": 10,
   "metadata": {},
   "outputs": [],
   "source": [
    "for price in prices:\n",
    "    price_list.append(price.text[:price.text.index('원')])"
   ]
  },
  {
   "cell_type": "code",
   "execution_count": 11,
   "metadata": {},
   "outputs": [
    {
     "data": {
      "text/plain": [
       "'oom'"
      ]
     },
     "execution_count": 11,
     "metadata": {},
     "output_type": "execute_result"
    }
   ],
   "source": [
    "a = 'oome'\n",
    "a[a.index('o'):a.index('m')+1]\n"
   ]
  },
  {
   "cell_type": "code",
   "execution_count": 14,
   "metadata": {
    "scrolled": true
   },
   "outputs": [],
   "source": [
    "i = 0\n",
    "for element in period_scores:\n",
    "    j = i // 2\n",
    "    naeyong = element.text\n",
    "    if i % 2==0:\n",
    "        if j % 2 ==0:\n",
    "            # 여행 기간: 이후 일까지\n",
    "            \n",
    "            period_list.append(naeyong[naeyong.index(':')+1: naeyong.index('일')+1])\n",
    "        else:\n",
    "            score_list.append(naeyong.split()[1])\n",
    "    i+=1\n",
    "# 0 0\n",
    "#  1\n",
    "# 2 1\n",
    "#  1\n",
    "# 4 2\n",
    "#  2\n",
    "# 6 3\n",
    "# 8 4 \n"
   ]
  },
  {
   "cell_type": "code",
   "execution_count": 15,
   "metadata": {},
   "outputs": [],
   "source": [
    "thumb_nails = driver.find_elements_by_css_selector('.img')"
   ]
  },
  {
   "cell_type": "code",
   "execution_count": 16,
   "metadata": {},
   "outputs": [],
   "source": [
    "for thumb in thumb_nails:\n",
    "    #print(thumb.tag_name)\n",
    "    #print(thumb.rect)\n",
    "    thumb_nail_list.append(thumb.get_attribute('src'))\n",
    "    #print(thumb.find_element_by_tag_name('src'))"
   ]
  },
  {
   "cell_type": "code",
   "execution_count": 19,
   "metadata": {},
   "outputs": [],
   "source": [
    "import pandas as pd"
   ]
  },
  {
   "cell_type": "code",
   "execution_count": 17,
   "metadata": {},
   "outputs": [
    {
     "data": {
      "text/plain": [
       "(11, 11, 11, 11, 11)"
      ]
     },
     "execution_count": 17,
     "metadata": {},
     "output_type": "execute_result"
    }
   ],
   "source": [
    "len(name_list),len(price_list),len(period_list),len(score_list),len(thumb_nail_list)"
   ]
  },
  {
   "cell_type": "code",
   "execution_count": 20,
   "metadata": {},
   "outputs": [
    {
     "data": {
      "text/html": [
       "<div>\n",
       "<style scoped>\n",
       "    .dataframe tbody tr th:only-of-type {\n",
       "        vertical-align: middle;\n",
       "    }\n",
       "\n",
       "    .dataframe tbody tr th {\n",
       "        vertical-align: top;\n",
       "    }\n",
       "\n",
       "    .dataframe thead th {\n",
       "        text-align: right;\n",
       "    }\n",
       "</style>\n",
       "<table border=\"1\" class=\"dataframe\">\n",
       "  <thead>\n",
       "    <tr style=\"text-align: right;\">\n",
       "      <th></th>\n",
       "      <th>name</th>\n",
       "      <th>price</th>\n",
       "      <th>period</th>\n",
       "      <th>score</th>\n",
       "      <th>thumbnail</th>\n",
       "    </tr>\n",
       "  </thead>\n",
       "  <tbody>\n",
       "    <tr>\n",
       "      <th>0</th>\n",
       "      <td>[직항★아시아나항공] 서유럽4국 10일_완전정복</td>\n",
       "      <td>2,384,400</td>\n",
       "      <td>8박10일</td>\n",
       "      <td>9.1</td>\n",
       "      <td>http://tourimage.interpark.com/product/tour/00...</td>\n",
       "    </tr>\n",
       "    <tr>\n",
       "      <th>1</th>\n",
       "      <td>[유럽 허니문] 럭셔리 파리 &amp; 체코 8일</td>\n",
       "      <td>2,790,000</td>\n",
       "      <td>5박8일</td>\n",
       "      <td>0</td>\n",
       "      <td>http://tourimage.interpark.com/product/tour/00...</td>\n",
       "    </tr>\n",
       "    <tr>\n",
       "      <th>2</th>\n",
       "      <td>[KE사전발권특가 : 파리/스위스 7일]</td>\n",
       "      <td>2,038,400</td>\n",
       "      <td>5박7일</td>\n",
       "      <td>9.4</td>\n",
       "      <td>http://tourimage.interpark.com/product/tour/00...</td>\n",
       "    </tr>\n",
       "    <tr>\n",
       "      <th>3</th>\n",
       "      <td>♥직항으로 떠나는♥ 파리 자유허니문 6일</td>\n",
       "      <td>2,134,500</td>\n",
       "      <td>4박6일</td>\n",
       "      <td>9</td>\n",
       "      <td>http://tourimage.interpark.com/product/tour/00...</td>\n",
       "    </tr>\n",
       "    <tr>\n",
       "      <th>4</th>\n",
       "      <td>L.o.v.e. I.n 파리♥프라하 자유허니문 8일</td>\n",
       "      <td>2,580,000</td>\n",
       "      <td>6박8일</td>\n",
       "      <td>10</td>\n",
       "      <td>http://tourimage.interpark.com/product/tour/00...</td>\n",
       "    </tr>\n",
       "    <tr>\n",
       "      <th>5</th>\n",
       "      <td>[유럽 허니문] 럭셔리 파리 &amp; 베니스 &amp; 로마 8일</td>\n",
       "      <td>2,900,000</td>\n",
       "      <td>4박7일</td>\n",
       "      <td>0</td>\n",
       "      <td>http://tourimage.interpark.com/product/tour/00...</td>\n",
       "    </tr>\n",
       "    <tr>\n",
       "      <th>6</th>\n",
       "      <td>[유럽 허니문] 럭셔리 파리 &amp; 베니스 &amp; 로마 9일</td>\n",
       "      <td>3,100,000</td>\n",
       "      <td>6박9일</td>\n",
       "      <td>0</td>\n",
       "      <td>http://tourimage.interpark.com/product/tour/00...</td>\n",
       "    </tr>\n",
       "    <tr>\n",
       "      <th>7</th>\n",
       "      <td>[유럽 허니문] 파리 &amp; 베니스 &amp; 피렌체 &amp; 로마 9일</td>\n",
       "      <td>3,070,000</td>\n",
       "      <td>6박9일</td>\n",
       "      <td>0</td>\n",
       "      <td>http://tourimage.interpark.com/product/tour/00...</td>\n",
       "    </tr>\n",
       "    <tr>\n",
       "      <th>8</th>\n",
       "      <td>[PACK EASY]서유럽3국8일_파리자유관광</td>\n",
       "      <td>1,290,000</td>\n",
       "      <td>6박9일</td>\n",
       "      <td>0</td>\n",
       "      <td>http://tourimage.interpark.com/product/tour/00...</td>\n",
       "    </tr>\n",
       "    <tr>\n",
       "      <th>9</th>\n",
       "      <td>파리/스트라스부르/융프라우/루체른 8일</td>\n",
       "      <td>2,147,400</td>\n",
       "      <td>6박8일</td>\n",
       "      <td>9.4</td>\n",
       "      <td>http://tourimage.interpark.com/product/tour/00...</td>\n",
       "    </tr>\n",
       "    <tr>\n",
       "      <th>10</th>\n",
       "      <td>[대한항공 직항] 파리/베니스/로마 8일</td>\n",
       "      <td>1,720,400</td>\n",
       "      <td>6박8일</td>\n",
       "      <td>9.3</td>\n",
       "      <td>http://tourimage.interpark.com/product/tour/00...</td>\n",
       "    </tr>\n",
       "  </tbody>\n",
       "</table>\n",
       "</div>"
      ],
      "text/plain": [
       "                               name       price  period score  \\\n",
       "0        [직항★아시아나항공] 서유럽4국 10일_완전정복  2,384,400    8박10일   9.1   \n",
       "1           [유럽 허니문] 럭셔리 파리 & 체코 8일  2,790,000     5박8일     0   \n",
       "2            [KE사전발권특가 : 파리/스위스 7일]  2,038,400     5박7일   9.4   \n",
       "3            ♥직항으로 떠나는♥ 파리 자유허니문 6일  2,134,500     4박6일     9   \n",
       "4      L.o.v.e. I.n 파리♥프라하 자유허니문 8일  2,580,000     6박8일    10   \n",
       "5     [유럽 허니문] 럭셔리 파리 & 베니스 & 로마 8일  2,900,000     4박7일     0   \n",
       "6     [유럽 허니문] 럭셔리 파리 & 베니스 & 로마 9일  3,100,000     6박9일     0   \n",
       "7   [유럽 허니문] 파리 & 베니스 & 피렌체 & 로마 9일  3,070,000     6박9일     0   \n",
       "8         [PACK EASY]서유럽3국8일_파리자유관광  1,290,000     6박9일     0   \n",
       "9             파리/스트라스부르/융프라우/루체른 8일  2,147,400     6박8일   9.4   \n",
       "10           [대한항공 직항] 파리/베니스/로마 8일  1,720,400     6박8일   9.3   \n",
       "\n",
       "                                            thumbnail  \n",
       "0   http://tourimage.interpark.com/product/tour/00...  \n",
       "1   http://tourimage.interpark.com/product/tour/00...  \n",
       "2   http://tourimage.interpark.com/product/tour/00...  \n",
       "3   http://tourimage.interpark.com/product/tour/00...  \n",
       "4   http://tourimage.interpark.com/product/tour/00...  \n",
       "5   http://tourimage.interpark.com/product/tour/00...  \n",
       "6   http://tourimage.interpark.com/product/tour/00...  \n",
       "7   http://tourimage.interpark.com/product/tour/00...  \n",
       "8   http://tourimage.interpark.com/product/tour/00...  \n",
       "9   http://tourimage.interpark.com/product/tour/00...  \n",
       "10  http://tourimage.interpark.com/product/tour/00...  "
      ]
     },
     "execution_count": 20,
     "metadata": {},
     "output_type": "execute_result"
    }
   ],
   "source": [
    "# 패키지 상품 이름, 가격, 기간, 평점, 썸네일 주소,\n",
    "pd.DataFrame({'name':name_list,'price':price_list,'period':period_list,'score':score_list,'thumbnail':thumb_nail_list})"
   ]
  },
  {
   "cell_type": "code",
   "execution_count": null,
   "metadata": {},
   "outputs": [],
   "source": [
    "# 확장\n",
    "# 1. 페이지 넘어 간후에 다시 긁기\n",
    "# 2. 페이지 끝까지 넘어가게 하기\n"
   ]
  },
  {
   "cell_type": "code",
   "execution_count": 22,
   "metadata": {},
   "outputs": [],
   "source": [
    "pageNumBox=driver.find_element_by_css_selector('.pageNumBox').find_element_by_css_selector('ul')"
   ]
  },
  {
   "cell_type": "code",
   "execution_count": 27,
   "metadata": {},
   "outputs": [],
   "source": [
    "import time"
   ]
  },
  {
   "cell_type": "code",
   "execution_count": 31,
   "metadata": {},
   "outputs": [],
   "source": [
    "# for page in pageNumBox.find_elements_by_css_selector('li'):\n",
    "#     page.click()\n",
    "# 현 코드의 문제점은 페이지 변경이 걸리는 순간 in문의 위치를 잃어 버린다.\n",
    "    "
   ]
  },
  {
   "cell_type": "code",
   "execution_count": null,
   "metadata": {},
   "outputs": [],
   "source": []
  }
 ],
 "metadata": {
  "kernelspec": {
   "display_name": "Python 3",
   "language": "python",
   "name": "python3"
  },
  "language_info": {
   "codemirror_mode": {
    "name": "ipython",
    "version": 3
   },
   "file_extension": ".py",
   "mimetype": "text/x-python",
   "name": "python",
   "nbconvert_exporter": "python",
   "pygments_lexer": "ipython3",
   "version": "3.6.5"
  }
 },
 "nbformat": 4,
 "nbformat_minor": 2
}
