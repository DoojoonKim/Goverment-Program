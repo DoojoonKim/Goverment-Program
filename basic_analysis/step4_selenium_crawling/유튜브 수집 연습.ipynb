{
 "cells": [
  {
   "cell_type": "code",
   "execution_count": 1,
   "metadata": {},
   "outputs": [],
   "source": [
    "from selenium import webdriver as wd"
   ]
  },
  {
   "cell_type": "code",
   "execution_count": 20,
   "metadata": {},
   "outputs": [],
   "source": [
    "driver = wd.Chrome('./data/chromedriver.exe') # 브라우저 띄움. \n",
    "filters = {'hour':'EgQIARAB', # 지난 한시간\n",
    "          'today':'EgQIAhAB', # 오늘\n",
    "          'week':'EgQIAxAB',  # 이번주\n",
    "          'month':'EgQIBBAB',  # 이번달\n",
    "          'year':'EgQIBRAB'}  # 올해\n",
    "word = 'bts'\n",
    "url = 'https://www.youtube.com/results?search_query={word}&sp={date}'.format(word=word,date=filters['today'])"
   ]
  },
  {
   "cell_type": "code",
   "execution_count": 21,
   "metadata": {},
   "outputs": [],
   "source": [
    "driver.get(url) # 해당 url로 접속 "
   ]
  },
  {
   "cell_type": "code",
   "execution_count": 22,
   "metadata": {},
   "outputs": [
    {
     "data": {
      "text/plain": [
       "20"
      ]
     },
     "execution_count": 22,
     "metadata": {},
     "output_type": "execute_result"
    }
   ],
   "source": [
    "def getVideoCount():\n",
    "    return len(driver.find_elements_by_css_selector('ytd-video-renderer'))\n",
    "getVideoCount()"
   ]
  },
  {
   "cell_type": "code",
   "execution_count": 23,
   "metadata": {},
   "outputs": [],
   "source": [
    "import time"
   ]
  },
  {
   "cell_type": "code",
   "execution_count": 24,
   "metadata": {},
   "outputs": [
    {
     "name": "stdout",
     "output_type": "stream",
     "text": [
      "결과 갯수: 219\n"
     ]
    }
   ],
   "source": [
    "past_count = 0\n",
    "# 머무르는 지점 동안은 종료 되면 안됨 \n",
    "iter_num = 0\n",
    "while True:\n",
    "    driver.execute_script('''\n",
    "    window.scrollBy(0,4000)# 이거 숫자가 생각보다 많이 못내려 간다.\n",
    "    ''') # 다 안내려 가는 모습이 좀 보이더라. 그래서 머무르는 지점이 있을 것이다.\n",
    "    time.sleep(1)\n",
    "    \n",
    "    if getVideoCount() == past_count:\n",
    "        iter_num+=1\n",
    "        \n",
    "\n",
    "    if iter_num > 4:    \n",
    "        break\n",
    "        \n",
    "    if getVideoCount() > past_count:\n",
    "        past_count = getVideoCount()\n",
    "        \n",
    "print('결과 갯수:',getVideoCount())"
   ]
  },
  {
   "cell_type": "code",
   "execution_count": null,
   "metadata": {},
   "outputs": [],
   "source": []
  }
 ],
 "metadata": {
  "kernelspec": {
   "display_name": "Python 3",
   "language": "python",
   "name": "python3"
  },
  "language_info": {
   "codemirror_mode": {
    "name": "ipython",
    "version": 3
   },
   "file_extension": ".py",
   "mimetype": "text/x-python",
   "name": "python",
   "nbconvert_exporter": "python",
   "pygments_lexer": "ipython3",
   "version": "3.6.5"
  }
 },
 "nbformat": 4,
 "nbformat_minor": 2
}
