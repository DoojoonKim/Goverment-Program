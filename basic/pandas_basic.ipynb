{
 "cells": [
  {
   "cell_type": "markdown",
   "metadata": {},
   "source": [
    "### pandas\n",
    "- R언어의 핵심 기능인 DataFrame, Series를 파이썬에 추가한 것\n",
    "- numpy위에 구현\n",
    "- numpy를 좀 더 폭넓게 표현\n",
    "- 분석용 라이브러리로 각광\n"
   ]
  },
  {
   "cell_type": "code",
   "execution_count": 3,
   "metadata": {},
   "outputs": [],
   "source": [
    "import pandas as pd\n",
    "import numpy as np"
   ]
  },
  {
   "cell_type": "code",
   "execution_count": 9,
   "metadata": {},
   "outputs": [
    {
     "data": {
      "text/plain": [
       "0     1.0\n",
       "1     3.0\n",
       "2     5.0\n",
       "3     NaN\n",
       "4    10.0\n",
       "5    15.0\n",
       "dtype: float64"
      ]
     },
     "execution_count": 9,
     "metadata": {},
     "output_type": "execute_result"
    }
   ],
   "source": [
    "# 데이터 유형 기초 : Series (데이터 프레임 기준 컬럼이 없는 형태, 인덱스만 존재)\n",
    "s = pd.Series([1,3,5,np.nan,10,15])\n",
    "s\n",
    "# array + indices\n",
    "# np.nan => NaN => Not a Number"
   ]
  },
  {
   "cell_type": "code",
   "execution_count": 94,
   "metadata": {},
   "outputs": [
    {
     "data": {
      "text/plain": [
       "DatetimeIndex(['2018-09-29', '2018-09-30', '2018-10-01', '2018-10-02',\n",
       "               '2018-10-03', '2018-10-04'],\n",
       "              dtype='datetime64[ns]', freq='D')"
      ]
     },
     "execution_count": 94,
     "metadata": {},
     "output_type": "execute_result"
    }
   ],
   "source": [
    "# pandas의 데이터 타입 중 날짜형을 기준으로 인덱스 생성\n",
    "dates = pd.date_range('20180929',periods = 6)\n",
    "dates"
   ]
  },
  {
   "cell_type": "code",
   "execution_count": 21,
   "metadata": {},
   "outputs": [
    {
     "data": {
      "text/html": [
       "<div>\n",
       "<style scoped>\n",
       "    .dataframe tbody tr th:only-of-type {\n",
       "        vertical-align: middle;\n",
       "    }\n",
       "\n",
       "    .dataframe tbody tr th {\n",
       "        vertical-align: top;\n",
       "    }\n",
       "\n",
       "    .dataframe thead th {\n",
       "        text-align: right;\n",
       "    }\n",
       "</style>\n",
       "<table border=\"1\" class=\"dataframe\">\n",
       "  <thead>\n",
       "    <tr style=\"text-align: right;\">\n",
       "      <th></th>\n",
       "      <th>A</th>\n",
       "      <th>B</th>\n",
       "      <th>C</th>\n",
       "      <th>D</th>\n",
       "    </tr>\n",
       "  </thead>\n",
       "  <tbody>\n",
       "    <tr>\n",
       "      <th>2018-09-29</th>\n",
       "      <td>0.251464</td>\n",
       "      <td>-0.147523</td>\n",
       "      <td>-0.561578</td>\n",
       "      <td>1.392507</td>\n",
       "    </tr>\n",
       "    <tr>\n",
       "      <th>2018-09-30</th>\n",
       "      <td>0.367146</td>\n",
       "      <td>0.445136</td>\n",
       "      <td>-0.241571</td>\n",
       "      <td>-0.434635</td>\n",
       "    </tr>\n",
       "    <tr>\n",
       "      <th>2018-10-01</th>\n",
       "      <td>-0.439628</td>\n",
       "      <td>0.040170</td>\n",
       "      <td>-0.760960</td>\n",
       "      <td>0.168268</td>\n",
       "    </tr>\n",
       "    <tr>\n",
       "      <th>2018-10-02</th>\n",
       "      <td>0.530520</td>\n",
       "      <td>-1.144927</td>\n",
       "      <td>-1.406527</td>\n",
       "      <td>1.494357</td>\n",
       "    </tr>\n",
       "    <tr>\n",
       "      <th>2018-10-03</th>\n",
       "      <td>0.577937</td>\n",
       "      <td>-0.098738</td>\n",
       "      <td>-0.381949</td>\n",
       "      <td>1.138831</td>\n",
       "    </tr>\n",
       "    <tr>\n",
       "      <th>2018-10-04</th>\n",
       "      <td>0.620890</td>\n",
       "      <td>1.659343</td>\n",
       "      <td>-0.993242</td>\n",
       "      <td>0.314272</td>\n",
       "    </tr>\n",
       "  </tbody>\n",
       "</table>\n",
       "</div>"
      ],
      "text/plain": [
       "                   A         B         C         D\n",
       "2018-09-29  0.251464 -0.147523 -0.561578  1.392507\n",
       "2018-09-30  0.367146  0.445136 -0.241571 -0.434635\n",
       "2018-10-01 -0.439628  0.040170 -0.760960  0.168268\n",
       "2018-10-02  0.530520 -1.144927 -1.406527  1.494357\n",
       "2018-10-03  0.577937 -0.098738 -0.381949  1.138831\n",
       "2018-10-04  0.620890  1.659343 -0.993242  0.314272"
      ]
     },
     "execution_count": 21,
     "metadata": {},
     "output_type": "execute_result"
    }
   ],
   "source": [
    "# 데이터프레임 : 인덱스, 컬럼, 값\n",
    "# 시리즈 : 인덱스, 값 \n",
    "# 데이터 프레임 = 시리즈 + 컬럼\n",
    "# 데이터 프레임의 인덱싱 결과 => 시리즈\n",
    "cols= ['A','B','C','D']\n",
    "df = pd.DataFrame(np.random.randn(6,4),columns=cols,index=dates)\n",
    "# 데이터의 행의 수와 인덱스 수가 일치\n",
    "# 데이터의 열의 수와 컬럼 수가 일치\n",
    "df"
   ]
  },
  {
   "cell_type": "code",
   "execution_count": 24,
   "metadata": {},
   "outputs": [
    {
     "data": {
      "text/html": [
       "<div>\n",
       "<style scoped>\n",
       "    .dataframe tbody tr th:only-of-type {\n",
       "        vertical-align: middle;\n",
       "    }\n",
       "\n",
       "    .dataframe tbody tr th {\n",
       "        vertical-align: top;\n",
       "    }\n",
       "\n",
       "    .dataframe thead th {\n",
       "        text-align: right;\n",
       "    }\n",
       "</style>\n",
       "<table border=\"1\" class=\"dataframe\">\n",
       "  <thead>\n",
       "    <tr style=\"text-align: right;\">\n",
       "      <th></th>\n",
       "      <th>A</th>\n",
       "      <th>B</th>\n",
       "      <th>C</th>\n",
       "      <th>D</th>\n",
       "    </tr>\n",
       "  </thead>\n",
       "  <tbody>\n",
       "    <tr>\n",
       "      <th>2018-09-29</th>\n",
       "      <td>0.251464</td>\n",
       "      <td>-0.147523</td>\n",
       "      <td>-0.561578</td>\n",
       "      <td>1.392507</td>\n",
       "    </tr>\n",
       "    <tr>\n",
       "      <th>2018-09-30</th>\n",
       "      <td>0.367146</td>\n",
       "      <td>0.445136</td>\n",
       "      <td>-0.241571</td>\n",
       "      <td>-0.434635</td>\n",
       "    </tr>\n",
       "    <tr>\n",
       "      <th>2018-10-01</th>\n",
       "      <td>-0.439628</td>\n",
       "      <td>0.040170</td>\n",
       "      <td>-0.760960</td>\n",
       "      <td>0.168268</td>\n",
       "    </tr>\n",
       "    <tr>\n",
       "      <th>2018-10-02</th>\n",
       "      <td>0.530520</td>\n",
       "      <td>-1.144927</td>\n",
       "      <td>-1.406527</td>\n",
       "      <td>1.494357</td>\n",
       "    </tr>\n",
       "    <tr>\n",
       "      <th>2018-10-03</th>\n",
       "      <td>0.577937</td>\n",
       "      <td>-0.098738</td>\n",
       "      <td>-0.381949</td>\n",
       "      <td>1.138831</td>\n",
       "    </tr>\n",
       "  </tbody>\n",
       "</table>\n",
       "</div>"
      ],
      "text/plain": [
       "                   A         B         C         D\n",
       "2018-09-29  0.251464 -0.147523 -0.561578  1.392507\n",
       "2018-09-30  0.367146  0.445136 -0.241571 -0.434635\n",
       "2018-10-01 -0.439628  0.040170 -0.760960  0.168268\n",
       "2018-10-02  0.530520 -1.144927 -1.406527  1.494357\n",
       "2018-10-03  0.577937 -0.098738 -0.381949  1.138831"
      ]
     },
     "execution_count": 24,
     "metadata": {},
     "output_type": "execute_result"
    }
   ],
   "source": [
    "# 위쪽 데이터만 본다.\n",
    "df.head()"
   ]
  },
  {
   "cell_type": "code",
   "execution_count": 25,
   "metadata": {},
   "outputs": [
    {
     "data": {
      "text/plain": [
       "DatetimeIndex(['2018-09-29', '2018-09-30', '2018-10-01', '2018-10-02',\n",
       "               '2018-10-03', '2018-10-04'],\n",
       "              dtype='datetime64[ns]', freq='D')"
      ]
     },
     "execution_count": 25,
     "metadata": {},
     "output_type": "execute_result"
    }
   ],
   "source": [
    "# 인덱스\n",
    "df.index"
   ]
  },
  {
   "cell_type": "code",
   "execution_count": 26,
   "metadata": {},
   "outputs": [
    {
     "data": {
      "text/plain": [
       "Index(['A', 'B', 'C', 'D'], dtype='object')"
      ]
     },
     "execution_count": 26,
     "metadata": {},
     "output_type": "execute_result"
    }
   ],
   "source": [
    "# 컬럼\n",
    "df.columns"
   ]
  },
  {
   "cell_type": "code",
   "execution_count": 31,
   "metadata": {},
   "outputs": [
    {
     "name": "stdout",
     "output_type": "stream",
     "text": [
      "[[ 0.25146369 -0.14752339 -0.56157835  1.39250704]\n",
      " [ 0.36714635  0.44513628 -0.24157113 -0.43463453]\n",
      " [-0.43962752  0.04017043 -0.76095986  0.16826762]\n",
      " [ 0.53052027 -1.14492738 -1.40652686  1.49435697]\n",
      " [ 0.57793745 -0.09873776 -0.38194867  1.13883069]\n",
      " [ 0.6208897   1.65934287 -0.99324219  0.31427206]] <class 'numpy.ndarray'>\n"
     ]
    }
   ],
   "source": [
    "# 값확인 - > numpy의 ndarray\n",
    "print(df.values, type(df.values))"
   ]
  },
  {
   "cell_type": "code",
   "execution_count": 30,
   "metadata": {},
   "outputs": [
    {
     "data": {
      "text/plain": [
       "DatetimeIndex(['2018-09-29', '2018-09-30', '2018-10-01', '2018-10-02',\n",
       "               '2018-10-03', '2018-10-04'],\n",
       "              dtype='datetime64[ns]', freq='D')"
      ]
     },
     "execution_count": 30,
     "metadata": {},
     "output_type": "execute_result"
    }
   ],
   "source": [
    "df.index"
   ]
  },
  {
   "cell_type": "code",
   "execution_count": 36,
   "metadata": {},
   "outputs": [
    {
     "name": "stdout",
     "output_type": "stream",
     "text": [
      "<class 'pandas.core.frame.DataFrame'>\n",
      "DatetimeIndex: 6 entries, 2018-09-29 to 2018-10-04\n",
      "Freq: D\n",
      "Data columns (total 4 columns):\n",
      "A    6 non-null float64\n",
      "B    6 non-null float64\n",
      "C    6 non-null float64\n",
      "D    6 non-null float64\n",
      "dtypes: float64(4)\n",
      "memory usage: 240.0 bytes\n"
     ]
    }
   ],
   "source": [
    "# df의 개요\n",
    "df.info()"
   ]
  },
  {
   "cell_type": "code",
   "execution_count": 37,
   "metadata": {},
   "outputs": [
    {
     "data": {
      "text/html": [
       "<div>\n",
       "<style scoped>\n",
       "    .dataframe tbody tr th:only-of-type {\n",
       "        vertical-align: middle;\n",
       "    }\n",
       "\n",
       "    .dataframe tbody tr th {\n",
       "        vertical-align: top;\n",
       "    }\n",
       "\n",
       "    .dataframe thead th {\n",
       "        text-align: right;\n",
       "    }\n",
       "</style>\n",
       "<table border=\"1\" class=\"dataframe\">\n",
       "  <thead>\n",
       "    <tr style=\"text-align: right;\">\n",
       "      <th></th>\n",
       "      <th>A</th>\n",
       "      <th>B</th>\n",
       "      <th>C</th>\n",
       "      <th>D</th>\n",
       "    </tr>\n",
       "  </thead>\n",
       "  <tbody>\n",
       "    <tr>\n",
       "      <th>count</th>\n",
       "      <td>6.000000</td>\n",
       "      <td>6.000000</td>\n",
       "      <td>6.000000</td>\n",
       "      <td>6.000000</td>\n",
       "    </tr>\n",
       "    <tr>\n",
       "      <th>mean</th>\n",
       "      <td>0.318055</td>\n",
       "      <td>0.125577</td>\n",
       "      <td>-0.724305</td>\n",
       "      <td>0.678933</td>\n",
       "    </tr>\n",
       "    <tr>\n",
       "      <th>std</th>\n",
       "      <td>0.396312</td>\n",
       "      <td>0.916617</td>\n",
       "      <td>0.427976</td>\n",
       "      <td>0.777097</td>\n",
       "    </tr>\n",
       "    <tr>\n",
       "      <th>min</th>\n",
       "      <td>-0.439628</td>\n",
       "      <td>-1.144927</td>\n",
       "      <td>-1.406527</td>\n",
       "      <td>-0.434635</td>\n",
       "    </tr>\n",
       "    <tr>\n",
       "      <th>25%</th>\n",
       "      <td>0.280384</td>\n",
       "      <td>-0.135327</td>\n",
       "      <td>-0.935172</td>\n",
       "      <td>0.204769</td>\n",
       "    </tr>\n",
       "    <tr>\n",
       "      <th>50%</th>\n",
       "      <td>0.448833</td>\n",
       "      <td>-0.029284</td>\n",
       "      <td>-0.661269</td>\n",
       "      <td>0.726551</td>\n",
       "    </tr>\n",
       "    <tr>\n",
       "      <th>75%</th>\n",
       "      <td>0.566083</td>\n",
       "      <td>0.343895</td>\n",
       "      <td>-0.426856</td>\n",
       "      <td>1.329088</td>\n",
       "    </tr>\n",
       "    <tr>\n",
       "      <th>max</th>\n",
       "      <td>0.620890</td>\n",
       "      <td>1.659343</td>\n",
       "      <td>-0.241571</td>\n",
       "      <td>1.494357</td>\n",
       "    </tr>\n",
       "  </tbody>\n",
       "</table>\n",
       "</div>"
      ],
      "text/plain": [
       "              A         B         C         D\n",
       "count  6.000000  6.000000  6.000000  6.000000\n",
       "mean   0.318055  0.125577 -0.724305  0.678933\n",
       "std    0.396312  0.916617  0.427976  0.777097\n",
       "min   -0.439628 -1.144927 -1.406527 -0.434635\n",
       "25%    0.280384 -0.135327 -0.935172  0.204769\n",
       "50%    0.448833 -0.029284 -0.661269  0.726551\n",
       "75%    0.566083  0.343895 -0.426856  1.329088\n",
       "max    0.620890  1.659343 -0.241571  1.494357"
      ]
     },
     "execution_count": 37,
     "metadata": {},
     "output_type": "execute_result"
    }
   ],
   "source": [
    "# 통계적 개요 (개수, 평균, 표준편차, 최소, 최대, 25%지점, 50%지점, 75%지점)\n",
    "df.describe()"
   ]
  },
  {
   "cell_type": "code",
   "execution_count": 38,
   "metadata": {},
   "outputs": [
    {
     "data": {
      "text/html": [
       "<div>\n",
       "<style scoped>\n",
       "    .dataframe tbody tr th:only-of-type {\n",
       "        vertical-align: middle;\n",
       "    }\n",
       "\n",
       "    .dataframe tbody tr th {\n",
       "        vertical-align: top;\n",
       "    }\n",
       "\n",
       "    .dataframe thead th {\n",
       "        text-align: right;\n",
       "    }\n",
       "</style>\n",
       "<table border=\"1\" class=\"dataframe\">\n",
       "  <thead>\n",
       "    <tr style=\"text-align: right;\">\n",
       "      <th></th>\n",
       "      <th>A</th>\n",
       "      <th>B</th>\n",
       "      <th>C</th>\n",
       "      <th>D</th>\n",
       "    </tr>\n",
       "  </thead>\n",
       "  <tbody>\n",
       "    <tr>\n",
       "      <th>2018-09-30</th>\n",
       "      <td>0.367146</td>\n",
       "      <td>0.445136</td>\n",
       "      <td>-0.241571</td>\n",
       "      <td>-0.434635</td>\n",
       "    </tr>\n",
       "    <tr>\n",
       "      <th>2018-10-03</th>\n",
       "      <td>0.577937</td>\n",
       "      <td>-0.098738</td>\n",
       "      <td>-0.381949</td>\n",
       "      <td>1.138831</td>\n",
       "    </tr>\n",
       "    <tr>\n",
       "      <th>2018-09-29</th>\n",
       "      <td>0.251464</td>\n",
       "      <td>-0.147523</td>\n",
       "      <td>-0.561578</td>\n",
       "      <td>1.392507</td>\n",
       "    </tr>\n",
       "    <tr>\n",
       "      <th>2018-10-01</th>\n",
       "      <td>-0.439628</td>\n",
       "      <td>0.040170</td>\n",
       "      <td>-0.760960</td>\n",
       "      <td>0.168268</td>\n",
       "    </tr>\n",
       "    <tr>\n",
       "      <th>2018-10-04</th>\n",
       "      <td>0.620890</td>\n",
       "      <td>1.659343</td>\n",
       "      <td>-0.993242</td>\n",
       "      <td>0.314272</td>\n",
       "    </tr>\n",
       "    <tr>\n",
       "      <th>2018-10-02</th>\n",
       "      <td>0.530520</td>\n",
       "      <td>-1.144927</td>\n",
       "      <td>-1.406527</td>\n",
       "      <td>1.494357</td>\n",
       "    </tr>\n",
       "  </tbody>\n",
       "</table>\n",
       "</div>"
      ],
      "text/plain": [
       "                   A         B         C         D\n",
       "2018-09-30  0.367146  0.445136 -0.241571 -0.434635\n",
       "2018-10-03  0.577937 -0.098738 -0.381949  1.138831\n",
       "2018-09-29  0.251464 -0.147523 -0.561578  1.392507\n",
       "2018-10-01 -0.439628  0.040170 -0.760960  0.168268\n",
       "2018-10-04  0.620890  1.659343 -0.993242  0.314272\n",
       "2018-10-02  0.530520 -1.144927 -1.406527  1.494357"
      ]
     },
     "execution_count": 38,
     "metadata": {},
     "output_type": "execute_result"
    }
   ],
   "source": [
    "# 컬럼 C 열 기준 내림차순 정렬\n",
    "df.sort_values(by = 'C',ascending = False)"
   ]
  },
  {
   "cell_type": "code",
   "execution_count": 39,
   "metadata": {},
   "outputs": [
    {
     "data": {
      "text/html": [
       "<div>\n",
       "<style scoped>\n",
       "    .dataframe tbody tr th:only-of-type {\n",
       "        vertical-align: middle;\n",
       "    }\n",
       "\n",
       "    .dataframe tbody tr th {\n",
       "        vertical-align: top;\n",
       "    }\n",
       "\n",
       "    .dataframe thead th {\n",
       "        text-align: right;\n",
       "    }\n",
       "</style>\n",
       "<table border=\"1\" class=\"dataframe\">\n",
       "  <thead>\n",
       "    <tr style=\"text-align: right;\">\n",
       "      <th></th>\n",
       "      <th>A</th>\n",
       "      <th>B</th>\n",
       "      <th>C</th>\n",
       "      <th>D</th>\n",
       "    </tr>\n",
       "  </thead>\n",
       "  <tbody>\n",
       "    <tr>\n",
       "      <th>2018-09-29</th>\n",
       "      <td>0.251464</td>\n",
       "      <td>-0.147523</td>\n",
       "      <td>-0.561578</td>\n",
       "      <td>1.392507</td>\n",
       "    </tr>\n",
       "    <tr>\n",
       "      <th>2018-09-30</th>\n",
       "      <td>0.367146</td>\n",
       "      <td>0.445136</td>\n",
       "      <td>-0.241571</td>\n",
       "      <td>-0.434635</td>\n",
       "    </tr>\n",
       "    <tr>\n",
       "      <th>2018-10-01</th>\n",
       "      <td>-0.439628</td>\n",
       "      <td>0.040170</td>\n",
       "      <td>-0.760960</td>\n",
       "      <td>0.168268</td>\n",
       "    </tr>\n",
       "    <tr>\n",
       "      <th>2018-10-02</th>\n",
       "      <td>0.530520</td>\n",
       "      <td>-1.144927</td>\n",
       "      <td>-1.406527</td>\n",
       "      <td>1.494357</td>\n",
       "    </tr>\n",
       "    <tr>\n",
       "      <th>2018-10-03</th>\n",
       "      <td>0.577937</td>\n",
       "      <td>-0.098738</td>\n",
       "      <td>-0.381949</td>\n",
       "      <td>1.138831</td>\n",
       "    </tr>\n",
       "    <tr>\n",
       "      <th>2018-10-04</th>\n",
       "      <td>0.620890</td>\n",
       "      <td>1.659343</td>\n",
       "      <td>-0.993242</td>\n",
       "      <td>0.314272</td>\n",
       "    </tr>\n",
       "  </tbody>\n",
       "</table>\n",
       "</div>"
      ],
      "text/plain": [
       "                   A         B         C         D\n",
       "2018-09-29  0.251464 -0.147523 -0.561578  1.392507\n",
       "2018-09-30  0.367146  0.445136 -0.241571 -0.434635\n",
       "2018-10-01 -0.439628  0.040170 -0.760960  0.168268\n",
       "2018-10-02  0.530520 -1.144927 -1.406527  1.494357\n",
       "2018-10-03  0.577937 -0.098738 -0.381949  1.138831\n",
       "2018-10-04  0.620890  1.659343 -0.993242  0.314272"
      ]
     },
     "execution_count": 39,
     "metadata": {},
     "output_type": "execute_result"
    }
   ],
   "source": [
    "# 원본은 그대로\n",
    "df"
   ]
  },
  {
   "cell_type": "code",
   "execution_count": 41,
   "metadata": {},
   "outputs": [
    {
     "data": {
      "text/plain": [
       "2018-09-29   -0.147523\n",
       "2018-09-30    0.445136\n",
       "2018-10-01    0.040170\n",
       "2018-10-02   -1.144927\n",
       "2018-10-03   -0.098738\n",
       "2018-10-04    1.659343\n",
       "Freq: D, Name: B, dtype: float64"
      ]
     },
     "execution_count": 41,
     "metadata": {},
     "output_type": "execute_result"
    }
   ],
   "source": [
    "# 컬럼 B의 데이터를 가져와라 = > 인덱싱 => 차원축소 => 시리즈\n",
    "df.B\n",
    "df['B']"
   ]
  },
  {
   "cell_type": "code",
   "execution_count": 45,
   "metadata": {},
   "outputs": [
    {
     "data": {
      "text/html": [
       "<div>\n",
       "<style scoped>\n",
       "    .dataframe tbody tr th:only-of-type {\n",
       "        vertical-align: middle;\n",
       "    }\n",
       "\n",
       "    .dataframe tbody tr th {\n",
       "        vertical-align: top;\n",
       "    }\n",
       "\n",
       "    .dataframe thead th {\n",
       "        text-align: right;\n",
       "    }\n",
       "</style>\n",
       "<table border=\"1\" class=\"dataframe\">\n",
       "  <thead>\n",
       "    <tr style=\"text-align: right;\">\n",
       "      <th></th>\n",
       "      <th>A</th>\n",
       "      <th>B</th>\n",
       "      <th>C</th>\n",
       "      <th>D</th>\n",
       "    </tr>\n",
       "  </thead>\n",
       "  <tbody>\n",
       "    <tr>\n",
       "      <th>2018-09-30</th>\n",
       "      <td>0.367146</td>\n",
       "      <td>0.445136</td>\n",
       "      <td>-0.241571</td>\n",
       "      <td>-0.434635</td>\n",
       "    </tr>\n",
       "    <tr>\n",
       "      <th>2018-10-01</th>\n",
       "      <td>-0.439628</td>\n",
       "      <td>0.040170</td>\n",
       "      <td>-0.760960</td>\n",
       "      <td>0.168268</td>\n",
       "    </tr>\n",
       "  </tbody>\n",
       "</table>\n",
       "</div>"
      ],
      "text/plain": [
       "                   A         B         C         D\n",
       "2018-09-30  0.367146  0.445136 -0.241571 -0.434635\n",
       "2018-10-01 -0.439628  0.040170 -0.760960  0.168268"
      ]
     },
     "execution_count": 45,
     "metadata": {},
     "output_type": "execute_result"
    }
   ],
   "source": [
    "# 슬라이싱 : 1차원 인덱스 부분만 자른것임\n",
    "df[1:3] # 행 슬라이싱"
   ]
  },
  {
   "cell_type": "code",
   "execution_count": 46,
   "metadata": {},
   "outputs": [
    {
     "data": {
      "text/html": [
       "<div>\n",
       "<style scoped>\n",
       "    .dataframe tbody tr th:only-of-type {\n",
       "        vertical-align: middle;\n",
       "    }\n",
       "\n",
       "    .dataframe tbody tr th {\n",
       "        vertical-align: top;\n",
       "    }\n",
       "\n",
       "    .dataframe thead th {\n",
       "        text-align: right;\n",
       "    }\n",
       "</style>\n",
       "<table border=\"1\" class=\"dataframe\">\n",
       "  <thead>\n",
       "    <tr style=\"text-align: right;\">\n",
       "      <th></th>\n",
       "      <th>A</th>\n",
       "      <th>B</th>\n",
       "      <th>C</th>\n",
       "      <th>D</th>\n",
       "    </tr>\n",
       "  </thead>\n",
       "  <tbody>\n",
       "    <tr>\n",
       "      <th>2018-09-30</th>\n",
       "      <td>0.367146</td>\n",
       "      <td>0.445136</td>\n",
       "      <td>-0.241571</td>\n",
       "      <td>-0.434635</td>\n",
       "    </tr>\n",
       "    <tr>\n",
       "      <th>2018-10-01</th>\n",
       "      <td>-0.439628</td>\n",
       "      <td>0.040170</td>\n",
       "      <td>-0.760960</td>\n",
       "      <td>0.168268</td>\n",
       "    </tr>\n",
       "    <tr>\n",
       "      <th>2018-10-02</th>\n",
       "      <td>0.530520</td>\n",
       "      <td>-1.144927</td>\n",
       "      <td>-1.406527</td>\n",
       "      <td>1.494357</td>\n",
       "    </tr>\n",
       "  </tbody>\n",
       "</table>\n",
       "</div>"
      ],
      "text/plain": [
       "                   A         B         C         D\n",
       "2018-09-30  0.367146  0.445136 -0.241571 -0.434635\n",
       "2018-10-01 -0.439628  0.040170 -0.760960  0.168268\n",
       "2018-10-02  0.530520 -1.144927 -1.406527  1.494357"
      ]
     },
     "execution_count": 46,
     "metadata": {},
     "output_type": "execute_result"
    }
   ],
   "source": [
    "df['2018-09-30':'2018-10-02'] # 이름으로 자르면 종점에 해당 날짜도 포함"
   ]
  },
  {
   "cell_type": "code",
   "execution_count": 96,
   "metadata": {},
   "outputs": [
    {
     "data": {
      "text/plain": [
       "A   -0.439628\n",
       "B    0.040170\n",
       "C   -0.760960\n",
       "D    0.168268\n",
       "Name: 2018-10-01 00:00:00, dtype: float64"
      ]
     },
     "execution_count": 96,
     "metadata": {},
     "output_type": "execute_result"
    }
   ],
   "source": [
    "# 인덱스 데이터를 이용하여 해당 정보를 보고 싶다.\n",
    "# loc() : 인덱스의 로케이션 정보를 옵션으로 슬라이싱 지정.\n",
    "df.loc[dates[2]] # column을 index 형태로 받아줌.\n",
    "# 해당 행의 데이터를 나열하고 열의 정보(컬럼명)이 인덱스로 적용되서 \n",
    "# 시리즈로 나온다=> 인덱싱해서 차원축소가 발생했기 때문이다.\n"
   ]
  },
  {
   "cell_type": "code",
   "execution_count": 49,
   "metadata": {},
   "outputs": [
    {
     "data": {
      "text/html": [
       "<div>\n",
       "<style scoped>\n",
       "    .dataframe tbody tr th:only-of-type {\n",
       "        vertical-align: middle;\n",
       "    }\n",
       "\n",
       "    .dataframe tbody tr th {\n",
       "        vertical-align: top;\n",
       "    }\n",
       "\n",
       "    .dataframe thead th {\n",
       "        text-align: right;\n",
       "    }\n",
       "</style>\n",
       "<table border=\"1\" class=\"dataframe\">\n",
       "  <thead>\n",
       "    <tr style=\"text-align: right;\">\n",
       "      <th></th>\n",
       "      <th>C</th>\n",
       "      <th>D</th>\n",
       "    </tr>\n",
       "  </thead>\n",
       "  <tbody>\n",
       "    <tr>\n",
       "      <th>2018-09-29</th>\n",
       "      <td>-0.561578</td>\n",
       "      <td>1.392507</td>\n",
       "    </tr>\n",
       "    <tr>\n",
       "      <th>2018-09-30</th>\n",
       "      <td>-0.241571</td>\n",
       "      <td>-0.434635</td>\n",
       "    </tr>\n",
       "    <tr>\n",
       "      <th>2018-10-01</th>\n",
       "      <td>-0.760960</td>\n",
       "      <td>0.168268</td>\n",
       "    </tr>\n",
       "    <tr>\n",
       "      <th>2018-10-02</th>\n",
       "      <td>-1.406527</td>\n",
       "      <td>1.494357</td>\n",
       "    </tr>\n",
       "    <tr>\n",
       "      <th>2018-10-03</th>\n",
       "      <td>-0.381949</td>\n",
       "      <td>1.138831</td>\n",
       "    </tr>\n",
       "    <tr>\n",
       "      <th>2018-10-04</th>\n",
       "      <td>-0.993242</td>\n",
       "      <td>0.314272</td>\n",
       "    </tr>\n",
       "  </tbody>\n",
       "</table>\n",
       "</div>"
      ],
      "text/plain": [
       "                   C         D\n",
       "2018-09-29 -0.561578  1.392507\n",
       "2018-09-30 -0.241571 -0.434635\n",
       "2018-10-01 -0.760960  0.168268\n",
       "2018-10-02 -1.406527  1.494357\n",
       "2018-10-03 -0.381949  1.138831\n",
       "2018-10-04 -0.993242  0.314272"
      ]
     },
     "execution_count": 49,
     "metadata": {},
     "output_type": "execute_result"
    }
   ],
   "source": [
    "df.loc[:,['C','D']]"
   ]
  },
  {
   "cell_type": "code",
   "execution_count": 54,
   "metadata": {},
   "outputs": [
    {
     "data": {
      "text/html": [
       "<div>\n",
       "<style scoped>\n",
       "    .dataframe tbody tr th:only-of-type {\n",
       "        vertical-align: middle;\n",
       "    }\n",
       "\n",
       "    .dataframe tbody tr th {\n",
       "        vertical-align: top;\n",
       "    }\n",
       "\n",
       "    .dataframe thead th {\n",
       "        text-align: right;\n",
       "    }\n",
       "</style>\n",
       "<table border=\"1\" class=\"dataframe\">\n",
       "  <thead>\n",
       "    <tr style=\"text-align: right;\">\n",
       "      <th></th>\n",
       "      <th>C</th>\n",
       "      <th>D</th>\n",
       "    </tr>\n",
       "  </thead>\n",
       "  <tbody>\n",
       "    <tr>\n",
       "      <th>2018-10-01</th>\n",
       "      <td>-0.760960</td>\n",
       "      <td>0.168268</td>\n",
       "    </tr>\n",
       "    <tr>\n",
       "      <th>2018-10-02</th>\n",
       "      <td>-1.406527</td>\n",
       "      <td>1.494357</td>\n",
       "    </tr>\n",
       "  </tbody>\n",
       "</table>\n",
       "</div>"
      ],
      "text/plain": [
       "                   C         D\n",
       "2018-10-01 -0.760960  0.168268\n",
       "2018-10-02 -1.406527  1.494357"
      ]
     },
     "execution_count": 54,
     "metadata": {},
     "output_type": "execute_result"
    }
   ],
   "source": [
    "df.loc['2018-10-01':'2018-10-02',['C','D']]"
   ]
  },
  {
   "cell_type": "code",
   "execution_count": 50,
   "metadata": {},
   "outputs": [
    {
     "data": {
      "text/plain": [
       "C   -0.760960\n",
       "D    0.168268\n",
       "Name: 2018-10-01 00:00:00, dtype: float64"
      ]
     },
     "execution_count": 50,
     "metadata": {},
     "output_type": "execute_result"
    }
   ],
   "source": [
    "df.loc['2018-10-01',['C','D']]"
   ]
  },
  {
   "cell_type": "code",
   "execution_count": 52,
   "metadata": {},
   "outputs": [
    {
     "data": {
      "text/plain": [
       "-0.7609598563061841"
      ]
     },
     "execution_count": 52,
     "metadata": {},
     "output_type": "execute_result"
    }
   ],
   "source": [
    "df.loc['2018-10-01','C']"
   ]
  },
  {
   "cell_type": "code",
   "execution_count": null,
   "metadata": {},
   "outputs": [],
   "source": [
    "#iloc()"
   ]
  },
  {
   "cell_type": "code",
   "execution_count": 56,
   "metadata": {},
   "outputs": [
    {
     "data": {
      "text/plain": [
       "A    0.367146\n",
       "B    0.445136\n",
       "C   -0.241571\n",
       "D   -0.434635\n",
       "Name: 2018-09-30 00:00:00, dtype: float64"
      ]
     },
     "execution_count": 56,
     "metadata": {},
     "output_type": "execute_result"
    }
   ],
   "source": [
    "df.iloc[1] # loc은 값으로 iloc은 인덱스로"
   ]
  },
  {
   "cell_type": "code",
   "execution_count": 57,
   "metadata": {},
   "outputs": [
    {
     "data": {
      "text/html": [
       "<div>\n",
       "<style scoped>\n",
       "    .dataframe tbody tr th:only-of-type {\n",
       "        vertical-align: middle;\n",
       "    }\n",
       "\n",
       "    .dataframe tbody tr th {\n",
       "        vertical-align: top;\n",
       "    }\n",
       "\n",
       "    .dataframe thead th {\n",
       "        text-align: right;\n",
       "    }\n",
       "</style>\n",
       "<table border=\"1\" class=\"dataframe\">\n",
       "  <thead>\n",
       "    <tr style=\"text-align: right;\">\n",
       "      <th></th>\n",
       "      <th>B</th>\n",
       "      <th>C</th>\n",
       "    </tr>\n",
       "  </thead>\n",
       "  <tbody>\n",
       "    <tr>\n",
       "      <th>2018-09-30</th>\n",
       "      <td>0.445136</td>\n",
       "      <td>-0.241571</td>\n",
       "    </tr>\n",
       "    <tr>\n",
       "      <th>2018-10-01</th>\n",
       "      <td>0.040170</td>\n",
       "      <td>-0.760960</td>\n",
       "    </tr>\n",
       "  </tbody>\n",
       "</table>\n",
       "</div>"
      ],
      "text/plain": [
       "                   B         C\n",
       "2018-09-30  0.445136 -0.241571\n",
       "2018-10-01  0.040170 -0.760960"
      ]
     },
     "execution_count": 57,
     "metadata": {},
     "output_type": "execute_result"
    }
   ],
   "source": [
    "df.iloc[1:3,1:3]"
   ]
  },
  {
   "cell_type": "code",
   "execution_count": 62,
   "metadata": {},
   "outputs": [
    {
     "data": {
      "text/html": [
       "<div>\n",
       "<style scoped>\n",
       "    .dataframe tbody tr th:only-of-type {\n",
       "        vertical-align: middle;\n",
       "    }\n",
       "\n",
       "    .dataframe tbody tr th {\n",
       "        vertical-align: top;\n",
       "    }\n",
       "\n",
       "    .dataframe thead th {\n",
       "        text-align: right;\n",
       "    }\n",
       "</style>\n",
       "<table border=\"1\" class=\"dataframe\">\n",
       "  <thead>\n",
       "    <tr style=\"text-align: right;\">\n",
       "      <th></th>\n",
       "      <th>A</th>\n",
       "      <th>C</th>\n",
       "    </tr>\n",
       "  </thead>\n",
       "  <tbody>\n",
       "    <tr>\n",
       "      <th>2018-09-30</th>\n",
       "      <td>0.367146</td>\n",
       "      <td>-0.241571</td>\n",
       "    </tr>\n",
       "    <tr>\n",
       "      <th>2018-10-03</th>\n",
       "      <td>0.577937</td>\n",
       "      <td>-0.381949</td>\n",
       "    </tr>\n",
       "    <tr>\n",
       "      <th>2018-10-01</th>\n",
       "      <td>-0.439628</td>\n",
       "      <td>-0.760960</td>\n",
       "    </tr>\n",
       "  </tbody>\n",
       "</table>\n",
       "</div>"
      ],
      "text/plain": [
       "                   A         C\n",
       "2018-09-30  0.367146 -0.241571\n",
       "2018-10-03  0.577937 -0.381949\n",
       "2018-10-01 -0.439628 -0.760960"
      ]
     },
     "execution_count": 62,
     "metadata": {},
     "output_type": "execute_result"
    }
   ],
   "source": [
    "# 비 연속적인 데이터를 내가 원하는 순서대로 슬라이싱\n",
    "df.iloc[[1,4,2],[0,2]]"
   ]
  },
  {
   "cell_type": "code",
   "execution_count": 63,
   "metadata": {},
   "outputs": [
    {
     "data": {
      "text/plain": [
       "2018-09-30    0.445136\n",
       "2018-10-01    0.040170\n",
       "Freq: D, Name: B, dtype: float64"
      ]
     },
     "execution_count": 63,
     "metadata": {},
     "output_type": "execute_result"
    }
   ],
   "source": [
    "df.iloc[1:3,1]"
   ]
  },
  {
   "cell_type": "code",
   "execution_count": 64,
   "metadata": {},
   "outputs": [
    {
     "data": {
      "text/html": [
       "<div>\n",
       "<style scoped>\n",
       "    .dataframe tbody tr th:only-of-type {\n",
       "        vertical-align: middle;\n",
       "    }\n",
       "\n",
       "    .dataframe tbody tr th {\n",
       "        vertical-align: top;\n",
       "    }\n",
       "\n",
       "    .dataframe thead th {\n",
       "        text-align: right;\n",
       "    }\n",
       "</style>\n",
       "<table border=\"1\" class=\"dataframe\">\n",
       "  <thead>\n",
       "    <tr style=\"text-align: right;\">\n",
       "      <th></th>\n",
       "      <th>B</th>\n",
       "      <th>C</th>\n",
       "    </tr>\n",
       "  </thead>\n",
       "  <tbody>\n",
       "    <tr>\n",
       "      <th>2018-09-29</th>\n",
       "      <td>-0.147523</td>\n",
       "      <td>-0.561578</td>\n",
       "    </tr>\n",
       "    <tr>\n",
       "      <th>2018-09-30</th>\n",
       "      <td>0.445136</td>\n",
       "      <td>-0.241571</td>\n",
       "    </tr>\n",
       "    <tr>\n",
       "      <th>2018-10-01</th>\n",
       "      <td>0.040170</td>\n",
       "      <td>-0.760960</td>\n",
       "    </tr>\n",
       "    <tr>\n",
       "      <th>2018-10-02</th>\n",
       "      <td>-1.144927</td>\n",
       "      <td>-1.406527</td>\n",
       "    </tr>\n",
       "    <tr>\n",
       "      <th>2018-10-03</th>\n",
       "      <td>-0.098738</td>\n",
       "      <td>-0.381949</td>\n",
       "    </tr>\n",
       "    <tr>\n",
       "      <th>2018-10-04</th>\n",
       "      <td>1.659343</td>\n",
       "      <td>-0.993242</td>\n",
       "    </tr>\n",
       "  </tbody>\n",
       "</table>\n",
       "</div>"
      ],
      "text/plain": [
       "                   B         C\n",
       "2018-09-29 -0.147523 -0.561578\n",
       "2018-09-30  0.445136 -0.241571\n",
       "2018-10-01  0.040170 -0.760960\n",
       "2018-10-02 -1.144927 -1.406527\n",
       "2018-10-03 -0.098738 -0.381949\n",
       "2018-10-04  1.659343 -0.993242"
      ]
     },
     "execution_count": 64,
     "metadata": {},
     "output_type": "execute_result"
    }
   ],
   "source": [
    "df.iloc[:,1:3]"
   ]
  },
  {
   "cell_type": "code",
   "execution_count": 74,
   "metadata": {},
   "outputs": [
    {
     "data": {
      "text/html": [
       "<div>\n",
       "<style scoped>\n",
       "    .dataframe tbody tr th:only-of-type {\n",
       "        vertical-align: middle;\n",
       "    }\n",
       "\n",
       "    .dataframe tbody tr th {\n",
       "        vertical-align: top;\n",
       "    }\n",
       "\n",
       "    .dataframe thead th {\n",
       "        text-align: right;\n",
       "    }\n",
       "</style>\n",
       "<table border=\"1\" class=\"dataframe\">\n",
       "  <thead>\n",
       "    <tr style=\"text-align: right;\">\n",
       "      <th></th>\n",
       "      <th>A</th>\n",
       "      <th>B</th>\n",
       "      <th>C</th>\n",
       "      <th>D</th>\n",
       "    </tr>\n",
       "  </thead>\n",
       "  <tbody>\n",
       "  </tbody>\n",
       "</table>\n",
       "</div>"
      ],
      "text/plain": [
       "Empty DataFrame\n",
       "Columns: [A, B, C, D]\n",
       "Index: []"
      ]
     },
     "execution_count": 74,
     "metadata": {},
     "output_type": "execute_result"
    }
   ],
   "source": [
    "# c열 값이 양수인 경우만 찾아서 해당 행만 가져와라.\n",
    "df[df.C > 0]\n",
    "df[df.loc[:,'C']>0]\n"
   ]
  },
  {
   "cell_type": "code",
   "execution_count": 76,
   "metadata": {},
   "outputs": [
    {
     "data": {
      "text/html": [
       "<div>\n",
       "<style scoped>\n",
       "    .dataframe tbody tr th:only-of-type {\n",
       "        vertical-align: middle;\n",
       "    }\n",
       "\n",
       "    .dataframe tbody tr th {\n",
       "        vertical-align: top;\n",
       "    }\n",
       "\n",
       "    .dataframe thead th {\n",
       "        text-align: right;\n",
       "    }\n",
       "</style>\n",
       "<table border=\"1\" class=\"dataframe\">\n",
       "  <thead>\n",
       "    <tr style=\"text-align: right;\">\n",
       "      <th></th>\n",
       "      <th>A</th>\n",
       "      <th>B</th>\n",
       "      <th>C</th>\n",
       "      <th>D</th>\n",
       "    </tr>\n",
       "  </thead>\n",
       "  <tbody>\n",
       "    <tr>\n",
       "      <th>2018-09-29</th>\n",
       "      <td>0.251464</td>\n",
       "      <td>NaN</td>\n",
       "      <td>NaN</td>\n",
       "      <td>1.392507</td>\n",
       "    </tr>\n",
       "    <tr>\n",
       "      <th>2018-09-30</th>\n",
       "      <td>0.367146</td>\n",
       "      <td>0.445136</td>\n",
       "      <td>NaN</td>\n",
       "      <td>NaN</td>\n",
       "    </tr>\n",
       "    <tr>\n",
       "      <th>2018-10-01</th>\n",
       "      <td>NaN</td>\n",
       "      <td>0.040170</td>\n",
       "      <td>NaN</td>\n",
       "      <td>0.168268</td>\n",
       "    </tr>\n",
       "    <tr>\n",
       "      <th>2018-10-02</th>\n",
       "      <td>0.530520</td>\n",
       "      <td>NaN</td>\n",
       "      <td>NaN</td>\n",
       "      <td>1.494357</td>\n",
       "    </tr>\n",
       "    <tr>\n",
       "      <th>2018-10-03</th>\n",
       "      <td>0.577937</td>\n",
       "      <td>NaN</td>\n",
       "      <td>NaN</td>\n",
       "      <td>1.138831</td>\n",
       "    </tr>\n",
       "    <tr>\n",
       "      <th>2018-10-04</th>\n",
       "      <td>0.620890</td>\n",
       "      <td>1.659343</td>\n",
       "      <td>NaN</td>\n",
       "      <td>0.314272</td>\n",
       "    </tr>\n",
       "  </tbody>\n",
       "</table>\n",
       "</div>"
      ],
      "text/plain": [
       "                   A         B   C         D\n",
       "2018-09-29  0.251464       NaN NaN  1.392507\n",
       "2018-09-30  0.367146  0.445136 NaN       NaN\n",
       "2018-10-01       NaN  0.040170 NaN  0.168268\n",
       "2018-10-02  0.530520       NaN NaN  1.494357\n",
       "2018-10-03  0.577937       NaN NaN  1.138831\n",
       "2018-10-04  0.620890  1.659343 NaN  0.314272"
      ]
     },
     "execution_count": 76,
     "metadata": {},
     "output_type": "execute_result"
    }
   ],
   "source": [
    "# 양수인 데이터만 값을 채워라.\n",
    "# 음수면 False가 되서 NaN이 채워졌다.\n",
    "# 양수면 True가 되서 원래값이 채워졌다.\n",
    "df[df>0]"
   ]
  },
  {
   "cell_type": "code",
   "execution_count": 77,
   "metadata": {},
   "outputs": [
    {
     "name": "stdout",
     "output_type": "stream",
     "text": [
      "                   A         B         C         D\n",
      "2018-09-29  0.251464 -0.147523 -0.561578  1.392507\n",
      "2018-09-30  0.367146  0.445136 -0.241571 -0.434635\n",
      "2018-10-01 -0.439628  0.040170 -0.760960  0.168268\n",
      "2018-10-02  0.530520 -1.144927 -1.406527  1.494357\n",
      "2018-10-03  0.577937 -0.098738 -0.381949  1.138831\n",
      "2018-10-04  0.620890  1.659343 -0.993242  0.314272                    A         B         C         D\n",
      "2018-09-29  0.251464 -0.147523 -0.561578  1.392507\n",
      "2018-09-30  0.367146  0.445136 -0.241571 -0.434635\n",
      "2018-10-01 -0.439628  0.040170 -0.760960  0.168268\n",
      "2018-10-02  0.530520 -1.144927 -1.406527  1.494357\n",
      "2018-10-03  0.577937 -0.098738 -0.381949  1.138831\n",
      "2018-10-04  0.620890  1.659343 -0.993242  0.314272\n"
     ]
    }
   ],
   "source": [
    "# 복사\n",
    "print(df[:])"
   ]
  },
  {
   "cell_type": "code",
   "execution_count": 78,
   "metadata": {},
   "outputs": [
    {
     "name": "stdout",
     "output_type": "stream",
     "text": [
      "                   A         B         C         D\n",
      "2018-09-29  0.251464 -0.147523 -0.561578  1.392507\n",
      "2018-09-30  0.367146  0.445136 -0.241571 -0.434635\n",
      "2018-10-01 -0.439628  0.040170 -0.760960  0.168268\n",
      "2018-10-02  0.530520 -1.144927 -1.406527  1.494357\n",
      "2018-10-03  0.577937 -0.098738 -0.381949  1.138831\n",
      "2018-10-04  0.620890  1.659343 -0.993242  0.314272\n"
     ]
    }
   ],
   "source": [
    "print(df.copy())"
   ]
  },
  {
   "cell_type": "code",
   "execution_count": 84,
   "metadata": {},
   "outputs": [
    {
     "data": {
      "text/html": [
       "<div>\n",
       "<style scoped>\n",
       "    .dataframe tbody tr th:only-of-type {\n",
       "        vertical-align: middle;\n",
       "    }\n",
       "\n",
       "    .dataframe tbody tr th {\n",
       "        vertical-align: top;\n",
       "    }\n",
       "\n",
       "    .dataframe thead th {\n",
       "        text-align: right;\n",
       "    }\n",
       "</style>\n",
       "<table border=\"1\" class=\"dataframe\">\n",
       "  <thead>\n",
       "    <tr style=\"text-align: right;\">\n",
       "      <th></th>\n",
       "      <th>A</th>\n",
       "      <th>B</th>\n",
       "      <th>C</th>\n",
       "      <th>D</th>\n",
       "      <th>E</th>\n",
       "    </tr>\n",
       "  </thead>\n",
       "  <tbody>\n",
       "    <tr>\n",
       "      <th>2018-09-29</th>\n",
       "      <td>0.251464</td>\n",
       "      <td>-0.147523</td>\n",
       "      <td>-0.561578</td>\n",
       "      <td>1.392507</td>\n",
       "      <td>one</td>\n",
       "    </tr>\n",
       "    <tr>\n",
       "      <th>2018-09-30</th>\n",
       "      <td>0.367146</td>\n",
       "      <td>0.445136</td>\n",
       "      <td>-0.241571</td>\n",
       "      <td>-0.434635</td>\n",
       "      <td>two</td>\n",
       "    </tr>\n",
       "    <tr>\n",
       "      <th>2018-10-01</th>\n",
       "      <td>-0.439628</td>\n",
       "      <td>0.040170</td>\n",
       "      <td>-0.760960</td>\n",
       "      <td>0.168268</td>\n",
       "      <td>three</td>\n",
       "    </tr>\n",
       "    <tr>\n",
       "      <th>2018-10-02</th>\n",
       "      <td>0.530520</td>\n",
       "      <td>-1.144927</td>\n",
       "      <td>-1.406527</td>\n",
       "      <td>1.494357</td>\n",
       "      <td>four</td>\n",
       "    </tr>\n",
       "    <tr>\n",
       "      <th>2018-10-03</th>\n",
       "      <td>0.577937</td>\n",
       "      <td>-0.098738</td>\n",
       "      <td>-0.381949</td>\n",
       "      <td>1.138831</td>\n",
       "      <td>five</td>\n",
       "    </tr>\n",
       "    <tr>\n",
       "      <th>2018-10-04</th>\n",
       "      <td>0.620890</td>\n",
       "      <td>1.659343</td>\n",
       "      <td>-0.993242</td>\n",
       "      <td>0.314272</td>\n",
       "      <td>six</td>\n",
       "    </tr>\n",
       "  </tbody>\n",
       "</table>\n",
       "</div>"
      ],
      "text/plain": [
       "                   A         B         C         D      E\n",
       "2018-09-29  0.251464 -0.147523 -0.561578  1.392507    one\n",
       "2018-09-30  0.367146  0.445136 -0.241571 -0.434635    two\n",
       "2018-10-01 -0.439628  0.040170 -0.760960  0.168268  three\n",
       "2018-10-02  0.530520 -1.144927 -1.406527  1.494357   four\n",
       "2018-10-03  0.577937 -0.098738 -0.381949  1.138831   five\n",
       "2018-10-04  0.620890  1.659343 -0.993242  0.314272    six"
      ]
     },
     "execution_count": 84,
     "metadata": {},
     "output_type": "execute_result"
    }
   ],
   "source": [
    "# 새로운 칼럼 추가 (많이 사용)\n",
    "# 컬럼, 값(모집합과 일치하는 인덱스 수만큼 데이터가 필요)\n",
    "# 값의 데이터타입 => 달라도 된다.\n",
    "new_data = ['one', 'two', 'three', 'four', 'five', 'six']\n",
    "df2 = df.copy()\n",
    "df2['E'] = new_data\n",
    "df2\n"
   ]
  },
  {
   "cell_type": "code",
   "execution_count": 88,
   "metadata": {},
   "outputs": [
    {
     "data": {
      "text/html": [
       "<div>\n",
       "<style scoped>\n",
       "    .dataframe tbody tr th:only-of-type {\n",
       "        vertical-align: middle;\n",
       "    }\n",
       "\n",
       "    .dataframe tbody tr th {\n",
       "        vertical-align: top;\n",
       "    }\n",
       "\n",
       "    .dataframe thead th {\n",
       "        text-align: right;\n",
       "    }\n",
       "</style>\n",
       "<table border=\"1\" class=\"dataframe\">\n",
       "  <thead>\n",
       "    <tr style=\"text-align: right;\">\n",
       "      <th></th>\n",
       "      <th>A</th>\n",
       "      <th>B</th>\n",
       "      <th>C</th>\n",
       "      <th>D</th>\n",
       "      <th>E</th>\n",
       "      <th>F</th>\n",
       "    </tr>\n",
       "  </thead>\n",
       "  <tbody>\n",
       "    <tr>\n",
       "      <th>2018-09-29</th>\n",
       "      <td>0.251464</td>\n",
       "      <td>-0.147523</td>\n",
       "      <td>-0.561578</td>\n",
       "      <td>1.392507</td>\n",
       "      <td>one</td>\n",
       "      <td>one2</td>\n",
       "    </tr>\n",
       "    <tr>\n",
       "      <th>2018-09-30</th>\n",
       "      <td>0.367146</td>\n",
       "      <td>0.445136</td>\n",
       "      <td>-0.241571</td>\n",
       "      <td>-0.434635</td>\n",
       "      <td>two</td>\n",
       "      <td>two2</td>\n",
       "    </tr>\n",
       "    <tr>\n",
       "      <th>2018-10-01</th>\n",
       "      <td>-0.439628</td>\n",
       "      <td>0.040170</td>\n",
       "      <td>-0.760960</td>\n",
       "      <td>0.168268</td>\n",
       "      <td>three</td>\n",
       "      <td>three2</td>\n",
       "    </tr>\n",
       "    <tr>\n",
       "      <th>2018-10-02</th>\n",
       "      <td>0.530520</td>\n",
       "      <td>-1.144927</td>\n",
       "      <td>-1.406527</td>\n",
       "      <td>1.494357</td>\n",
       "      <td>four</td>\n",
       "      <td>NaN</td>\n",
       "    </tr>\n",
       "    <tr>\n",
       "      <th>2018-10-03</th>\n",
       "      <td>0.577937</td>\n",
       "      <td>-0.098738</td>\n",
       "      <td>-0.381949</td>\n",
       "      <td>1.138831</td>\n",
       "      <td>five</td>\n",
       "      <td>NaN</td>\n",
       "    </tr>\n",
       "    <tr>\n",
       "      <th>2018-10-04</th>\n",
       "      <td>0.620890</td>\n",
       "      <td>1.659343</td>\n",
       "      <td>-0.993242</td>\n",
       "      <td>0.314272</td>\n",
       "      <td>six</td>\n",
       "      <td>NaN</td>\n",
       "    </tr>\n",
       "  </tbody>\n",
       "</table>\n",
       "</div>"
      ],
      "text/plain": [
       "                   A         B         C         D      E       F\n",
       "2018-09-29  0.251464 -0.147523 -0.561578  1.392507    one    one2\n",
       "2018-09-30  0.367146  0.445136 -0.241571 -0.434635    two    two2\n",
       "2018-10-01 -0.439628  0.040170 -0.760960  0.168268  three  three2\n",
       "2018-10-02  0.530520 -1.144927 -1.406527  1.494357   four     NaN\n",
       "2018-10-03  0.577937 -0.098738 -0.381949  1.138831   five     NaN\n",
       "2018-10-04  0.620890  1.659343 -0.993242  0.314272    six     NaN"
      ]
     },
     "execution_count": 88,
     "metadata": {},
     "output_type": "execute_result"
    }
   ],
   "source": [
    "# 데이터가 부족하면 Nan 이라도 채워서 맞춰\n",
    "new_data2 = ['one2', 'two2', 'three2', np.nan, np.nan,np.nan]\n",
    "df2['F']=new_data2\n",
    "df2"
   ]
  },
  {
   "cell_type": "code",
   "execution_count": 89,
   "metadata": {},
   "outputs": [
    {
     "data": {
      "text/plain": [
       "2018-09-29    False\n",
       "2018-09-30     True\n",
       "2018-10-01    False\n",
       "2018-10-02     True\n",
       "2018-10-03    False\n",
       "2018-10-04    False\n",
       "Freq: D, Name: E, dtype: bool"
      ]
     },
     "execution_count": 89,
     "metadata": {},
     "output_type": "execute_result"
    }
   ],
   "source": [
    "#특정 컬럼에 특정값 조사\n",
    "df2['E'].isin(['two','four'])"
   ]
  },
  {
   "cell_type": "code",
   "execution_count": 90,
   "metadata": {},
   "outputs": [
    {
     "data": {
      "text/html": [
       "<div>\n",
       "<style scoped>\n",
       "    .dataframe tbody tr th:only-of-type {\n",
       "        vertical-align: middle;\n",
       "    }\n",
       "\n",
       "    .dataframe tbody tr th {\n",
       "        vertical-align: top;\n",
       "    }\n",
       "\n",
       "    .dataframe thead th {\n",
       "        text-align: right;\n",
       "    }\n",
       "</style>\n",
       "<table border=\"1\" class=\"dataframe\">\n",
       "  <thead>\n",
       "    <tr style=\"text-align: right;\">\n",
       "      <th></th>\n",
       "      <th>A</th>\n",
       "      <th>B</th>\n",
       "      <th>C</th>\n",
       "      <th>D</th>\n",
       "    </tr>\n",
       "  </thead>\n",
       "  <tbody>\n",
       "    <tr>\n",
       "      <th>2018-09-29</th>\n",
       "      <td>0.251464</td>\n",
       "      <td>-0.147523</td>\n",
       "      <td>-0.561578</td>\n",
       "      <td>1.392507</td>\n",
       "    </tr>\n",
       "    <tr>\n",
       "      <th>2018-09-30</th>\n",
       "      <td>0.367146</td>\n",
       "      <td>0.445136</td>\n",
       "      <td>-0.241571</td>\n",
       "      <td>-0.434635</td>\n",
       "    </tr>\n",
       "    <tr>\n",
       "      <th>2018-10-01</th>\n",
       "      <td>-0.439628</td>\n",
       "      <td>0.040170</td>\n",
       "      <td>-0.760960</td>\n",
       "      <td>0.168268</td>\n",
       "    </tr>\n",
       "    <tr>\n",
       "      <th>2018-10-02</th>\n",
       "      <td>0.530520</td>\n",
       "      <td>-1.144927</td>\n",
       "      <td>-1.406527</td>\n",
       "      <td>1.494357</td>\n",
       "    </tr>\n",
       "    <tr>\n",
       "      <th>2018-10-03</th>\n",
       "      <td>0.577937</td>\n",
       "      <td>-0.098738</td>\n",
       "      <td>-0.381949</td>\n",
       "      <td>1.138831</td>\n",
       "    </tr>\n",
       "    <tr>\n",
       "      <th>2018-10-04</th>\n",
       "      <td>0.620890</td>\n",
       "      <td>1.659343</td>\n",
       "      <td>-0.993242</td>\n",
       "      <td>0.314272</td>\n",
       "    </tr>\n",
       "  </tbody>\n",
       "</table>\n",
       "</div>"
      ],
      "text/plain": [
       "                   A         B         C         D\n",
       "2018-09-29  0.251464 -0.147523 -0.561578  1.392507\n",
       "2018-09-30  0.367146  0.445136 -0.241571 -0.434635\n",
       "2018-10-01 -0.439628  0.040170 -0.760960  0.168268\n",
       "2018-10-02  0.530520 -1.144927 -1.406527  1.494357\n",
       "2018-10-03  0.577937 -0.098738 -0.381949  1.138831\n",
       "2018-10-04  0.620890  1.659343 -0.993242  0.314272"
      ]
     },
     "execution_count": 90,
     "metadata": {},
     "output_type": "execute_result"
    }
   ],
   "source": [
    "# 누적합 \n",
    "df\n"
   ]
  },
  {
   "cell_type": "code",
   "execution_count": 91,
   "metadata": {},
   "outputs": [
    {
     "data": {
      "text/html": [
       "<div>\n",
       "<style scoped>\n",
       "    .dataframe tbody tr th:only-of-type {\n",
       "        vertical-align: middle;\n",
       "    }\n",
       "\n",
       "    .dataframe tbody tr th {\n",
       "        vertical-align: top;\n",
       "    }\n",
       "\n",
       "    .dataframe thead th {\n",
       "        text-align: right;\n",
       "    }\n",
       "</style>\n",
       "<table border=\"1\" class=\"dataframe\">\n",
       "  <thead>\n",
       "    <tr style=\"text-align: right;\">\n",
       "      <th></th>\n",
       "      <th>A</th>\n",
       "      <th>B</th>\n",
       "      <th>C</th>\n",
       "      <th>D</th>\n",
       "    </tr>\n",
       "  </thead>\n",
       "  <tbody>\n",
       "    <tr>\n",
       "      <th>2018-09-29</th>\n",
       "      <td>0.251464</td>\n",
       "      <td>-0.147523</td>\n",
       "      <td>-0.561578</td>\n",
       "      <td>1.392507</td>\n",
       "    </tr>\n",
       "    <tr>\n",
       "      <th>2018-09-30</th>\n",
       "      <td>0.618610</td>\n",
       "      <td>0.297613</td>\n",
       "      <td>-0.803149</td>\n",
       "      <td>0.957873</td>\n",
       "    </tr>\n",
       "    <tr>\n",
       "      <th>2018-10-01</th>\n",
       "      <td>0.178983</td>\n",
       "      <td>0.337783</td>\n",
       "      <td>-1.564109</td>\n",
       "      <td>1.126140</td>\n",
       "    </tr>\n",
       "    <tr>\n",
       "      <th>2018-10-02</th>\n",
       "      <td>0.709503</td>\n",
       "      <td>-0.807144</td>\n",
       "      <td>-2.970636</td>\n",
       "      <td>2.620497</td>\n",
       "    </tr>\n",
       "    <tr>\n",
       "      <th>2018-10-03</th>\n",
       "      <td>1.287440</td>\n",
       "      <td>-0.905882</td>\n",
       "      <td>-3.352585</td>\n",
       "      <td>3.759328</td>\n",
       "    </tr>\n",
       "    <tr>\n",
       "      <th>2018-10-04</th>\n",
       "      <td>1.908330</td>\n",
       "      <td>0.753461</td>\n",
       "      <td>-4.345827</td>\n",
       "      <td>4.073600</td>\n",
       "    </tr>\n",
       "  </tbody>\n",
       "</table>\n",
       "</div>"
      ],
      "text/plain": [
       "                   A         B         C         D\n",
       "2018-09-29  0.251464 -0.147523 -0.561578  1.392507\n",
       "2018-09-30  0.618610  0.297613 -0.803149  0.957873\n",
       "2018-10-01  0.178983  0.337783 -1.564109  1.126140\n",
       "2018-10-02  0.709503 -0.807144 -2.970636  2.620497\n",
       "2018-10-03  1.287440 -0.905882 -3.352585  3.759328\n",
       "2018-10-04  1.908330  0.753461 -4.345827  4.073600"
      ]
     },
     "execution_count": 91,
     "metadata": {},
     "output_type": "execute_result"
    }
   ],
   "source": [
    "df.apply(np.cumsum)"
   ]
  },
  {
   "cell_type": "code",
   "execution_count": 92,
   "metadata": {},
   "outputs": [
    {
     "data": {
      "text/plain": [
       "A    1.060517\n",
       "B    2.804270\n",
       "C    1.164956\n",
       "D    1.928991\n",
       "dtype: float64"
      ]
     },
     "execution_count": 92,
     "metadata": {},
     "output_type": "execute_result"
    }
   ],
   "source": [
    "# 최대값, 최소값 거리(distance)\n",
    "# df.apply(함수)\n",
    "# 컬럼별로 계산하여 시리즈로 리턴\n",
    "df.apply(lambda x:x.max() - x.min()) # x는 numpy"
   ]
  },
  {
   "cell_type": "code",
   "execution_count": null,
   "metadata": {},
   "outputs": [],
   "source": []
  }
 ],
 "metadata": {
  "kernelspec": {
   "display_name": "Python 3",
   "language": "python",
   "name": "python3"
  },
  "language_info": {
   "codemirror_mode": {
    "name": "ipython",
    "version": 3
   },
   "file_extension": ".py",
   "mimetype": "text/x-python",
   "name": "python",
   "nbconvert_exporter": "python",
   "pygments_lexer": "ipython3",
   "version": "3.6.5"
  }
 },
 "nbformat": 4,
 "nbformat_minor": 2
}
