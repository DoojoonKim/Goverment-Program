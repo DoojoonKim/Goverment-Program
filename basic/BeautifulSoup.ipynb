{
 "cells": [
  {
   "cell_type": "code",
   "execution_count": 1,
   "metadata": {},
   "outputs": [],
   "source": [
    "from bs4 import BeautifulSoup"
   ]
  },
  {
   "cell_type": "markdown",
   "metadata": {},
   "source": [
    "### 파서 종류\n",
    "- html.parser\n",
    ">적절한 속도를 가진 parser\n",
    "- lxml\n",
    ">매우빠름\n",
    "- lxml-xml, xml\n",
    ">가장 빠름, 유일하게 지원 되는 xml 파서\n",
    "- html5lib\n",
    ">웹 브라우저와 동일 방식으로 처리"
   ]
  },
  {
   "cell_type": "code",
   "execution_count": 3,
   "metadata": {},
   "outputs": [
    {
     "data": {
      "text/plain": [
       "'<!DOCTYPE html>\\n<html>\\n    <head>\\n        <title>트랩어드바이져 나고야편</title>\\n    </head>\\n    <body>\\n        <div>\\n            <p class=\"inner-text first-item\" id=\"first\">\\n                Atsuta Horaiken, Matsuzakaya\\n                <a href=\"https://www.tripadvisor.co.kr/Restaurant_Review-g14134968-d1772996-Reviews-Atsuta_Horaiken_Matsuzakaya-Sakae_Naka_Nagoya_Aichi_Prefecture_Tokai_Chubu.html\" id=\"link1\">3-30-8 Sakae, Naka-ku, Sakae, Naka, 나고야, 아이치(현), Tokai, 추부, 일본</a>\\n            </p>\\n            <p class=\"inner-text second-item\">\\n                Maruya Honten, JR Nagoya Station\\n                <a href=\"https://www.tripadvisor.co.kr/Restaurant_Review-g14127387-d10397085-Reviews-Maruya_Honten_JR_Nagoya_Station-Nakamura_Nagoya_Aichi_Prefecture_Tokai_Chubu.html\" id=\"link2\">1-1-4 Meieki, Nakamura-ku, Nakamura, 나고야, 아이치(현), Tokai, 추부, 일본</a>\\n            </p>\\n        </div>\\n        <p class=\"outer-text first-item\" id=\"second\">\\n            <b>\\n                Hitsumabushi Nagoya Bincho Ginza\\n            </b>\\n        </p>\\n        <p class=\"outer-text\">\\n            <b>\\n                Yabaton Nagoya station Esuka\\n            </b>\\n        </p>\\n    </body>\\n</html>'"
      ]
     },
     "execution_count": 3,
     "metadata": {},
     "output_type": "execute_result"
    }
   ],
   "source": [
    "# 데이터 로드\n",
    "page_info = open('./data/easy.html','r', encoding='utf-8').read()\n",
    "page_info"
   ]
  },
  {
   "cell_type": "code",
   "execution_count": 4,
   "metadata": {},
   "outputs": [
    {
     "name": "stdout",
     "output_type": "stream",
     "text": [
      "<!DOCTYPE html>\n",
      "<html>\n",
      " <head>\n",
      "  <title>\n",
      "   트랩어드바이져 나고야편\n",
      "  </title>\n",
      " </head>\n",
      " <body>\n",
      "  <div>\n",
      "   <p class=\"inner-text first-item\" id=\"first\">\n",
      "    Atsuta Horaiken, Matsuzakaya\n",
      "    <a href=\"https://www.tripadvisor.co.kr/Restaurant_Review-g14134968-d1772996-Reviews-Atsuta_Horaiken_Matsuzakaya-Sakae_Naka_Nagoya_Aichi_Prefecture_Tokai_Chubu.html\" id=\"link1\">\n",
      "     3-30-8 Sakae, Naka-ku, Sakae, Naka, 나고야, 아이치(현), Tokai, 추부, 일본\n",
      "    </a>\n",
      "   </p>\n",
      "   <p class=\"inner-text second-item\">\n",
      "    Maruya Honten, JR Nagoya Station\n",
      "    <a href=\"https://www.tripadvisor.co.kr/Restaurant_Review-g14127387-d10397085-Reviews-Maruya_Honten_JR_Nagoya_Station-Nakamura_Nagoya_Aichi_Prefecture_Tokai_Chubu.html\" id=\"link2\">\n",
      "     1-1-4 Meieki, Nakamura-ku, Nakamura, 나고야, 아이치(현), Tokai, 추부, 일본\n",
      "    </a>\n",
      "   </p>\n",
      "  </div>\n",
      "  <p class=\"outer-text first-item\" id=\"second\">\n",
      "   <b>\n",
      "    Hitsumabushi Nagoya Bincho Ginza\n",
      "   </b>\n",
      "  </p>\n",
      "  <p class=\"outer-text\">\n",
      "   <b>\n",
      "    Yabaton Nagoya station Esuka\n",
      "   </b>\n",
      "  </p>\n",
      " </body>\n",
      "</html>\n"
     ]
    }
   ],
   "source": [
    "# soup생성\n",
    "soup=BeautifulSoup(page_info,'html5lib')\n",
    "# 로드가 잘 되었는지 데이터확인\n",
    "print(soup.prettify())"
   ]
  },
  {
   "cell_type": "code",
   "execution_count": 6,
   "metadata": {},
   "outputs": [
    {
     "data": {
      "text/plain": [
       "['html', <html><head>\n",
       "         <title>트랩어드바이져 나고야편</title>\n",
       "     </head>\n",
       "     <body>\n",
       "         <div>\n",
       "             <p class=\"inner-text first-item\" id=\"first\">\n",
       "                 Atsuta Horaiken, Matsuzakaya\n",
       "                 <a href=\"https://www.tripadvisor.co.kr/Restaurant_Review-g14134968-d1772996-Reviews-Atsuta_Horaiken_Matsuzakaya-Sakae_Naka_Nagoya_Aichi_Prefecture_Tokai_Chubu.html\" id=\"link1\">3-30-8 Sakae, Naka-ku, Sakae, Naka, 나고야, 아이치(현), Tokai, 추부, 일본</a>\n",
       "             </p>\n",
       "             <p class=\"inner-text second-item\">\n",
       "                 Maruya Honten, JR Nagoya Station\n",
       "                 <a href=\"https://www.tripadvisor.co.kr/Restaurant_Review-g14127387-d10397085-Reviews-Maruya_Honten_JR_Nagoya_Station-Nakamura_Nagoya_Aichi_Prefecture_Tokai_Chubu.html\" id=\"link2\">1-1-4 Meieki, Nakamura-ku, Nakamura, 나고야, 아이치(현), Tokai, 추부, 일본</a>\n",
       "             </p>\n",
       "         </div>\n",
       "         <p class=\"outer-text first-item\" id=\"second\">\n",
       "             <b>\n",
       "                 Hitsumabushi Nagoya Bincho Ginza\n",
       "             </b>\n",
       "         </p>\n",
       "         <p class=\"outer-text\">\n",
       "             <b>\n",
       "                 Yabaton Nagoya station Esuka\n",
       "             </b>\n",
       "         </p>\n",
       "     \n",
       " </body></html>]"
      ]
     },
     "execution_count": 6,
     "metadata": {},
     "output_type": "execute_result"
    }
   ],
   "source": [
    "list(soup.children)"
   ]
  },
  {
   "cell_type": "code",
   "execution_count": 7,
   "metadata": {},
   "outputs": [
    {
     "data": {
      "text/plain": [
       "<html><head>\n",
       "        <title>트랩어드바이져 나고야편</title>\n",
       "    </head>\n",
       "    <body>\n",
       "        <div>\n",
       "            <p class=\"inner-text first-item\" id=\"first\">\n",
       "                Atsuta Horaiken, Matsuzakaya\n",
       "                <a href=\"https://www.tripadvisor.co.kr/Restaurant_Review-g14134968-d1772996-Reviews-Atsuta_Horaiken_Matsuzakaya-Sakae_Naka_Nagoya_Aichi_Prefecture_Tokai_Chubu.html\" id=\"link1\">3-30-8 Sakae, Naka-ku, Sakae, Naka, 나고야, 아이치(현), Tokai, 추부, 일본</a>\n",
       "            </p>\n",
       "            <p class=\"inner-text second-item\">\n",
       "                Maruya Honten, JR Nagoya Station\n",
       "                <a href=\"https://www.tripadvisor.co.kr/Restaurant_Review-g14127387-d10397085-Reviews-Maruya_Honten_JR_Nagoya_Station-Nakamura_Nagoya_Aichi_Prefecture_Tokai_Chubu.html\" id=\"link2\">1-1-4 Meieki, Nakamura-ku, Nakamura, 나고야, 아이치(현), Tokai, 추부, 일본</a>\n",
       "            </p>\n",
       "        </div>\n",
       "        <p class=\"outer-text first-item\" id=\"second\">\n",
       "            <b>\n",
       "                Hitsumabushi Nagoya Bincho Ginza\n",
       "            </b>\n",
       "        </p>\n",
       "        <p class=\"outer-text\">\n",
       "            <b>\n",
       "                Yabaton Nagoya station Esuka\n",
       "            </b>\n",
       "        </p>\n",
       "    \n",
       "</body></html>"
      ]
     },
     "execution_count": 7,
     "metadata": {},
     "output_type": "execute_result"
    }
   ],
   "source": [
    "# list상에서 html element만 취한다.\n",
    "html_el = list(soup.children)[1]\n",
    "html_el"
   ]
  },
  {
   "cell_type": "code",
   "execution_count": 9,
   "metadata": {},
   "outputs": [
    {
     "data": {
      "text/plain": [
       "(<head>\n",
       "         <title>트랩어드바이져 나고야편</title>\n",
       "     </head>, '\\n    ')"
      ]
     },
     "execution_count": 9,
     "metadata": {},
     "output_type": "execute_result"
    }
   ],
   "source": [
    "#자식으로는 공백도 포함이 되기 때문에 순서로 자식을 찾기에는 일반화가 힘들다.\n",
    "list(html_el.children)[0],list(html_el.children)[1]"
   ]
  },
  {
   "cell_type": "code",
   "execution_count": 10,
   "metadata": {},
   "outputs": [
    {
     "data": {
      "text/plain": [
       "<body>\n",
       "        <div>\n",
       "            <p class=\"inner-text first-item\" id=\"first\">\n",
       "                Atsuta Horaiken, Matsuzakaya\n",
       "                <a href=\"https://www.tripadvisor.co.kr/Restaurant_Review-g14134968-d1772996-Reviews-Atsuta_Horaiken_Matsuzakaya-Sakae_Naka_Nagoya_Aichi_Prefecture_Tokai_Chubu.html\" id=\"link1\">3-30-8 Sakae, Naka-ku, Sakae, Naka, 나고야, 아이치(현), Tokai, 추부, 일본</a>\n",
       "            </p>\n",
       "            <p class=\"inner-text second-item\">\n",
       "                Maruya Honten, JR Nagoya Station\n",
       "                <a href=\"https://www.tripadvisor.co.kr/Restaurant_Review-g14127387-d10397085-Reviews-Maruya_Honten_JR_Nagoya_Station-Nakamura_Nagoya_Aichi_Prefecture_Tokai_Chubu.html\" id=\"link2\">1-1-4 Meieki, Nakamura-ku, Nakamura, 나고야, 아이치(현), Tokai, 추부, 일본</a>\n",
       "            </p>\n",
       "        </div>\n",
       "        <p class=\"outer-text first-item\" id=\"second\">\n",
       "            <b>\n",
       "                Hitsumabushi Nagoya Bincho Ginza\n",
       "            </b>\n",
       "        </p>\n",
       "        <p class=\"outer-text\">\n",
       "            <b>\n",
       "                Yabaton Nagoya station Esuka\n",
       "            </b>\n",
       "        </p>\n",
       "    \n",
       "</body>"
      ]
     },
     "execution_count": 10,
     "metadata": {},
     "output_type": "execute_result"
    }
   ],
   "source": [
    "#직접접근\n",
    "soup.body"
   ]
  },
  {
   "cell_type": "code",
   "execution_count": 12,
   "metadata": {},
   "outputs": [
    {
     "data": {
      "text/plain": [
       "[<p class=\"inner-text first-item\" id=\"first\">\n",
       "                 Atsuta Horaiken, Matsuzakaya\n",
       "                 <a href=\"https://www.tripadvisor.co.kr/Restaurant_Review-g14134968-d1772996-Reviews-Atsuta_Horaiken_Matsuzakaya-Sakae_Naka_Nagoya_Aichi_Prefecture_Tokai_Chubu.html\" id=\"link1\">3-30-8 Sakae, Naka-ku, Sakae, Naka, 나고야, 아이치(현), Tokai, 추부, 일본</a>\n",
       "             </p>, <p class=\"inner-text second-item\">\n",
       "                 Maruya Honten, JR Nagoya Station\n",
       "                 <a href=\"https://www.tripadvisor.co.kr/Restaurant_Review-g14127387-d10397085-Reviews-Maruya_Honten_JR_Nagoya_Station-Nakamura_Nagoya_Aichi_Prefecture_Tokai_Chubu.html\" id=\"link2\">1-1-4 Meieki, Nakamura-ku, Nakamura, 나고야, 아이치(현), Tokai, 추부, 일본</a>\n",
       "             </p>, <p class=\"outer-text first-item\" id=\"second\">\n",
       "             <b>\n",
       "                 Hitsumabushi Nagoya Bincho Ginza\n",
       "             </b>\n",
       "         </p>, <p class=\"outer-text\">\n",
       "             <b>\n",
       "                 Yabaton Nagoya station Esuka\n",
       "             </b>\n",
       "         </p>]"
      ]
     },
     "execution_count": 12,
     "metadata": {},
     "output_type": "execute_result"
    }
   ],
   "source": [
    "# 원하는 데이터를 직접 찾아서 데이터를 획득하는 것이 스크래핑에서 가장 중요함.\n",
    "# 해당 html에  존재하는 모든 p요소(element)를 찾는다. =>List => for \n",
    "soup.findAll('p')"
   ]
  },
  {
   "cell_type": "code",
   "execution_count": 13,
   "metadata": {},
   "outputs": [
    {
     "data": {
      "text/plain": [
       "<p class=\"inner-text first-item\" id=\"first\">\n",
       "                Atsuta Horaiken, Matsuzakaya\n",
       "                <a href=\"https://www.tripadvisor.co.kr/Restaurant_Review-g14134968-d1772996-Reviews-Atsuta_Horaiken_Matsuzakaya-Sakae_Naka_Nagoya_Aichi_Prefecture_Tokai_Chubu.html\" id=\"link1\">3-30-8 Sakae, Naka-ku, Sakae, Naka, 나고야, 아이치(현), Tokai, 추부, 일본</a>\n",
       "            </p>"
      ]
     },
     "execution_count": 13,
     "metadata": {},
     "output_type": "execute_result"
    }
   ],
   "source": [
    "# 모든 p 중에서 첫번째 한개만 \n",
    "soup.find('p')"
   ]
  },
  {
   "cell_type": "code",
   "execution_count": 14,
   "metadata": {},
   "outputs": [
    {
     "data": {
      "text/plain": [
       "[<p class=\"inner-text first-item\" id=\"first\">\n",
       "                 Atsuta Horaiken, Matsuzakaya\n",
       "                 <a href=\"https://www.tripadvisor.co.kr/Restaurant_Review-g14134968-d1772996-Reviews-Atsuta_Horaiken_Matsuzakaya-Sakae_Naka_Nagoya_Aichi_Prefecture_Tokai_Chubu.html\" id=\"link1\">3-30-8 Sakae, Naka-ku, Sakae, Naka, 나고야, 아이치(현), Tokai, 추부, 일본</a>\n",
       "             </p>, <p class=\"inner-text second-item\">\n",
       "                 Maruya Honten, JR Nagoya Station\n",
       "                 <a href=\"https://www.tripadvisor.co.kr/Restaurant_Review-g14127387-d10397085-Reviews-Maruya_Honten_JR_Nagoya_Station-Nakamura_Nagoya_Aichi_Prefecture_Tokai_Chubu.html\" id=\"link2\">1-1-4 Meieki, Nakamura-ku, Nakamura, 나고야, 아이치(현), Tokai, 추부, 일본</a>\n",
       "             </p>]"
      ]
     },
     "execution_count": 14,
     "metadata": {},
     "output_type": "execute_result"
    }
   ],
   "source": [
    "# 링크가 있는 p만 찾아라 => class가 inner text\n",
    "soup.findAll('p', class_='inner-text')\n",
    "# inner-text라는 클래스가 p 요소에만 사용했다."
   ]
  },
  {
   "cell_type": "code",
   "execution_count": null,
   "metadata": {},
   "outputs": [],
   "source": [
    "# id로 찾는다. => 유일한 한개 요소\n",
    "soup.find(id='first')"
   ]
  },
  {
   "cell_type": "code",
   "execution_count": 15,
   "metadata": {},
   "outputs": [
    {
     "data": {
      "text/plain": [
       "<p class=\"inner-text first-item\" id=\"first\">\n",
       "                Atsuta Horaiken, Matsuzakaya\n",
       "                <a href=\"https://www.tripadvisor.co.kr/Restaurant_Review-g14134968-d1772996-Reviews-Atsuta_Horaiken_Matsuzakaya-Sakae_Naka_Nagoya_Aichi_Prefecture_Tokai_Chubu.html\" id=\"link1\">3-30-8 Sakae, Naka-ku, Sakae, Naka, 나고야, 아이치(현), Tokai, 추부, 일본</a>\n",
       "            </p>"
      ]
     },
     "execution_count": 15,
     "metadata": {},
     "output_type": "execute_result"
    }
   ],
   "source": [
    "# css seletor로 찾기\n",
    "soup.select_one('#first')"
   ]
  },
  {
   "cell_type": "code",
   "execution_count": 17,
   "metadata": {},
   "outputs": [
    {
     "data": {
      "text/plain": [
       "<p class=\"inner-text first-item\" id=\"first\">\n",
       "                Atsuta Horaiken, Matsuzakaya\n",
       "                <a href=\"https://www.tripadvisor.co.kr/Restaurant_Review-g14134968-d1772996-Reviews-Atsuta_Horaiken_Matsuzakaya-Sakae_Naka_Nagoya_Aichi_Prefecture_Tokai_Chubu.html\" id=\"link1\">3-30-8 Sakae, Naka-ku, Sakae, Naka, 나고야, 아이치(현), Tokai, 추부, 일본</a>\n",
       "            </p>"
      ]
     },
     "execution_count": 17,
     "metadata": {},
     "output_type": "execute_result"
    }
   ],
   "source": [
    "soup.select_one('.inner-text')"
   ]
  },
  {
   "cell_type": "code",
   "execution_count": 18,
   "metadata": {},
   "outputs": [
    {
     "data": {
      "text/plain": [
       "<head>\n",
       "        <title>트랩어드바이져 나고야편</title>\n",
       "    </head>"
      ]
     },
     "execution_count": 18,
     "metadata": {},
     "output_type": "execute_result"
    }
   ],
   "source": [
    "soup.head"
   ]
  },
  {
   "cell_type": "code",
   "execution_count": 25,
   "metadata": {},
   "outputs": [
    {
     "name": "stdout",
     "output_type": "stream",
     "text": [
      "-> [Atsuta Horaiken, Matsuzakaya\n",
      "                3-30-8 Sakae, Naka-ku, Sakae, Naka, 나고야, 아이치(현), Tokai, 추부, 일본]\n",
      "-> [Maruya Honten, JR Nagoya Station\n",
      "                1-1-4 Meieki, Nakamura-ku, Nakamura, 나고야, 아이치(현), Tokai, 추부, 일본]\n",
      "-> [Hitsumabushi Nagoya Bincho Ginza]\n",
      "-> [Yabaton Nagoya station Esuka]\n"
     ]
    }
   ],
   "source": [
    "# 모든 p 요소의 텍스트 획득\n",
    "for p_tag in soup.select('p'):\n",
    "    print('->', '[%s]' % p_tag.text.strip())#, p_tag.get_text()) \n",
    "    # strip -> 바깥 공백제거"
   ]
  },
  {
   "cell_type": "code",
   "execution_count": 26,
   "metadata": {},
   "outputs": [
    {
     "name": "stdout",
     "output_type": "stream",
     "text": [
      "\n",
      "        트랩어드바이져 나고야편\n",
      "    \n",
      "    \n",
      "        \n",
      "            \n",
      "                Atsuta Horaiken, Matsuzakaya\n",
      "                3-30-8 Sakae, Naka-ku, Sakae, Naka, 나고야, 아이치(현), Tokai, 추부, 일본\n",
      "            \n",
      "            \n",
      "                Maruya Honten, JR Nagoya Station\n",
      "                1-1-4 Meieki, Nakamura-ku, Nakamura, 나고야, 아이치(현), Tokai, 추부, 일본\n",
      "            \n",
      "        \n",
      "        \n",
      "            \n",
      "                Hitsumabushi Nagoya Bincho Ginza\n",
      "            \n",
      "        \n",
      "        \n",
      "            \n",
      "                Yabaton Nagoya station Esuka\n",
      "            \n",
      "        \n",
      "    \n",
      "\n"
     ]
    }
   ],
   "source": [
    "#html dom에서 전체 텍스트 가져오기\n",
    "print(soup.get_text())"
   ]
  },
  {
   "cell_type": "code",
   "execution_count": 31,
   "metadata": {},
   "outputs": [
    {
     "name": "stdout",
     "output_type": "stream",
     "text": [
      "https://www.tripadvisor.co.kr/Restaurant_Review-g14134968-d1772996-Reviews-Atsuta_Horaiken_Matsuzakaya-Sakae_Naka_Nagoya_Aichi_Prefecture_Tokai_Chubu.html 3-30-8 Sakae, Naka-ku, Sakae, Naka, 나고야, 아이치(현), Tokai, 추부, 일본 3-30-8 Sakae, Naka-ku, Sakae, Naka, 나고야, 아이치(현), Tokai, 추부, 일본\n",
      "https://www.tripadvisor.co.kr/Restaurant_Review-g14127387-d10397085-Reviews-Maruya_Honten_JR_Nagoya_Station-Nakamura_Nagoya_Aichi_Prefecture_Tokai_Chubu.html 1-1-4 Meieki, Nakamura-ku, Nakamura, 나고야, 아이치(현), Tokai, 추부, 일본 1-1-4 Meieki, Nakamura-ku, Nakamura, 나고야, 아이치(현), Tokai, 추부, 일본\n"
     ]
    }
   ],
   "source": [
    "# 문서상에서 존재하는 모든 링크의 텍스트를 가져와라\n",
    "# 문서상에서 존재하는 모든 링크의 값를 가져와라\n",
    "# a element 를 찾아라=> element = start tag(attribute를 가짐) + contents + end tag\n",
    "for a_element in soup.findAll('a'):\n",
    "    print(a_element['href'],a_element.text, a_element.string)"
   ]
  },
  {
   "cell_type": "code",
   "execution_count": 48,
   "metadata": {},
   "outputs": [
    {
     "name": "stdout",
     "output_type": "stream",
     "text": [
      "Hitsumabushi Nagoya Bincho Ginza\n",
      "Yabaton Nagoya station Esuka\n"
     ]
    }
   ],
   "source": [
    "# 문서상의 모든 p요소의 순수 텍스트만 출력하시오.(단, a 요소의 텍스트는 제외)\n",
    "for p_tag in soup.select('p'):\n",
    "    if not p_tag.findAll('a'):\n",
    "        print(p_tag.text.strip())\n",
    "## 이거 잘못한거임.        "
   ]
  },
  {
   "cell_type": "code",
   "execution_count": 52,
   "metadata": {},
   "outputs": [
    {
     "data": {
      "text/plain": [
       "[<p class=\"inner-text first-item\" id=\"first\">\n",
       "                 Atsuta Horaiken, Matsuzakaya\n",
       "                 <a href=\"https://www.tripadvisor.co.kr/Restaurant_Review-g14134968-d1772996-Reviews-Atsuta_Horaiken_Matsuzakaya-Sakae_Naka_Nagoya_Aichi_Prefecture_Tokai_Chubu.html\" id=\"link1\">3-30-8 Sakae, Naka-ku, Sakae, Naka, 나고야, 아이치(현), Tokai, 추부, 일본</a>\n",
       "             </p>, <p class=\"inner-text second-item\">\n",
       "                 Maruya Honten, JR Nagoya Station\n",
       "                 <a href=\"https://www.tripadvisor.co.kr/Restaurant_Review-g14127387-d10397085-Reviews-Maruya_Honten_JR_Nagoya_Station-Nakamura_Nagoya_Aichi_Prefecture_Tokai_Chubu.html\" id=\"link2\">1-1-4 Meieki, Nakamura-ku, Nakamura, 나고야, 아이치(현), Tokai, 추부, 일본</a>\n",
       "             </p>, <p class=\"outer-text first-item\" id=\"second\">\n",
       "             <b>\n",
       "                 Hitsumabushi Nagoya Bincho Ginza\n",
       "             </b>\n",
       "         </p>, <p class=\"outer-text\">\n",
       "             <b>\n",
       "                 Yabaton Nagoya station Esuka\n",
       "             </b>\n",
       "         </p>]"
      ]
     },
     "execution_count": 52,
     "metadata": {},
     "output_type": "execute_result"
    }
   ],
   "source": [
    "soup.select('p')"
   ]
  },
  {
   "cell_type": "code",
   "execution_count": 53,
   "metadata": {
    "scrolled": true
   },
   "outputs": [
    {
     "name": "stdout",
     "output_type": "stream",
     "text": [
      "\n",
      "                Atsuta Horaiken, Matsuzakaya\n",
      "                3-30-8 Sakae, Naka-ku, Sakae, Naka, 나고야, 아이치(현), Tokai, 추부, 일본\n",
      "            \n",
      "\n",
      "                Maruya Honten, JR Nagoya Station\n",
      "                1-1-4 Meieki, Nakamura-ku, Nakamura, 나고야, 아이치(현), Tokai, 추부, 일본\n",
      "            \n",
      "\n",
      "            \n",
      "                Hitsumabushi Nagoya Bincho Ginza\n",
      "            \n",
      "        \n",
      "\n",
      "            \n",
      "                Yabaton Nagoya station Esuka\n",
      "            \n",
      "        \n"
     ]
    }
   ],
   "source": [
    "# 문서상의 모든 p요소의 순수 텍스트만 출력하시오.(단, a 요소의 텍스트는 제외)\n",
    "for p_tag in soup.select('p'):\n",
    "    for txt in p_tag.text.split('\\n'):\n",
    "        # 공백제거\n",
    "        print(txt)\n",
    "#         n = txt.strip()\n",
    "#         # 빈문자가 아닌 문자면 => 최초로 만나는 가게 제목이면\n",
    "#         if n:\n",
    "#             #처리\n",
    "#             print(n)\n",
    "#             #반복문 빠져나감.\n",
    "#             break\n",
    "            \n",
    "# 텍스트를 바로 뽑으면 쉽기는 하나 문자열 규칙을 처리해서 원하는 데이터를 뽑는 과정이 어려울 수도 있다.\n",
    "# 해당 요소에 접근하여 획득하는게 나을 수 있음."
   ]
  },
  {
   "cell_type": "code",
   "execution_count": 51,
   "metadata": {
    "scrolled": true
   },
   "outputs": [
    {
     "name": "stdout",
     "output_type": "stream",
     "text": [
      "<p class=\"inner-text first-item\" id=\"first\">\n",
      "                Atsuta Horaiken, Matsuzakaya\n",
      "                <a href=\"https://www.tripadvisor.co.kr/Restaurant_Review-g14134968-d1772996-Reviews-Atsuta_Horaiken_Matsuzakaya-Sakae_Naka_Nagoya_Aichi_Prefecture_Tokai_Chubu.html\" id=\"link1\">3-30-8 Sakae, Naka-ku, Sakae, Naka, 나고야, 아이치(현), Tokai, 추부, 일본</a>\n",
      "            </p>\n",
      "<p class=\"inner-text second-item\">\n",
      "                Maruya Honten, JR Nagoya Station\n",
      "                <a href=\"https://www.tripadvisor.co.kr/Restaurant_Review-g14127387-d10397085-Reviews-Maruya_Honten_JR_Nagoya_Station-Nakamura_Nagoya_Aichi_Prefecture_Tokai_Chubu.html\" id=\"link2\">1-1-4 Meieki, Nakamura-ku, Nakamura, 나고야, 아이치(현), Tokai, 추부, 일본</a>\n",
      "            </p>\n",
      "<p class=\"outer-text first-item\" id=\"second\">\n",
      "            <b>\n",
      "                Hitsumabushi Nagoya Bincho Ginza\n",
      "            </b>\n",
      "        </p>\n",
      "<p class=\"outer-text\">\n",
      "            <b>\n",
      "                Yabaton Nagoya station Esuka\n",
      "            </b>\n",
      "        </p>\n"
     ]
    }
   ],
   "source": [
    "for p_tag in soup.select('p'):\n",
    "    print(p_tag)"
   ]
  },
  {
   "cell_type": "code",
   "execution_count": null,
   "metadata": {},
   "outputs": [],
   "source": []
  },
  {
   "cell_type": "code",
   "execution_count": 5,
   "metadata": {},
   "outputs": [
    {
     "ename": "SyntaxError",
     "evalue": "unexpected EOF while parsing (<ipython-input-5-7f9204c65e06>, line 17)",
     "output_type": "error",
     "traceback": [
      "\u001b[1;36m  File \u001b[1;32m\"<ipython-input-5-7f9204c65e06>\"\u001b[1;36m, line \u001b[1;32m17\u001b[0m\n\u001b[1;33m    #링크주소 획득\u001b[0m\n\u001b[1;37m             ^\u001b[0m\n\u001b[1;31mSyntaxError\u001b[0m\u001b[1;31m:\u001b[0m unexpected EOF while parsing\n"
     ]
    }
   ],
   "source": [
    "# 원하는 데이터가 어디에 있는지 찾아서(css selector or xpath- 구조 바뀌면 다시 ), 원하는 정보 추출\n",
    "# css selector - find\n",
    "# 대상이 되는 데이터 n개를 찾는 방법\n",
    "# soup.find_all(), soup.select()\n",
    "# 대상이 되는 데이터 1개마나 찾는 방법\n",
    "# soup.find() soup.select_one()\n",
    "\n",
    "# 대상이 되는 class : ui_column is-12 content-column result-card\n",
    "# css selector => ui_column is-12 content-column result-card\n",
    "# #BODY_BLOCK_JQUERY_REFLOW > div.page > div > div.ui_container.main_wrap > div > div > div > div > div.content_column.ui_column.is-9-desktop.is-12-tablet.is-12-mobile > div > div.ui_columns.sections_wrapper > div > div.prw_rup.prw_search_search_results > div > div.main_content.ui_column.is-12 > div > div:nth-child(2) > div > div > div:nth-child(1) > div > div > div\n",
    "# \n",
    "for cell in soup.select('.ui_column is-12 content-column result-card'):\n",
    "    #여기서 아래로 어떻게 접근 할거지?\n",
    "    #썸네일 획득\n",
    "    #업체명획득\n",
    "    #주소획득\n",
    "    #링크주소 획득 \n"
   ]
  },
  {
   "cell_type": "code",
   "execution_count": null,
   "metadata": {},
   "outputs": [],
   "source": []
  },
  {
   "cell_type": "code",
   "execution_count": null,
   "metadata": {},
   "outputs": [],
   "source": []
  }
 ],
 "metadata": {
  "kernelspec": {
   "display_name": "Python 3",
   "language": "python",
   "name": "python3"
  },
  "language_info": {
   "codemirror_mode": {
    "name": "ipython",
    "version": 3
   },
   "file_extension": ".py",
   "mimetype": "text/x-python",
   "name": "python",
   "nbconvert_exporter": "python",
   "pygments_lexer": "ipython3",
   "version": "3.6.5"
  }
 },
 "nbformat": 4,
 "nbformat_minor": 2
}
