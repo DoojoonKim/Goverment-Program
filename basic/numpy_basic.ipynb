{
 "cells": [
  {
   "cell_type": "markdown",
   "metadata": {},
   "source": [
    "## Numpy\n",
    "- 과학, 수학 계산용으로 개발된 모듈  \n",
    "- 다양한 분야에서 사용됨. 다른 모듈의 기반/ 기본 모듈로 많이 사용됨  \n",
    "- 처리속도는 python의 2배 ~ 수백배 빠름  \n",
    "- 대용량 처리에 적합한 모듈  \n",
    "- 기본적으로 사용하는 자료 구조   \n",
    "> 배열 - ndarray \n",
    "- 설치  \n",
    "> pip install numpy  \n",
    "> 아나콘다 사용시 자동으로 설치됨"
   ]
  },
  {
   "cell_type": "code",
   "execution_count": 1,
   "metadata": {},
   "outputs": [],
   "source": [
    "# 기본 모듈 가져오기\n",
    "import numpy as np\n"
   ]
  },
  {
   "cell_type": "code",
   "execution_count": 2,
   "metadata": {},
   "outputs": [
    {
     "name": "stdout",
     "output_type": "stream",
     "text": [
      "[       0        1        2 ... 99999997 99999998 99999999]\n"
     ]
    }
   ],
   "source": [
    "# 대용량의 배열도 거의 바로 생성한다.\n",
    "my_arr = np.arange(100000000)\n",
    "my_arr\n",
    "# 대괄호로 표기, 맴버간 구분자가 없다.\n",
    "print(my_arr)"
   ]
  },
  {
   "cell_type": "code",
   "execution_count": 3,
   "metadata": {},
   "outputs": [],
   "source": [
    "# 대용량 배열에 개쓰레기\n",
    "my_list = list(range(100000000)) # 개 쓰레기\n"
   ]
  },
  {
   "cell_type": "markdown",
   "metadata": {},
   "source": [
    "### 기본 배열 및 특성확인"
   ]
  },
  {
   "cell_type": "code",
   "execution_count": 4,
   "metadata": {},
   "outputs": [
    {
     "name": "stdout",
     "output_type": "stream",
     "text": [
      "[[-1.36197036 -0.01567891  0.8395122 ]\n",
      " [-0.40716858  0.11336508 -1.08714001]]\n"
     ]
    }
   ],
   "source": [
    "# 표준편차 1, 평균값이 0인 정규분포상에서 난수를 만들어서 배열로 만들어라.\n",
    "my_arr=np.random.randn(2,3) # 표준정규분포의 난수를 2 x 3의 형태로 나타냄\n",
    "print(my_arr)"
   ]
  },
  {
   "cell_type": "code",
   "execution_count": 5,
   "metadata": {},
   "outputs": [
    {
     "data": {
      "text/plain": [
       "array([[-13.61970359,  -0.15678905,   8.39512198],\n",
       "       [ -4.07168577,   1.13365076, -10.87140008]])"
      ]
     },
     "execution_count": 5,
     "metadata": {},
     "output_type": "execute_result"
    }
   ],
   "source": [
    "# 백터 * 스칼라값 곱한다.(원소 각각에 스칼라를 곱해서 반영)\n",
    "my_arr * 10"
   ]
  },
  {
   "cell_type": "code",
   "execution_count": 6,
   "metadata": {},
   "outputs": [
    {
     "data": {
      "text/plain": [
       "array([[-2.72394072, -0.03135781,  1.6790244 ],\n",
       "       [-0.81433715,  0.22673015, -2.17428002]])"
      ]
     },
     "execution_count": 6,
     "metadata": {},
     "output_type": "execute_result"
    }
   ],
   "source": [
    "# 백터는 배열로 표현 할 수 있어서 배열을 백터로 표현\n",
    "# 백터합\n",
    "my_arr + my_arr\n"
   ]
  },
  {
   "cell_type": "code",
   "execution_count": 7,
   "metadata": {},
   "outputs": [
    {
     "data": {
      "text/plain": [
       "(2, 3)"
      ]
     },
     "execution_count": 7,
     "metadata": {},
     "output_type": "execute_result"
    }
   ],
   "source": [
    "# 배열의 특성\n",
    "my_arr.shape\n",
    "# dim(my_arr)"
   ]
  },
  {
   "cell_type": "code",
   "execution_count": 8,
   "metadata": {},
   "outputs": [
    {
     "data": {
      "text/plain": [
       "dtype('float64')"
      ]
     },
     "execution_count": 8,
     "metadata": {},
     "output_type": "execute_result"
    }
   ],
   "source": [
    "# 배열의 element 타입 => numpy의 배열은 모드 같은 타입을 가진다.\n",
    "my_arr.dtype"
   ]
  },
  {
   "cell_type": "code",
   "execution_count": 9,
   "metadata": {},
   "outputs": [
    {
     "data": {
      "text/plain": [
       "2"
      ]
     },
     "execution_count": 9,
     "metadata": {},
     "output_type": "execute_result"
    }
   ],
   "source": [
    "# 깊이\n",
    "my_arr.ndim # 행의 수"
   ]
  },
  {
   "cell_type": "code",
   "execution_count": 10,
   "metadata": {},
   "outputs": [
    {
     "data": {
      "text/plain": [
       "array([1, 2, 3, 4, 5])"
      ]
     },
     "execution_count": 10,
     "metadata": {},
     "output_type": "execute_result"
    }
   ],
   "source": [
    "# 배열(ndarray) 생성 -> 리스트로 생성\n",
    "np.array([1,2,3,4,5])"
   ]
  },
  {
   "cell_type": "code",
   "execution_count": 11,
   "metadata": {},
   "outputs": [
    {
     "name": "stdout",
     "output_type": "stream",
     "text": [
      "[[[1 2 3 4]\n",
      "  [5 6 7 8]]\n",
      "\n",
      " [[1 2 3 4]\n",
      "  [5 6 7 8]]] int32 (2, 2, 4) 3\n"
     ]
    }
   ],
   "source": [
    "# 다차원 리스트(2, 2, 4)\n",
    "tmp_data = [[[1,2,3,4],[5,6,7,8]],[[1,2,3,4],[5,6,7,8]]]\n",
    "arr = np.array(tmp_data)\n",
    "print(arr, arr.dtype, arr.shape, arr.ndim)"
   ]
  },
  {
   "cell_type": "code",
   "execution_count": 12,
   "metadata": {},
   "outputs": [
    {
     "name": "stdout",
     "output_type": "stream",
     "text": [
      "[0. 0. 0. 0. 0. 0. 0. 0. 0. 0.] float64 1\n"
     ]
    }
   ],
   "source": [
    "# 제로로 만들기\n",
    "arr = np.zeros(10) # 구성원이 모두 0인 백터를 생성.\n",
    "print(arr, arr.dtype, arr.ndim)"
   ]
  },
  {
   "cell_type": "code",
   "execution_count": 13,
   "metadata": {},
   "outputs": [
    {
     "data": {
      "text/plain": [
       "array([0., 0., 0., 3., 0.])"
      ]
     },
     "execution_count": 13,
     "metadata": {},
     "output_type": "execute_result"
    }
   ],
   "source": [
    "# np.zeros(shape 형태로)\n",
    "arr = np.zeros( (2,3))\n",
    "arr\n",
    "arr = np.zeros( 5)\n",
    "arr[3]=3\n",
    "arr"
   ]
  },
  {
   "cell_type": "code",
   "execution_count": 14,
   "metadata": {},
   "outputs": [
    {
     "name": "stdout",
     "output_type": "stream",
     "text": [
      "[0. 0. 0. 0. 0. 0. 0. 0. 0. 0.] <built-in method astype of numpy.ndarray object at 0x000000001C1007B0> float64 1\n"
     ]
    }
   ],
   "source": [
    "# 주로 0이 세팅이 되나 반드시 0이 아닌 배열\n",
    "arr = np.empty(10)\n",
    "print(arr,arr.astype,arr.dtype,arr.ndim)\n"
   ]
  },
  {
   "cell_type": "code",
   "execution_count": 15,
   "metadata": {},
   "outputs": [
    {
     "name": "stdout",
     "output_type": "stream",
     "text": [
      "[1. 2. 3.] float64\n"
     ]
    }
   ],
   "source": [
    "# 타입 지정으로 생성\n",
    "# 지정하지 않으면 값을 보고 가장 적절한 타입으로 자동배치\n",
    "arr1 = np.array([1,2,3],dtype=np.float64)\n",
    "print(arr1,arr1.dtype)"
   ]
  },
  {
   "cell_type": "code",
   "execution_count": 16,
   "metadata": {},
   "outputs": [
    {
     "data": {
      "text/plain": [
       "array([1, 2, 3], dtype=int64)"
      ]
     },
     "execution_count": 16,
     "metadata": {},
     "output_type": "execute_result"
    }
   ],
   "source": [
    "# 생성을 했는데 적용을 다시 하고 싶다.\n",
    "arr1=arr1.astype(np.int64) # 해당 메모리에 접근해서 바꿔주는게 아니라 새로 생성 해주는거다.\n",
    "arr1"
   ]
  },
  {
   "cell_type": "code",
   "execution_count": 17,
   "metadata": {},
   "outputs": [
    {
     "data": {
      "text/plain": [
       "array([3.14, 1.22, 6.98])"
      ]
     },
     "execution_count": 17,
     "metadata": {},
     "output_type": "execute_result"
    }
   ],
   "source": [
    "# 재료의 원소들이 문자열 => 수치형\n",
    "\n",
    "arr = np.array(['3.14','1.22','6.98'],dtype=np.float64)\n",
    "arr"
   ]
  },
  {
   "cell_type": "code",
   "execution_count": 18,
   "metadata": {},
   "outputs": [
    {
     "data": {
      "text/plain": [
       "array([b'3.14', b'1.22', b'6.98'], dtype='|S4')"
      ]
     },
     "execution_count": 18,
     "metadata": {},
     "output_type": "execute_result"
    }
   ],
   "source": [
    "arr = np.array(['3.14','1.22','6.98'],dtype=np.string_)\n",
    "arr"
   ]
  },
  {
   "cell_type": "code",
   "execution_count": 19,
   "metadata": {},
   "outputs": [
    {
     "data": {
      "text/plain": [
       "array([3.14, 1.22, 6.98])"
      ]
     },
     "execution_count": 19,
     "metadata": {},
     "output_type": "execute_result"
    }
   ],
   "source": [
    "arr.astype(np.float64)"
   ]
  },
  {
   "cell_type": "code",
   "execution_count": 20,
   "metadata": {},
   "outputs": [
    {
     "name": "stdout",
     "output_type": "stream",
     "text": [
      "[ 171573336  975183904 1952673652  979723634 1852139296] uint32\n"
     ]
    }
   ],
   "source": [
    "# 타입은 약식 문자열로 표기\n",
    "arr = np.empty(5,dtype='u4')\n",
    "print(arr, arr.dtype)"
   ]
  },
  {
   "cell_type": "markdown",
   "metadata": {},
   "source": [
    "## 배열 연산(백터 연산)\n",
    "- numpy의 구성 = 선형대수, 난수 발생기, 푸리에 변환  \n",
    "- 벡터 배열상에서 데이터개조, 정제, 자원축소, 필터링, 변형, 기타 연산 수행\n",
    "- 데이터 분석(X) => pandas에서 사용 => R을 겨냥해서 만든 모듈\n",
    "- 정렬, 유일 원소 찾기, 집합관련안산 지원\n",
    "- 데이터 병\n",
    "- 조건식 사용(if~ else~ 대용으로 삼항연산자 느낌)\n"
   ]
  },
  {
   "cell_type": "code",
   "execution_count": 21,
   "metadata": {},
   "outputs": [
    {
     "name": "stdout",
     "output_type": "stream",
     "text": [
      "[[1. 2. 3.]\n",
      " [4. 5. 6.]] (2, 3) float64 2\n"
     ]
    }
   ],
   "source": [
    "# (2,3)배열 생성 1. 2. ~6.\n",
    "arr = np.array([1,2,3,4,5,6],dtype=np.float64)\n",
    "arr.resize((2,3))\n",
    "print(arr,arr.shape,arr.dtype,arr.ndim)"
   ]
  },
  {
   "cell_type": "code",
   "execution_count": 22,
   "metadata": {},
   "outputs": [
    {
     "name": "stdout",
     "output_type": "stream",
     "text": [
      "[[ 2.  4.  6.]\n",
      " [ 8. 10. 12.]]\n"
     ]
    }
   ],
   "source": [
    "# 선형대수\n",
    "print( arr + arr)"
   ]
  },
  {
   "cell_type": "code",
   "execution_count": 23,
   "metadata": {},
   "outputs": [
    {
     "name": "stdout",
     "output_type": "stream",
     "text": [
      "[[ 1.  4.  9.]\n",
      " [16. 25. 36.]]\n"
     ]
    }
   ],
   "source": [
    "print(arr * arr)"
   ]
  },
  {
   "cell_type": "code",
   "execution_count": 24,
   "metadata": {},
   "outputs": [
    {
     "name": "stdout",
     "output_type": "stream",
     "text": [
      "[[1.0000e+00 4.0000e+00 2.7000e+01]\n",
      " [2.5600e+02 3.1250e+03 4.6656e+04]]\n"
     ]
    }
   ],
   "source": [
    "#######################################이해안감######################################\n",
    "#arr ^(arr)\n",
    "print(arr ** arr)"
   ]
  },
  {
   "cell_type": "code",
   "execution_count": 25,
   "metadata": {},
   "outputs": [
    {
     "name": "stdout",
     "output_type": "stream",
     "text": [
      "[[ 1.  4.  9.]\n",
      " [16. 25. 36.]]\n"
     ]
    }
   ],
   "source": [
    "print(arr * arr)"
   ]
  },
  {
   "cell_type": "code",
   "execution_count": 26,
   "metadata": {},
   "outputs": [
    {
     "name": "stdout",
     "output_type": "stream",
     "text": [
      "[[1. 1. 1.]\n",
      " [1. 1. 1.]]\n"
     ]
    }
   ],
   "source": [
    "print(arr/ arr)"
   ]
  },
  {
   "cell_type": "code",
   "execution_count": 27,
   "metadata": {},
   "outputs": [
    {
     "name": "stdout",
     "output_type": "stream",
     "text": [
      "[[ True False  True]\n",
      " [False  True False]]\n"
     ]
    }
   ],
   "source": [
    "# 비교식 이용하여 배열획득 => 블린\n",
    "arr2 = np.array([[0,3,1],[6,2,11]])\n",
    "print( arr > arr2 ) # 같은 위치 하나하나 비교"
   ]
  },
  {
   "cell_type": "code",
   "execution_count": 28,
   "metadata": {},
   "outputs": [
    {
     "data": {
      "text/plain": [
       "array([0, 1, 2, 3, 4, 5, 6, 7, 8, 9])"
      ]
     },
     "execution_count": 28,
     "metadata": {},
     "output_type": "execute_result"
    }
   ],
   "source": [
    "# 인덱싱, 슬라이싱 => 정제, 자원축소, 데이터 가공\n",
    "# 슬라이싱 단점 : 데이터가 연속적이지 않으면 불가능\n",
    "arr = np.arange(10)\n",
    "arr"
   ]
  },
  {
   "cell_type": "code",
   "execution_count": 29,
   "metadata": {},
   "outputs": [
    {
     "data": {
      "text/plain": [
       "2"
      ]
     },
     "execution_count": 29,
     "metadata": {},
     "output_type": "execute_result"
    }
   ],
   "source": [
    "# 인덱싱\n",
    "# 차원축소\n",
    "# 2를 출력하시오\n",
    "arr[2]"
   ]
  },
  {
   "cell_type": "code",
   "execution_count": 30,
   "metadata": {},
   "outputs": [
    {
     "data": {
      "text/plain": [
       "array([5, 6, 7, 8])"
      ]
     },
     "execution_count": 30,
     "metadata": {},
     "output_type": "execute_result"
    }
   ],
   "source": [
    "#슬라이싱 => 인덱스 계산은 경계에 가까운 쪽에서 진행\n",
    "# 차원유지\n",
    "arr[5:9]"
   ]
  },
  {
   "cell_type": "code",
   "execution_count": 31,
   "metadata": {},
   "outputs": [
    {
     "data": {
      "text/plain": [
       "array([5, 6, 7, 8])"
      ]
     },
     "execution_count": 31,
     "metadata": {},
     "output_type": "execute_result"
    }
   ],
   "source": [
    "# 사본생성\n",
    "arr[5:-1]"
   ]
  },
  {
   "cell_type": "code",
   "execution_count": 32,
   "metadata": {},
   "outputs": [
    {
     "data": {
      "text/plain": [
       "array([  0,   1,   2,   3,   4, 100, 100, 100, 100,   9])"
      ]
     },
     "execution_count": 32,
     "metadata": {},
     "output_type": "execute_result"
    }
   ],
   "source": [
    "# 원본 조작\n",
    "arr[5:-1] = 100\n",
    "arr"
   ]
  },
  {
   "cell_type": "code",
   "execution_count": 33,
   "metadata": {},
   "outputs": [
    {
     "data": {
      "text/plain": [
       "array([[1, 2, 3],\n",
       "       [4, 5, 6],\n",
       "       [7, 8, 9]])"
      ]
     },
     "execution_count": 33,
     "metadata": {},
     "output_type": "execute_result"
    }
   ],
   "source": [
    "# 2차원 슬라이싱\n",
    "# (3,3), 원소 1-9까지 (간격1)\n",
    "arr = np.array([[1,2,3],[4,5,6],[7,8,9]])\n",
    "arr"
   ]
  },
  {
   "cell_type": "code",
   "execution_count": 34,
   "metadata": {},
   "outputs": [
    {
     "data": {
      "text/plain": [
       "array([[1, 2, 3],\n",
       "       [4, 5, 6]])"
      ]
     },
     "execution_count": 34,
     "metadata": {},
     "output_type": "execute_result"
    }
   ],
   "source": [
    "#shape => (2,3)\n",
    "#1차원 요소만 슬라이싱\n",
    "arr[:2]#마지막꺼 뺌"
   ]
  },
  {
   "cell_type": "code",
   "execution_count": 35,
   "metadata": {},
   "outputs": [
    {
     "data": {
      "text/plain": [
       "array([[2, 3],\n",
       "       [5, 6]])"
      ]
     },
     "execution_count": 35,
     "metadata": {},
     "output_type": "execute_result"
    }
   ],
   "source": [
    "a = arr[:2,1:]\n",
    "a"
   ]
  },
  {
   "cell_type": "code",
   "execution_count": 36,
   "metadata": {},
   "outputs": [
    {
     "data": {
      "text/plain": [
       "array([[4, 5],\n",
       "       [7, 8]])"
      ]
     },
     "execution_count": 36,
     "metadata": {},
     "output_type": "execute_result"
    }
   ],
   "source": [
    "# (2,2) 결과가 나오는데 4,5,7,8만 데이터가 나오게\n",
    "arr[1:,:2]"
   ]
  },
  {
   "cell_type": "code",
   "execution_count": 37,
   "metadata": {},
   "outputs": [
    {
     "data": {
      "text/plain": [
       "array([4, 5])"
      ]
     },
     "execution_count": 37,
     "metadata": {},
     "output_type": "execute_result"
    }
   ],
   "source": [
    "#(2)결곽 ㅏ나오는데 4,5만 데이터가 나오게\n",
    "arr[1,:2]"
   ]
  },
  {
   "cell_type": "code",
   "execution_count": 38,
   "metadata": {},
   "outputs": [
    {
     "data": {
      "text/plain": [
       "array([3, 6])"
      ]
     },
     "execution_count": 38,
     "metadata": {},
     "output_type": "execute_result"
    }
   ],
   "source": [
    "#(2) 결과가 나오는데 3,6만 데이터가 나오게\n",
    "arr[:2,2]"
   ]
  },
  {
   "cell_type": "code",
   "execution_count": 39,
   "metadata": {},
   "outputs": [
    {
     "data": {
      "text/plain": [
       "array([[1],\n",
       "       [4],\n",
       "       [7]])"
      ]
     },
     "execution_count": 39,
     "metadata": {},
     "output_type": "execute_result"
    }
   ],
   "source": [
    "#(3,1) 결과가 나오는데 1,4,7만 데이터가 나오게\n",
    "arr[:,:1]\n",
    "#arr[:,0]"
   ]
  },
  {
   "cell_type": "code",
   "execution_count": 40,
   "metadata": {},
   "outputs": [
    {
     "data": {
      "text/plain": [
       "array(['A', 'B', 'C', 'D', 'A', 'C', 'B'], dtype='<U1')"
      ]
     },
     "execution_count": 40,
     "metadata": {},
     "output_type": "execute_result"
    }
   ],
   "source": [
    "# 불리언 인덱싱\n",
    "# True or False로 구성된 배열 데이터를 이용하여 다른 데이터를 필터링 한다.\n",
    "# 2개의 배열간에 상관성이 있어야 한다.\n",
    "alpha_tmp = np.array(['A','B','C','D','A','C','B']) #구성원 7\n",
    "data = np.random.randn(7,4)\n",
    "alpha_tmp"
   ]
  },
  {
   "cell_type": "code",
   "execution_count": 41,
   "metadata": {},
   "outputs": [
    {
     "data": {
      "text/plain": [
       "array([[ 0.92387058, -0.28913744, -0.95519254, -0.37534714],\n",
       "       [-1.11669433, -0.99225603,  1.93346087, -0.57107368],\n",
       "       [-0.12811813, -0.45116943,  0.73921132, -1.28182547],\n",
       "       [-0.46343639,  0.93715557, -0.55192629, -0.75046845],\n",
       "       [ 0.60521018, -0.018365  , -1.08512625,  0.86460863],\n",
       "       [-0.48729569, -0.71391419, -0.47056029,  0.01910659],\n",
       "       [-0.76351706,  0.76678837,  0.25788897,  0.43091185]])"
      ]
     },
     "execution_count": 41,
     "metadata": {},
     "output_type": "execute_result"
    }
   ],
   "source": [
    "data"
   ]
  },
  {
   "cell_type": "code",
   "execution_count": 42,
   "metadata": {},
   "outputs": [
    {
     "data": {
      "text/plain": [
       "array([ True, False, False, False,  True, False, False])"
      ]
     },
     "execution_count": 42,
     "metadata": {},
     "output_type": "execute_result"
    }
   ],
   "source": [
    "# 블리언 생성\n",
    "alpha_tmp == 'A'"
   ]
  },
  {
   "cell_type": "code",
   "execution_count": 43,
   "metadata": {},
   "outputs": [
    {
     "data": {
      "text/plain": [
       "array([[ 0.92387058, -0.28913744, -0.95519254, -0.37534714],\n",
       "       [ 0.60521018, -0.018365  , -1.08512625,  0.86460863]])"
      ]
     },
     "execution_count": 43,
     "metadata": {},
     "output_type": "execute_result"
    }
   ],
   "source": [
    "# 블\n",
    "# 행들이 연속적이지 않아도 띄엄띄엄 있어도 데이터를 축소해서 모을 수 있다.\n",
    "data[alpha_tmp == 'A']\n",
    "# 첫번째 행, 5번째 행 모았다."
   ]
  },
  {
   "cell_type": "code",
   "execution_count": 44,
   "metadata": {},
   "outputs": [
    {
     "data": {
      "text/plain": [
       "array([[-0.95519254, -0.37534714],\n",
       "       [-1.08512625,  0.86460863]])"
      ]
     },
     "execution_count": 44,
     "metadata": {},
     "output_type": "execute_result"
    }
   ],
   "source": [
    "# 블리언 인덱싱(행을 정리) + 슬라이싱(열을 정리)\n",
    "# 비연속적인 데이터를 추출했다.\n",
    "data[alpha_tmp=='A',2:]"
   ]
  },
  {
   "cell_type": "code",
   "execution_count": 45,
   "metadata": {},
   "outputs": [
    {
     "data": {
      "text/plain": [
       "array([[-0.37534714],\n",
       "       [ 0.86460863]])"
      ]
     },
     "execution_count": 45,
     "metadata": {},
     "output_type": "execute_result"
    }
   ],
   "source": [
    "# 블리언 인덱싱(행을 정리) + 슬라이싱(열을 정리\n",
    "data[alpha_tmp=='A',3:]"
   ]
  },
  {
   "cell_type": "code",
   "execution_count": 46,
   "metadata": {},
   "outputs": [
    {
     "data": {
      "text/plain": [
       "array([[ 0.92387058, -0.28913744, -0.95519254, -0.37534714],\n",
       "       [-1.11669433, -0.99225603,  1.93346087, -0.57107368],\n",
       "       [-0.12811813, -0.45116943,  0.73921132, -1.28182547],\n",
       "       [-0.46343639,  0.93715557, -0.55192629, -0.75046845],\n",
       "       [ 0.60521018, -0.018365  , -1.08512625,  0.86460863],\n",
       "       [-0.48729569, -0.71391419, -0.47056029,  0.01910659],\n",
       "       [-0.76351706,  0.76678837,  0.25788897,  0.43091185]])"
      ]
     },
     "execution_count": 46,
     "metadata": {},
     "output_type": "execute_result"
    }
   ],
   "source": [
    "# data 배열에서 특정값들을 정리\n",
    "data"
   ]
  },
  {
   "cell_type": "code",
   "execution_count": 47,
   "metadata": {},
   "outputs": [
    {
     "data": {
      "text/plain": [
       "array([[0.92387058, 0.        , 0.        , 0.        ],\n",
       "       [0.        , 0.        , 1.93346087, 0.        ],\n",
       "       [0.        , 0.        , 0.73921132, 0.        ],\n",
       "       [0.        , 0.93715557, 0.        , 0.        ],\n",
       "       [0.60521018, 0.        , 0.        , 0.86460863],\n",
       "       [0.        , 0.        , 0.        , 0.01910659],\n",
       "       [0.        , 0.76678837, 0.25788897, 0.43091185]])"
      ]
     },
     "execution_count": 47,
     "metadata": {},
     "output_type": "execute_result"
    }
   ],
   "source": [
    "#계산하는데 음수값은 필요없다. => 값을 보정 처리\n",
    "data[data<0] = 0\n",
    "data"
   ]
  },
  {
   "cell_type": "code",
   "execution_count": 48,
   "metadata": {},
   "outputs": [
    {
     "name": "stdout",
     "output_type": "stream",
     "text": [
      "[[0. 0. 0. 0.]\n",
      " [1. 1. 1. 1.]\n",
      " [2. 2. 2. 2.]\n",
      " [3. 3. 3. 3.]\n",
      " [4. 4. 4. 4.]\n",
      " [5. 5. 5. 5.]\n",
      " [6. 6. 6. 6.]\n",
      " [7. 7. 7. 7.]] (8, 4) float64 2\n"
     ]
    }
   ],
   "source": [
    "# 펜시 인덱싱 => 색인으로 추출\n",
    "# (8,4) 배열 생성 ->반드시 0이 아니어도 된다.\n",
    "arr = np.empty((8,4))\n",
    "#값을 초기화\n",
    "for n in range(8):\n",
    "    arr[n] = n\n",
    "print(arr,arr.shape,arr.dtype,arr.ndim)"
   ]
  },
  {
   "cell_type": "code",
   "execution_count": 49,
   "metadata": {},
   "outputs": [
    {
     "data": {
      "text/plain": [
       "array([[4., 4., 4., 4.],\n",
       "       [3., 3., 3., 3.],\n",
       "       [0., 0., 0., 0.],\n",
       "       [5., 5., 5., 5.]])"
      ]
     },
     "execution_count": 49,
     "metadata": {},
     "output_type": "execute_result"
    }
   ],
   "source": [
    "# 펜시 인덱싱 = > 색인 => 인덱싱\n",
    "# 행만 선택\n",
    "arr[[4,3,0,5]]"
   ]
  },
  {
   "cell_type": "code",
   "execution_count": 50,
   "metadata": {},
   "outputs": [
    {
     "data": {
      "text/plain": [
       "array([[ 0,  1,  2,  3],\n",
       "       [ 4,  5,  6,  7],\n",
       "       [ 8,  9, 10, 11],\n",
       "       [12, 13, 14, 15],\n",
       "       [16, 17, 18, 19],\n",
       "       [20, 21, 22, 23],\n",
       "       [24, 25, 26, 27],\n",
       "       [28, 29, 30, 31]])"
      ]
     },
     "execution_count": 50,
     "metadata": {},
     "output_type": "execute_result"
    }
   ],
   "source": [
    "arr = np.arange(32).reshape((8,4))\n",
    "arr"
   ]
  },
  {
   "cell_type": "code",
   "execution_count": 51,
   "metadata": {},
   "outputs": [
    {
     "data": {
      "text/plain": [
       "array([ 4, 23, 29, 10])"
      ]
     },
     "execution_count": 51,
     "metadata": {},
     "output_type": "execute_result"
    }
   ],
   "source": [
    "# 행과 열을 선택 => 차원축소\n",
    "arr[[1,5,7,2],[0,3,1,2]]"
   ]
  },
  {
   "cell_type": "code",
   "execution_count": 52,
   "metadata": {},
   "outputs": [
    {
     "data": {
      "text/plain": [
       "array([[ 4,  7,  5,  6],\n",
       "       [20, 23, 21, 22],\n",
       "       [28, 31, 29, 30],\n",
       "       [ 8, 11,  9, 10]])"
      ]
     },
     "execution_count": 52,
     "metadata": {},
     "output_type": "execute_result"
    }
   ],
   "source": [
    "#######################################다시보기################################\n",
    "arr[[1,5,7,2]][:,[0,3,1,2]]"
   ]
  },
  {
   "cell_type": "code",
   "execution_count": 53,
   "metadata": {},
   "outputs": [
    {
     "data": {
      "text/plain": [
       "array([[15, 13],\n",
       "       [27, 25]])"
      ]
     },
     "execution_count": 53,
     "metadata": {},
     "output_type": "execute_result"
    }
   ],
   "source": [
    "'''\n",
    "[\n",
    "[15,13]\n",
    "[27,25]\n",
    "]\n",
    "'''\n",
    "arr[[3,6]][:,[3,1]]"
   ]
  },
  {
   "cell_type": "code",
   "execution_count": 54,
   "metadata": {},
   "outputs": [
    {
     "data": {
      "text/plain": [
       "array([[ 0,  5, 10],\n",
       "       [ 1,  6, 11],\n",
       "       [ 2,  7, 12],\n",
       "       [ 3,  8, 13],\n",
       "       [ 4,  9, 14]])"
      ]
     },
     "execution_count": 54,
     "metadata": {},
     "output_type": "execute_result"
    }
   ],
   "source": [
    "# 축변환 (3,5)\n",
    "arr = np.arange(15).reshape(3,5)\n",
    "arr.T"
   ]
  },
  {
   "cell_type": "code",
   "execution_count": 55,
   "metadata": {},
   "outputs": [
    {
     "data": {
      "text/plain": [
       "array([0.        , 1.        , 1.41421356, 1.73205081, 2.        ,\n",
       "       2.23606798, 2.44948974, 2.64575131, 2.82842712, 3.        ])"
      ]
     },
     "execution_count": 55,
     "metadata": {},
     "output_type": "execute_result"
    }
   ],
   "source": [
    "# 유니버셜 함수(np.~)\n",
    "arr = np.arange(10)\n",
    "np.sqrt(arr)"
   ]
  },
  {
   "cell_type": "code",
   "execution_count": 56,
   "metadata": {},
   "outputs": [
    {
     "name": "stdout",
     "output_type": "stream",
     "text": [
      "[-0.1827424   0.39723659 -0.04824337 -0.78676482  0.98185932  0.41349527\n",
      "  0.5663911  -0.87773285] [ 0.02905334 -0.82043417  1.24424077 -0.45581065 -0.51771456 -1.79246713\n",
      " -0.58683099 -0.17122441]\n"
     ]
    }
   ],
   "source": [
    "x = np.random.randn(8)\n",
    "y = np.random.randn(8)\n",
    "print(x,y)"
   ]
  },
  {
   "cell_type": "code",
   "execution_count": 57,
   "metadata": {},
   "outputs": [
    {
     "name": "stdout",
     "output_type": "stream",
     "text": [
      "[ 0.02905334  0.39723659  1.24424077 -0.45581065  0.98185932  0.41349527\n",
      "  0.5663911  -0.17122441]\n"
     ]
    }
   ],
   "source": [
    "#원소별 비교하여 큰쪽값을 취하여 배열로 구성\n",
    "print(np.maximum(x,y))\n"
   ]
  },
  {
   "cell_type": "code",
   "execution_count": 58,
   "metadata": {},
   "outputs": [
    {
     "name": "stdout",
     "output_type": "stream",
     "text": [
      "[-0.1827424  -0.82043417 -0.04824337 -0.78676482 -0.51771456 -1.79246713\n",
      " -0.58683099 -0.87773285]\n"
     ]
    }
   ],
   "source": [
    "print(np.minimum(x,y))"
   ]
  },
  {
   "cell_type": "code",
   "execution_count": 59,
   "metadata": {},
   "outputs": [
    {
     "data": {
      "text/plain": [
       "array([ 1, 20, 30,  4, 50])"
      ]
     },
     "execution_count": 59,
     "metadata": {},
     "output_type": "execute_result"
    }
   ],
   "source": [
    "# 블린값을 비교하여 참일때와 거짓일때 처리하는 방법\n",
    "# np.where()\n",
    "xArr = np.array([1,2,3,4,5])\n",
    "yArr = np.array([1,2,3,4,5])*10\n",
    "cond = np.array([True,False,False,True,False])\n",
    "#조건(블리언):cond 참일때 xArr 거짓일때 yArr\n",
    "arr = np.where(cond,xArr,yArr)\n",
    "arr"
   ]
  },
  {
   "cell_type": "code",
   "execution_count": 60,
   "metadata": {},
   "outputs": [
    {
     "data": {
      "text/plain": [
       "array([[ 0.8465516 ,  0.253401  , -1.48731869,  0.61531427],\n",
       "       [-0.10737783, -0.56994695,  1.23462892, -0.85182665],\n",
       "       [ 1.18562063, -0.80983615, -1.27969532, -0.94154014],\n",
       "       [-0.32842629, -1.11982918,  0.47795321,  0.05510728]])"
      ]
     },
     "execution_count": 60,
     "metadata": {},
     "output_type": "execute_result"
    }
   ],
   "source": [
    "arr = np.random.randn(4,4)\n",
    "arr"
   ]
  },
  {
   "cell_type": "code",
   "execution_count": 61,
   "metadata": {},
   "outputs": [
    {
     "data": {
      "text/plain": [
       "array([[0.8465516 , 0.253401  , 0.        , 0.61531427],\n",
       "       [0.        , 0.        , 1.23462892, 0.        ],\n",
       "       [1.18562063, 0.        , 0.        , 0.        ],\n",
       "       [0.        , 0.        , 0.47795321, 0.05510728]])"
      ]
     },
     "execution_count": 61,
     "metadata": {},
     "output_type": "execute_result"
    }
   ],
   "source": [
    "np.where(arr>0,arr,0)"
   ]
  },
  {
   "cell_type": "code",
   "execution_count": 62,
   "metadata": {},
   "outputs": [
    {
     "data": {
      "text/plain": [
       "-0.17670126856537452"
      ]
     },
     "execution_count": 62,
     "metadata": {},
     "output_type": "execute_result"
    }
   ],
   "source": [
    "# 축별 평균\n",
    "arr.mean()"
   ]
  },
  {
   "cell_type": "code",
   "execution_count": 63,
   "metadata": {},
   "outputs": [
    {
     "data": {
      "text/plain": [
       "array([ 0.05698705, -0.07363063, -0.46136274, -0.22879875])"
      ]
     },
     "execution_count": 63,
     "metadata": {},
     "output_type": "execute_result"
    }
   ],
   "source": [
    "# 행, 가로줄 평균\n",
    "arr.mean(axis = 1)"
   ]
  },
  {
   "cell_type": "code",
   "execution_count": 64,
   "metadata": {},
   "outputs": [
    {
     "data": {
      "text/plain": [
       "array([ 0.39909203, -0.56155282, -0.26360797, -0.28073631])"
      ]
     },
     "execution_count": 64,
     "metadata": {},
     "output_type": "execute_result"
    }
   ],
   "source": [
    "# 열, 가로줄 평균\n",
    "arr.mean(axis = 0)"
   ]
  },
  {
   "cell_type": "code",
   "execution_count": 65,
   "metadata": {},
   "outputs": [
    {
     "data": {
      "text/plain": [
       "array([[0, 1, 2],\n",
       "       [3, 4, 5],\n",
       "       [6, 7, 8]])"
      ]
     },
     "execution_count": 65,
     "metadata": {},
     "output_type": "execute_result"
    }
   ],
   "source": [
    "# 각 원소의 누적합\n",
    "arr = np.arange(9).reshape(3,3)\n",
    "arr"
   ]
  },
  {
   "cell_type": "code",
   "execution_count": 66,
   "metadata": {},
   "outputs": [
    {
     "data": {
      "text/plain": [
       "array([[ 0,  1,  3],\n",
       "       [ 3,  7, 12],\n",
       "       [ 6, 13, 21]], dtype=int32)"
      ]
     },
     "execution_count": 66,
     "metadata": {},
     "output_type": "execute_result"
    }
   ],
   "source": [
    "arr.cumsum(axis=1)"
   ]
  },
  {
   "cell_type": "code",
   "execution_count": 67,
   "metadata": {},
   "outputs": [
    {
     "data": {
      "text/plain": [
       "array([[ 0,  1,  2],\n",
       "       [ 3,  5,  7],\n",
       "       [ 9, 12, 15]], dtype=int32)"
      ]
     },
     "execution_count": 67,
     "metadata": {},
     "output_type": "execute_result"
    }
   ],
   "source": [
    "arr.cumsum(axis=0)"
   ]
  },
  {
   "cell_type": "code",
   "execution_count": 68,
   "metadata": {},
   "outputs": [
    {
     "data": {
      "text/plain": [
       "array([[ 0,  1,  2],\n",
       "       [ 0,  4, 10],\n",
       "       [ 0, 28, 80]], dtype=int32)"
      ]
     },
     "execution_count": 68,
     "metadata": {},
     "output_type": "execute_result"
    }
   ],
   "source": [
    "arr.cumprod(axis=0)"
   ]
  },
  {
   "cell_type": "code",
   "execution_count": 69,
   "metadata": {},
   "outputs": [
    {
     "data": {
      "text/plain": [
       "array([[  0,   0,   0],\n",
       "       [  3,  12,  60],\n",
       "       [  6,  42, 336]], dtype=int32)"
      ]
     },
     "execution_count": 69,
     "metadata": {},
     "output_type": "execute_result"
    }
   ],
   "source": [
    "arr.cumprod(axis=1)"
   ]
  },
  {
   "cell_type": "code",
   "execution_count": 70,
   "metadata": {},
   "outputs": [
    {
     "data": {
      "text/plain": [
       "True"
      ]
     },
     "execution_count": 70,
     "metadata": {},
     "output_type": "execute_result"
    }
   ],
   "source": [
    "# 블리언 배열에서 값검사\n",
    "arr = np.array([False,True,False,True])\n",
    "#한개라도 참이 있는가?\n",
    "arr.any()"
   ]
  },
  {
   "cell_type": "code",
   "execution_count": 71,
   "metadata": {},
   "outputs": [
    {
     "data": {
      "text/plain": [
       "False"
      ]
     },
     "execution_count": 71,
     "metadata": {},
     "output_type": "execute_result"
    }
   ],
   "source": [
    "#모두 참인가?\n",
    "arr.all()"
   ]
  },
  {
   "cell_type": "code",
   "execution_count": 72,
   "metadata": {},
   "outputs": [
    {
     "data": {
      "text/plain": [
       "38.90386550835453"
      ]
     },
     "execution_count": 72,
     "metadata": {},
     "output_type": "execute_result"
    }
   ],
   "source": [
    "#전체 데이터 중에 0보다 큰것들만 총합.\n",
    "arr = np.random.randn(100)\n",
    "arr[arr>0].sum()\n"
   ]
  },
  {
   "cell_type": "code",
   "execution_count": 73,
   "metadata": {},
   "outputs": [
    {
     "data": {
      "text/plain": [
       "45"
      ]
     },
     "execution_count": 73,
     "metadata": {},
     "output_type": "execute_result"
    }
   ],
   "source": [
    "(arr>0).sum() #=>참 =1로 하여 계산한 결과\n"
   ]
  },
  {
   "cell_type": "code",
   "execution_count": 74,
   "metadata": {},
   "outputs": [
    {
     "data": {
      "text/plain": [
       "array([False,  True])"
      ]
     },
     "execution_count": 74,
     "metadata": {},
     "output_type": "execute_result"
    }
   ],
   "source": [
    "#중복제거\n",
    "arr = np.array([False,True,False,True])\n",
    "np.unique(arr) # set으로 하면 오래걸림"
   ]
  },
  {
   "cell_type": "code",
   "execution_count": 75,
   "metadata": {},
   "outputs": [
    {
     "data": {
      "text/plain": [
       "array([[ 37.,  69.],\n",
       "       [ 79., 144.]])"
      ]
     },
     "execution_count": 75,
     "metadata": {},
     "output_type": "execute_result"
    }
   ],
   "source": [
    "#dot\n",
    "#(2,3)행렬곱 (3,2) =>(2,2)\n",
    "x = np.array([[1,2,3],[4,5,6]])\n",
    "y = np.array([[1.,1.],[3.,4.],[10.,20.]])\n",
    "x.dot(y)"
   ]
  },
  {
   "cell_type": "code",
   "execution_count": 76,
   "metadata": {},
   "outputs": [
    {
     "data": {
      "text/plain": [
       "array([0.19151945, 0.62210877, 0.43772774, 0.78535858, 0.77997581,\n",
       "       0.27259261, 0.27646426, 0.80187218, 0.95813935, 0.87593263])"
      ]
     },
     "execution_count": 76,
     "metadata": {},
     "output_type": "execute_result"
    }
   ],
   "source": [
    "# 난수 시드 => 시드가 동일하면 언제나 난수는 같은 순서가 발생한다.\n",
    "\n",
    "ran = np.random.RandomState(1234)\n",
    "#RandomState vs seed\n",
    "ran.rand(10)"
   ]
  },
  {
   "cell_type": "markdown",
   "metadata": {},
   "source": [
    "### numpy 실습  \n",
    "- 계단 오르 내리기\n",
    "- 1단계, 순수 파이썬으로 구현  \n",
    "- 2단계, numpy로 구현  \n",
    "- 3단계, 반복수를 늘려서 통계적으로 확인\n",
    "- 구성내용  \n",
    "> 계단 오르내리기 1000번 수행  \n",
    "> 올라가면 + 1  \n",
    "> 내려가면 - 1  \n",
    "> 오르기 내르기는 랜덤(난수로 생성)  \n",
    "> 최초 위치는 position = 0  \n",
    "> 난수 발생 => 올라간다 => position += 1 -> position 리스트에 기록  \n",
    "> 난수 발생 -> 내려간다 => position -= 1 -> position 리스트에 기록  \n",
    "> 1000번 수행하여 결과는 리스트에 담겨 있다.\n"
   ]
  },
  {
   "cell_type": "code",
   "execution_count": 77,
   "metadata": {},
   "outputs": [
    {
     "name": "stdout",
     "output_type": "stream",
     "text": [
      "[ 0  1  2 ... 40 41 42] \n",
      " 1001\n"
     ]
    }
   ],
   "source": [
    "arr = np.random.randn(1000)\n",
    "#numpy\n",
    "start_position = 0\n",
    "step=np.where(arr>0,1,-1)\n",
    "result=np.hstack([start_position,step]).cumsum()\n",
    "print(result,'\\n',result.size)\n"
   ]
  },
  {
   "cell_type": "code",
   "execution_count": 78,
   "metadata": {},
   "outputs": [
    {
     "data": {
      "text/plain": [
       "[0,\n",
       " -1,\n",
       " 0,\n",
       " -1,\n",
       " 0,\n",
       " -1,\n",
       " 0,\n",
       " -1,\n",
       " 0,\n",
       " 1,\n",
       " 2,\n",
       " 3,\n",
       " 4,\n",
       " 5,\n",
       " 4,\n",
       " 5,\n",
       " 6,\n",
       " 5,\n",
       " 4,\n",
       " 3,\n",
       " 4,\n",
       " 3,\n",
       " 4,\n",
       " 3,\n",
       " 2,\n",
       " 3,\n",
       " 4,\n",
       " 3,\n",
       " 2,\n",
       " 3,\n",
       " 4,\n",
       " 3,\n",
       " 4,\n",
       " 3,\n",
       " 2,\n",
       " 1,\n",
       " 0,\n",
       " -1,\n",
       " -2,\n",
       " -1,\n",
       " -2,\n",
       " -3,\n",
       " -4,\n",
       " -3,\n",
       " -2,\n",
       " -1,\n",
       " -2,\n",
       " -1,\n",
       " -2,\n",
       " -3,\n",
       " -2,\n",
       " -3,\n",
       " -4,\n",
       " -3,\n",
       " -2,\n",
       " -1,\n",
       " 0,\n",
       " -1,\n",
       " -2,\n",
       " -1,\n",
       " -2,\n",
       " -3,\n",
       " -2,\n",
       " -1,\n",
       " 0,\n",
       " 1,\n",
       " 2,\n",
       " 3,\n",
       " 4,\n",
       " 5,\n",
       " 6,\n",
       " 7,\n",
       " 6,\n",
       " 5,\n",
       " 6,\n",
       " 7,\n",
       " 6,\n",
       " 5,\n",
       " 6,\n",
       " 5,\n",
       " 4,\n",
       " 5,\n",
       " 6,\n",
       " 5,\n",
       " 6,\n",
       " 5,\n",
       " 6,\n",
       " 7,\n",
       " 6,\n",
       " 7,\n",
       " 8,\n",
       " 7,\n",
       " 6,\n",
       " 7,\n",
       " 8,\n",
       " 7,\n",
       " 6,\n",
       " 5,\n",
       " 4,\n",
       " 3,\n",
       " 4,\n",
       " 5,\n",
       " 6,\n",
       " 5,\n",
       " 4,\n",
       " 5,\n",
       " 6,\n",
       " 5,\n",
       " 4,\n",
       " 3,\n",
       " 4,\n",
       " 5,\n",
       " 6,\n",
       " 7,\n",
       " 8,\n",
       " 7,\n",
       " 8,\n",
       " 7,\n",
       " 6,\n",
       " 5,\n",
       " 6,\n",
       " 7,\n",
       " 6,\n",
       " 5,\n",
       " 6,\n",
       " 7,\n",
       " 8,\n",
       " 7,\n",
       " 8,\n",
       " 9,\n",
       " 8,\n",
       " 7,\n",
       " 8,\n",
       " 9,\n",
       " 10,\n",
       " 9,\n",
       " 8,\n",
       " 9,\n",
       " 10,\n",
       " 11,\n",
       " 10,\n",
       " 9,\n",
       " 10,\n",
       " 9,\n",
       " 10,\n",
       " 11,\n",
       " 10,\n",
       " 11,\n",
       " 12,\n",
       " 13,\n",
       " 14,\n",
       " 15,\n",
       " 16,\n",
       " 17,\n",
       " 16,\n",
       " 17,\n",
       " 18,\n",
       " 17,\n",
       " 16,\n",
       " 17,\n",
       " 16,\n",
       " 15,\n",
       " 16,\n",
       " 15,\n",
       " 16,\n",
       " 15,\n",
       " 14,\n",
       " 13,\n",
       " 12,\n",
       " 11,\n",
       " 12,\n",
       " 11,\n",
       " 10,\n",
       " 9,\n",
       " 10,\n",
       " 9,\n",
       " 8,\n",
       " 7,\n",
       " 6,\n",
       " 5,\n",
       " 4,\n",
       " 5,\n",
       " 4,\n",
       " 5,\n",
       " 6,\n",
       " 7,\n",
       " 6,\n",
       " 5,\n",
       " 6,\n",
       " 5,\n",
       " 6,\n",
       " 7,\n",
       " 6,\n",
       " 7,\n",
       " 8,\n",
       " 9,\n",
       " 8,\n",
       " 9,\n",
       " 10,\n",
       " 11,\n",
       " 12,\n",
       " 13,\n",
       " 14,\n",
       " 13,\n",
       " 14,\n",
       " 13,\n",
       " 12,\n",
       " 11,\n",
       " 10,\n",
       " 9,\n",
       " 10,\n",
       " 9,\n",
       " 8,\n",
       " 7,\n",
       " 6,\n",
       " 7,\n",
       " 6,\n",
       " 5,\n",
       " 6,\n",
       " 7,\n",
       " 8,\n",
       " 9,\n",
       " 10,\n",
       " 11,\n",
       " 12,\n",
       " 13,\n",
       " 12,\n",
       " 13,\n",
       " 12,\n",
       " 11,\n",
       " 10,\n",
       " 9,\n",
       " 8,\n",
       " 7,\n",
       " 6,\n",
       " 7,\n",
       " 6,\n",
       " 7,\n",
       " 6,\n",
       " 7,\n",
       " 8,\n",
       " 7,\n",
       " 8,\n",
       " 9,\n",
       " 8,\n",
       " 9,\n",
       " 10,\n",
       " 9,\n",
       " 8,\n",
       " 9,\n",
       " 10,\n",
       " 11,\n",
       " 12,\n",
       " 13,\n",
       " 12,\n",
       " 13,\n",
       " 14,\n",
       " 13,\n",
       " 12,\n",
       " 13,\n",
       " 12,\n",
       " 11,\n",
       " 10,\n",
       " 9,\n",
       " 10,\n",
       " 9,\n",
       " 10,\n",
       " 11,\n",
       " 10,\n",
       " 9,\n",
       " 10,\n",
       " 11,\n",
       " 12,\n",
       " 13,\n",
       " 14,\n",
       " 13,\n",
       " 12,\n",
       " 11,\n",
       " 12,\n",
       " 11,\n",
       " 10,\n",
       " 9,\n",
       " 10,\n",
       " 9,\n",
       " 10,\n",
       " 9,\n",
       " 8,\n",
       " 9,\n",
       " 8,\n",
       " 9,\n",
       " 10,\n",
       " 11,\n",
       " 12,\n",
       " 11,\n",
       " 12,\n",
       " 11,\n",
       " 12,\n",
       " 11,\n",
       " 12,\n",
       " 11,\n",
       " 10,\n",
       " 11,\n",
       " 10,\n",
       " 11,\n",
       " 12,\n",
       " 13,\n",
       " 12,\n",
       " 13,\n",
       " 12,\n",
       " 13,\n",
       " 14,\n",
       " 13,\n",
       " 12,\n",
       " 11,\n",
       " 12,\n",
       " 13,\n",
       " 14,\n",
       " 15,\n",
       " 16,\n",
       " 17,\n",
       " 16,\n",
       " 15,\n",
       " 14,\n",
       " 15,\n",
       " 14,\n",
       " 13,\n",
       " 14,\n",
       " 13,\n",
       " 14,\n",
       " 15,\n",
       " 14,\n",
       " 15,\n",
       " 16,\n",
       " 15,\n",
       " 14,\n",
       " 13,\n",
       " 12,\n",
       " 13,\n",
       " 12,\n",
       " 11,\n",
       " 12,\n",
       " 11,\n",
       " 10,\n",
       " 9,\n",
       " 10,\n",
       " 11,\n",
       " 10,\n",
       " 9,\n",
       " 8,\n",
       " 7,\n",
       " 6,\n",
       " 7,\n",
       " 6,\n",
       " 7,\n",
       " 8,\n",
       " 9,\n",
       " 8,\n",
       " 9,\n",
       " 8,\n",
       " 7,\n",
       " 8,\n",
       " 9,\n",
       " 8,\n",
       " 7,\n",
       " 8,\n",
       " 9,\n",
       " 10,\n",
       " 9,\n",
       " 8,\n",
       " 9,\n",
       " 8,\n",
       " 9,\n",
       " 8,\n",
       " 7,\n",
       " 8,\n",
       " 7,\n",
       " 6,\n",
       " 7,\n",
       " 6,\n",
       " 5,\n",
       " 4,\n",
       " 3,\n",
       " 2,\n",
       " 3,\n",
       " 4,\n",
       " 3,\n",
       " 4,\n",
       " 3,\n",
       " 2,\n",
       " 1,\n",
       " 2,\n",
       " 3,\n",
       " 2,\n",
       " 3,\n",
       " 4,\n",
       " 3,\n",
       " 2,\n",
       " 3,\n",
       " 2,\n",
       " 3,\n",
       " 2,\n",
       " 3,\n",
       " 4,\n",
       " 3,\n",
       " 4,\n",
       " 5,\n",
       " 6,\n",
       " 5,\n",
       " 4,\n",
       " 5,\n",
       " 6,\n",
       " 5,\n",
       " 6,\n",
       " 5,\n",
       " 4,\n",
       " 5,\n",
       " 6,\n",
       " 7,\n",
       " 8,\n",
       " 7,\n",
       " 8,\n",
       " 9,\n",
       " 10,\n",
       " 9,\n",
       " 10,\n",
       " 9,\n",
       " 8,\n",
       " 7,\n",
       " 8,\n",
       " 9,\n",
       " 10,\n",
       " 11,\n",
       " 10,\n",
       " 11,\n",
       " 10,\n",
       " 11,\n",
       " 10,\n",
       " 11,\n",
       " 10,\n",
       " 11,\n",
       " 10,\n",
       " 9,\n",
       " 10,\n",
       " 9,\n",
       " 10,\n",
       " 11,\n",
       " 10,\n",
       " 11,\n",
       " 10,\n",
       " 11,\n",
       " 12,\n",
       " 11,\n",
       " 12,\n",
       " 13,\n",
       " 12,\n",
       " 11,\n",
       " 10,\n",
       " 11,\n",
       " 10,\n",
       " 11,\n",
       " 12,\n",
       " 11,\n",
       " 10,\n",
       " 9,\n",
       " 8,\n",
       " 7,\n",
       " 6,\n",
       " 7,\n",
       " 6,\n",
       " 5,\n",
       " 4,\n",
       " 3,\n",
       " 4,\n",
       " 3,\n",
       " 2,\n",
       " 1,\n",
       " 2,\n",
       " 1,\n",
       " 0,\n",
       " -1,\n",
       " -2,\n",
       " -1,\n",
       " -2,\n",
       " -3,\n",
       " -2,\n",
       " -1,\n",
       " -2,\n",
       " -1,\n",
       " 0,\n",
       " 1,\n",
       " 2,\n",
       " 3,\n",
       " 4,\n",
       " 3,\n",
       " 2,\n",
       " 1,\n",
       " 0,\n",
       " -1,\n",
       " 0,\n",
       " -1,\n",
       " 0,\n",
       " 1,\n",
       " 0,\n",
       " 1,\n",
       " 2,\n",
       " 3,\n",
       " 2,\n",
       " 1,\n",
       " 0,\n",
       " 1,\n",
       " 0,\n",
       " 1,\n",
       " 0,\n",
       " 1,\n",
       " 2,\n",
       " 3,\n",
       " 2,\n",
       " 3,\n",
       " 2,\n",
       " 3,\n",
       " 4,\n",
       " 3,\n",
       " 4,\n",
       " 5,\n",
       " 6,\n",
       " 5,\n",
       " 6,\n",
       " 7,\n",
       " 6,\n",
       " 5,\n",
       " 4,\n",
       " 3,\n",
       " 2,\n",
       " 3,\n",
       " 2,\n",
       " 1,\n",
       " 0,\n",
       " -1,\n",
       " -2,\n",
       " -3,\n",
       " -4,\n",
       " -5,\n",
       " -4,\n",
       " -3,\n",
       " -2,\n",
       " -1,\n",
       " -2,\n",
       " -3,\n",
       " -4,\n",
       " -3,\n",
       " -2,\n",
       " -1,\n",
       " 0,\n",
       " 1,\n",
       " 0,\n",
       " -1,\n",
       " -2,\n",
       " -3,\n",
       " -4,\n",
       " -3,\n",
       " -4,\n",
       " -3,\n",
       " -4,\n",
       " -3,\n",
       " -4,\n",
       " -3,\n",
       " -2,\n",
       " -3,\n",
       " -4,\n",
       " -5,\n",
       " -4,\n",
       " -5,\n",
       " -6,\n",
       " -5,\n",
       " -4,\n",
       " -5,\n",
       " -4,\n",
       " -3,\n",
       " -2,\n",
       " -1,\n",
       " -2,\n",
       " -1,\n",
       " 0,\n",
       " -1,\n",
       " -2,\n",
       " -3,\n",
       " -2,\n",
       " -1,\n",
       " -2,\n",
       " -1,\n",
       " -2,\n",
       " -1,\n",
       " -2,\n",
       " -3,\n",
       " -2,\n",
       " -1,\n",
       " -2,\n",
       " -1,\n",
       " 0,\n",
       " -1,\n",
       " 0,\n",
       " -1,\n",
       " -2,\n",
       " -3,\n",
       " -2,\n",
       " -1,\n",
       " 0,\n",
       " 1,\n",
       " 0,\n",
       " 1,\n",
       " 0,\n",
       " 1,\n",
       " 2,\n",
       " 1,\n",
       " 2,\n",
       " 1,\n",
       " 0,\n",
       " -1,\n",
       " 0,\n",
       " 1,\n",
       " 2,\n",
       " 1,\n",
       " 0,\n",
       " 1,\n",
       " 0,\n",
       " 1,\n",
       " 2,\n",
       " 1,\n",
       " 0,\n",
       " 1,\n",
       " 0,\n",
       " -1,\n",
       " 0,\n",
       " 1,\n",
       " 2,\n",
       " 3,\n",
       " 4,\n",
       " 5,\n",
       " 4,\n",
       " 5,\n",
       " 4,\n",
       " 5,\n",
       " 4,\n",
       " 5,\n",
       " 4,\n",
       " 5,\n",
       " 6,\n",
       " 5,\n",
       " 4,\n",
       " 5,\n",
       " 4,\n",
       " 3,\n",
       " 2,\n",
       " 3,\n",
       " 4,\n",
       " 5,\n",
       " 4,\n",
       " 3,\n",
       " 4,\n",
       " 5,\n",
       " 4,\n",
       " 3,\n",
       " 4,\n",
       " 3,\n",
       " 2,\n",
       " 3,\n",
       " 2,\n",
       " 3,\n",
       " 2,\n",
       " 1,\n",
       " 0,\n",
       " 1,\n",
       " 2,\n",
       " 3,\n",
       " 2,\n",
       " 3,\n",
       " 4,\n",
       " 3,\n",
       " 2,\n",
       " 1,\n",
       " 2,\n",
       " 1,\n",
       " 0,\n",
       " -1,\n",
       " -2,\n",
       " -3,\n",
       " -4,\n",
       " -5,\n",
       " -6,\n",
       " -7,\n",
       " -6,\n",
       " -7,\n",
       " -6,\n",
       " -5,\n",
       " -4,\n",
       " -5,\n",
       " -4,\n",
       " -3,\n",
       " -2,\n",
       " -1,\n",
       " 0,\n",
       " 1,\n",
       " 0,\n",
       " -1,\n",
       " -2,\n",
       " -3,\n",
       " -2,\n",
       " -1,\n",
       " 0,\n",
       " 1,\n",
       " 0,\n",
       " -1,\n",
       " -2,\n",
       " -1,\n",
       " 0,\n",
       " -1,\n",
       " 0,\n",
       " -1,\n",
       " -2,\n",
       " -3,\n",
       " -4,\n",
       " -3,\n",
       " -2,\n",
       " -1,\n",
       " -2,\n",
       " -1,\n",
       " -2,\n",
       " -1,\n",
       " -2,\n",
       " -3,\n",
       " -2,\n",
       " -3,\n",
       " -2,\n",
       " -1,\n",
       " -2,\n",
       " -1,\n",
       " 0,\n",
       " 1,\n",
       " 0,\n",
       " -1,\n",
       " -2,\n",
       " -3,\n",
       " -2,\n",
       " -1,\n",
       " 0,\n",
       " -1,\n",
       " -2,\n",
       " -1,\n",
       " 0,\n",
       " -1,\n",
       " 0,\n",
       " -1,\n",
       " 0,\n",
       " 1,\n",
       " 2,\n",
       " 3,\n",
       " 4,\n",
       " 3,\n",
       " 4,\n",
       " 5,\n",
       " 6,\n",
       " 5,\n",
       " 6,\n",
       " 5,\n",
       " 6,\n",
       " 5,\n",
       " 4,\n",
       " 5,\n",
       " 6,\n",
       " 7,\n",
       " 6,\n",
       " 7,\n",
       " 6,\n",
       " 7,\n",
       " 6,\n",
       " 7,\n",
       " 6,\n",
       " 5,\n",
       " 4,\n",
       " 5,\n",
       " 6,\n",
       " 7,\n",
       " 8,\n",
       " 7,\n",
       " 8,\n",
       " 7,\n",
       " 6,\n",
       " 5,\n",
       " 4,\n",
       " 5,\n",
       " 4,\n",
       " 5,\n",
       " 4,\n",
       " 3,\n",
       " 2,\n",
       " 3,\n",
       " 2,\n",
       " 1,\n",
       " 2,\n",
       " 3,\n",
       " 4,\n",
       " 5,\n",
       " 6,\n",
       " 7,\n",
       " 6,\n",
       " 5,\n",
       " 6,\n",
       " 5,\n",
       " 6,\n",
       " 7,\n",
       " 8,\n",
       " 9,\n",
       " 10,\n",
       " 9,\n",
       " 8,\n",
       " 7,\n",
       " 8,\n",
       " 7,\n",
       " 6,\n",
       " 5,\n",
       " 4,\n",
       " 3,\n",
       " 2,\n",
       " 3,\n",
       " 4,\n",
       " 5,\n",
       " 6,\n",
       " 7,\n",
       " 8,\n",
       " 9,\n",
       " 8,\n",
       " 9,\n",
       " 10,\n",
       " 11,\n",
       " 12,\n",
       " 13,\n",
       " 12,\n",
       " 11,\n",
       " 12,\n",
       " 11,\n",
       " 12,\n",
       " 11,\n",
       " 12,\n",
       " 13,\n",
       " 12,\n",
       " 11,\n",
       " 10,\n",
       " 9,\n",
       " 8,\n",
       " 9,\n",
       " 8,\n",
       " 7,\n",
       " 8,\n",
       " 7,\n",
       " 8,\n",
       " 9,\n",
       " 10,\n",
       " 11,\n",
       " 10,\n",
       " 9,\n",
       " 10,\n",
       " 11,\n",
       " 12,\n",
       " 13,\n",
       " 12,\n",
       " 11,\n",
       " 10,\n",
       " 11,\n",
       " 10,\n",
       " 9,\n",
       " 10,\n",
       " 9,\n",
       " 10,\n",
       " 9,\n",
       " 8,\n",
       " 9,\n",
       " 10,\n",
       " 9,\n",
       " 8,\n",
       " 9,\n",
       " 8,\n",
       " 7,\n",
       " 8,\n",
       " 9,\n",
       " 8,\n",
       " 7,\n",
       " 6,\n",
       " 5,\n",
       " 4,\n",
       " 5,\n",
       " 4,\n",
       " 3,\n",
       " 2,\n",
       " 3,\n",
       " 2,\n",
       " 3,\n",
       " 4,\n",
       " 3,\n",
       " 2,\n",
       " 3,\n",
       " 4,\n",
       " 3,\n",
       " 4,\n",
       " 5,\n",
       " 6,\n",
       " 5,\n",
       " 4,\n",
       " 5,\n",
       " 6,\n",
       " 5,\n",
       " 4,\n",
       " 5,\n",
       " 6,\n",
       " 5,\n",
       " 6,\n",
       " 5,\n",
       " 6,\n",
       " 7,\n",
       " 8,\n",
       " 7,\n",
       " 6,\n",
       " 7,\n",
       " 6,\n",
       " 5,\n",
       " 4,\n",
       " 3,\n",
       " 4,\n",
       " 5,\n",
       " 6,\n",
       " 5,\n",
       " 6,\n",
       " 5,\n",
       " 6,\n",
       " 5,\n",
       " 4,\n",
       " 5,\n",
       " 6,\n",
       " 5,\n",
       " 4,\n",
       " 3,\n",
       " 2,\n",
       " 3,\n",
       " 4,\n",
       " 5,\n",
       " 4,\n",
       " 5,\n",
       " 6,\n",
       " 7,\n",
       " 8,\n",
       " 9,\n",
       " 10,\n",
       " 9,\n",
       " 8,\n",
       " 9,\n",
       " 10,\n",
       " 11,\n",
       " 12,\n",
       " 11,\n",
       " 10,\n",
       " 9,\n",
       " 8,\n",
       " 9,\n",
       " 8,\n",
       " 7,\n",
       " 8,\n",
       " 9,\n",
       " 10,\n",
       " 9,\n",
       " 8,\n",
       " 7,\n",
       " 6,\n",
       " 5,\n",
       " 6,\n",
       " 5,\n",
       " 4,\n",
       " 5,\n",
       " 6,\n",
       " 7,\n",
       " 6,\n",
       " 7,\n",
       " 8,\n",
       " 7,\n",
       " 6,\n",
       " 7,\n",
       " 6,\n",
       " 7,\n",
       " 6,\n",
       " 7,\n",
       " 8,\n",
       " 9,\n",
       " 10,\n",
       " 11,\n",
       " 10,\n",
       " 9,\n",
       " 8,\n",
       " 7,\n",
       " 6,\n",
       " 7,\n",
       " 6,\n",
       " 7]"
      ]
     },
     "execution_count": 78,
     "metadata": {},
     "output_type": "execute_result"
    }
   ],
   "source": [
    "# 계단 오르내리기 1000번 수행\n",
    "# 올라가면 + 1\n",
    "# 내려가면 - 1\n",
    "# 오르기 내르기는 랜덤(난수로 생성)\n",
    "# 최초 위치는 position = 0\n",
    "# 난수 발생 => 올라간다 => position += 1 -> position 리스트에 기록\n",
    "# 난수 발생 -> 내려간다 => position -= 1 -> position 리스트에 기록\n",
    "# 1000번 수행하여 결과는 리스트에 담겨 있다.\n",
    "list_position = []\n",
    "step_number = []\n",
    "import random\n",
    "\n",
    "while True:\n",
    "    temp = random.randint(-1,1)\n",
    "    if temp != 0:\n",
    "        step_number.append(temp)\n",
    "    else:\n",
    "        continue\n",
    "    if len(step_number)==1000:\n",
    "        break    \n",
    "    \n",
    "position = 0\n",
    "\n",
    "for step in step_number:\n",
    "    list_position.append(position)\n",
    "    position += step\n",
    "list_position   "
   ]
  },
  {
   "cell_type": "code",
   "execution_count": 79,
   "metadata": {},
   "outputs": [
    {
     "data": {
      "text/plain": [
       "[0,\n",
       " 1,\n",
       " 0,\n",
       " -1,\n",
       " -2,\n",
       " -3,\n",
       " -2,\n",
       " -3,\n",
       " -4,\n",
       " -5,\n",
       " -4,\n",
       " -3,\n",
       " -4,\n",
       " -5,\n",
       " -4,\n",
       " -3,\n",
       " -4,\n",
       " -3,\n",
       " -2,\n",
       " -3,\n",
       " -2,\n",
       " -1,\n",
       " 0,\n",
       " 1,\n",
       " 2,\n",
       " 1,\n",
       " 2,\n",
       " 1,\n",
       " 2,\n",
       " 3,\n",
       " 4,\n",
       " 3,\n",
       " 4,\n",
       " 5,\n",
       " 4,\n",
       " 5,\n",
       " 4,\n",
       " 3,\n",
       " 2,\n",
       " 3,\n",
       " 4,\n",
       " 5,\n",
       " 4,\n",
       " 5,\n",
       " 6,\n",
       " 7,\n",
       " 8,\n",
       " 9,\n",
       " 8,\n",
       " 9,\n",
       " 10,\n",
       " 9,\n",
       " 8,\n",
       " 9,\n",
       " 8,\n",
       " 7,\n",
       " 6,\n",
       " 7,\n",
       " 8,\n",
       " 9,\n",
       " 10,\n",
       " 11,\n",
       " 10,\n",
       " 11,\n",
       " 10,\n",
       " 11,\n",
       " 12,\n",
       " 11,\n",
       " 12,\n",
       " 11,\n",
       " 10,\n",
       " 9,\n",
       " 10,\n",
       " 11,\n",
       " 10,\n",
       " 9,\n",
       " 10,\n",
       " 9,\n",
       " 8,\n",
       " 9,\n",
       " 8,\n",
       " 7,\n",
       " 8,\n",
       " 9,\n",
       " 10,\n",
       " 11,\n",
       " 12,\n",
       " 13,\n",
       " 12,\n",
       " 11,\n",
       " 12,\n",
       " 13,\n",
       " 14,\n",
       " 13,\n",
       " 14,\n",
       " 15,\n",
       " 16,\n",
       " 15,\n",
       " 16,\n",
       " 15,\n",
       " 14,\n",
       " 15,\n",
       " 14,\n",
       " 15,\n",
       " 16,\n",
       " 15,\n",
       " 14,\n",
       " 13,\n",
       " 12,\n",
       " 13,\n",
       " 14,\n",
       " 15,\n",
       " 14,\n",
       " 15,\n",
       " 14,\n",
       " 15,\n",
       " 14,\n",
       " 15,\n",
       " 16,\n",
       " 15,\n",
       " 16,\n",
       " 15,\n",
       " 14,\n",
       " 15,\n",
       " 14,\n",
       " 15,\n",
       " 14,\n",
       " 13,\n",
       " 12,\n",
       " 11,\n",
       " 12,\n",
       " 11,\n",
       " 10,\n",
       " 11,\n",
       " 10,\n",
       " 11,\n",
       " 10,\n",
       " 9,\n",
       " 8,\n",
       " 9,\n",
       " 8,\n",
       " 7,\n",
       " 6,\n",
       " 5,\n",
       " 6,\n",
       " 7,\n",
       " 8,\n",
       " 7,\n",
       " 8,\n",
       " 7,\n",
       " 8,\n",
       " 9,\n",
       " 8,\n",
       " 9,\n",
       " 10,\n",
       " 9,\n",
       " 8,\n",
       " 9,\n",
       " 10,\n",
       " 11,\n",
       " 12,\n",
       " 13,\n",
       " 12,\n",
       " 11,\n",
       " 10,\n",
       " 11,\n",
       " 12,\n",
       " 11,\n",
       " 10,\n",
       " 9,\n",
       " 10,\n",
       " 11,\n",
       " 10,\n",
       " 11,\n",
       " 10,\n",
       " 9,\n",
       " 10,\n",
       " 9,\n",
       " 10,\n",
       " 11,\n",
       " 10,\n",
       " 11,\n",
       " 10,\n",
       " 9,\n",
       " 8,\n",
       " 9,\n",
       " 10,\n",
       " 11,\n",
       " 10,\n",
       " 11,\n",
       " 12,\n",
       " 13,\n",
       " 12,\n",
       " 11,\n",
       " 12,\n",
       " 13,\n",
       " 12,\n",
       " 11,\n",
       " 12,\n",
       " 13,\n",
       " 14,\n",
       " 13,\n",
       " 14,\n",
       " 13,\n",
       " 14,\n",
       " 15,\n",
       " 16,\n",
       " 17,\n",
       " 16,\n",
       " 17,\n",
       " 18,\n",
       " 19,\n",
       " 20,\n",
       " 21,\n",
       " 20,\n",
       " 19,\n",
       " 18,\n",
       " 19,\n",
       " 20,\n",
       " 21,\n",
       " 20,\n",
       " 21,\n",
       " 22,\n",
       " 23,\n",
       " 24,\n",
       " 25,\n",
       " 26,\n",
       " 27,\n",
       " 28,\n",
       " 27,\n",
       " 26,\n",
       " 27,\n",
       " 26,\n",
       " 27,\n",
       " 28,\n",
       " 27,\n",
       " 28,\n",
       " 29,\n",
       " 28,\n",
       " 27,\n",
       " 28,\n",
       " 29,\n",
       " 30,\n",
       " 31,\n",
       " 32,\n",
       " 31,\n",
       " 30,\n",
       " 31,\n",
       " 30,\n",
       " 31,\n",
       " 30,\n",
       " 29,\n",
       " 30,\n",
       " 31,\n",
       " 30,\n",
       " 29,\n",
       " 30,\n",
       " 29,\n",
       " 30,\n",
       " 29,\n",
       " 28,\n",
       " 29,\n",
       " 30,\n",
       " 29,\n",
       " 30,\n",
       " 29,\n",
       " 30,\n",
       " 29,\n",
       " 30,\n",
       " 29,\n",
       " 28,\n",
       " 29,\n",
       " 28,\n",
       " 27,\n",
       " 26,\n",
       " 25,\n",
       " 24,\n",
       " 25,\n",
       " 24,\n",
       " 25,\n",
       " 26,\n",
       " 27,\n",
       " 26,\n",
       " 25,\n",
       " 26,\n",
       " 27,\n",
       " 28,\n",
       " 29,\n",
       " 30,\n",
       " 31,\n",
       " 32,\n",
       " 33,\n",
       " 34,\n",
       " 35,\n",
       " 36,\n",
       " 35,\n",
       " 36,\n",
       " 37,\n",
       " 36,\n",
       " 35,\n",
       " 34,\n",
       " 35,\n",
       " 36,\n",
       " 37,\n",
       " 38,\n",
       " 37,\n",
       " 38,\n",
       " 37,\n",
       " 36,\n",
       " 35,\n",
       " 36,\n",
       " 37,\n",
       " 38,\n",
       " 39,\n",
       " 38,\n",
       " 39,\n",
       " 40,\n",
       " 39,\n",
       " 38,\n",
       " 39,\n",
       " 38,\n",
       " 39,\n",
       " 40,\n",
       " 41,\n",
       " 40,\n",
       " 41,\n",
       " 42,\n",
       " 41,\n",
       " 42,\n",
       " 43,\n",
       " 44,\n",
       " 43,\n",
       " 44,\n",
       " 43,\n",
       " 44,\n",
       " 45,\n",
       " 44,\n",
       " 45,\n",
       " 46,\n",
       " 47,\n",
       " 46,\n",
       " 45,\n",
       " 46,\n",
       " 47,\n",
       " 48,\n",
       " 49,\n",
       " 50,\n",
       " 51,\n",
       " 52,\n",
       " 51,\n",
       " 52,\n",
       " 53,\n",
       " 52,\n",
       " 53,\n",
       " 52,\n",
       " 53,\n",
       " 52,\n",
       " 51,\n",
       " 52,\n",
       " 53,\n",
       " 52,\n",
       " 53,\n",
       " 54,\n",
       " 55,\n",
       " 54,\n",
       " 55,\n",
       " 54,\n",
       " 55,\n",
       " 56,\n",
       " 57,\n",
       " 56,\n",
       " 55,\n",
       " 54,\n",
       " 55,\n",
       " 54,\n",
       " 53,\n",
       " 54,\n",
       " 55,\n",
       " 56,\n",
       " 57,\n",
       " 58,\n",
       " 57,\n",
       " 56,\n",
       " 55,\n",
       " 56,\n",
       " 57,\n",
       " 58,\n",
       " 59,\n",
       " 58,\n",
       " 59,\n",
       " 58,\n",
       " 59,\n",
       " 58,\n",
       " 59,\n",
       " 60,\n",
       " 61,\n",
       " 62,\n",
       " 63,\n",
       " 62,\n",
       " 63,\n",
       " 62,\n",
       " 61,\n",
       " 62,\n",
       " 61,\n",
       " 62,\n",
       " 61,\n",
       " 62,\n",
       " 61,\n",
       " 60,\n",
       " 59,\n",
       " 60,\n",
       " 59,\n",
       " 58,\n",
       " 59,\n",
       " 60,\n",
       " 59,\n",
       " 58,\n",
       " 59,\n",
       " 60,\n",
       " 59,\n",
       " 60,\n",
       " 59,\n",
       " 60,\n",
       " 59,\n",
       " 60,\n",
       " 59,\n",
       " 60,\n",
       " 61,\n",
       " 62,\n",
       " 63,\n",
       " 64,\n",
       " 63,\n",
       " 62,\n",
       " 61,\n",
       " 60,\n",
       " 59,\n",
       " 60,\n",
       " 61,\n",
       " 60,\n",
       " 61,\n",
       " 60,\n",
       " 61,\n",
       " 60,\n",
       " 59,\n",
       " 60,\n",
       " 59,\n",
       " 60,\n",
       " 61,\n",
       " 60,\n",
       " 61,\n",
       " 60,\n",
       " 59,\n",
       " 60,\n",
       " 59,\n",
       " 60,\n",
       " 59,\n",
       " 60,\n",
       " 61,\n",
       " 60,\n",
       " 59,\n",
       " 58,\n",
       " 57,\n",
       " 56,\n",
       " 57,\n",
       " 58,\n",
       " 57,\n",
       " 56,\n",
       " 57,\n",
       " 58,\n",
       " 59,\n",
       " 60,\n",
       " 59,\n",
       " 60,\n",
       " 59,\n",
       " 58,\n",
       " 57,\n",
       " 58,\n",
       " 59,\n",
       " 60,\n",
       " 59,\n",
       " 58,\n",
       " 57,\n",
       " 58,\n",
       " 57,\n",
       " 58,\n",
       " 57,\n",
       " 56,\n",
       " 57,\n",
       " 56,\n",
       " 57,\n",
       " 56,\n",
       " 55,\n",
       " 56,\n",
       " 57,\n",
       " 58,\n",
       " 59,\n",
       " 60,\n",
       " 61,\n",
       " 62,\n",
       " 61,\n",
       " 62,\n",
       " 61,\n",
       " 60,\n",
       " 61,\n",
       " 62,\n",
       " 63,\n",
       " 62,\n",
       " 61,\n",
       " 62,\n",
       " 61,\n",
       " 62,\n",
       " 63,\n",
       " 62,\n",
       " 63,\n",
       " 62,\n",
       " 61,\n",
       " 60,\n",
       " 61,\n",
       " 62,\n",
       " 63,\n",
       " 62,\n",
       " 61,\n",
       " 60,\n",
       " 61,\n",
       " 60,\n",
       " 61,\n",
       " 62,\n",
       " 61,\n",
       " 60,\n",
       " 59,\n",
       " 60,\n",
       " 61,\n",
       " 60,\n",
       " 59,\n",
       " 58,\n",
       " 57,\n",
       " 56,\n",
       " 57,\n",
       " 58,\n",
       " 59,\n",
       " 58,\n",
       " 59,\n",
       " 60,\n",
       " 61,\n",
       " 60,\n",
       " 59,\n",
       " 58,\n",
       " 57,\n",
       " 56,\n",
       " 57,\n",
       " 56,\n",
       " 57,\n",
       " 56,\n",
       " 55,\n",
       " 56,\n",
       " 55,\n",
       " 56,\n",
       " 55,\n",
       " 56,\n",
       " 57,\n",
       " 56,\n",
       " 57,\n",
       " 58,\n",
       " 57,\n",
       " 56,\n",
       " 55,\n",
       " 54,\n",
       " 53,\n",
       " 52,\n",
       " 53,\n",
       " 52,\n",
       " 51,\n",
       " 52,\n",
       " 51,\n",
       " 50,\n",
       " 51,\n",
       " 52,\n",
       " 53,\n",
       " 52,\n",
       " 53,\n",
       " 54,\n",
       " 53,\n",
       " 52,\n",
       " 53,\n",
       " 54,\n",
       " 55,\n",
       " 54,\n",
       " 53,\n",
       " 52,\n",
       " 53,\n",
       " 52,\n",
       " 51,\n",
       " 50,\n",
       " 49,\n",
       " 50,\n",
       " 51,\n",
       " 52,\n",
       " 53,\n",
       " 54,\n",
       " 55,\n",
       " 56,\n",
       " 55,\n",
       " 56,\n",
       " 55,\n",
       " 56,\n",
       " 55,\n",
       " 54,\n",
       " 53,\n",
       " 52,\n",
       " 53,\n",
       " 52,\n",
       " 51,\n",
       " 50,\n",
       " 49,\n",
       " 50,\n",
       " 49,\n",
       " 48,\n",
       " 47,\n",
       " 46,\n",
       " 47,\n",
       " 48,\n",
       " 49,\n",
       " 50,\n",
       " 49,\n",
       " 48,\n",
       " 49,\n",
       " 48,\n",
       " 49,\n",
       " 48,\n",
       " 49,\n",
       " 48,\n",
       " 47,\n",
       " 48,\n",
       " 47,\n",
       " 46,\n",
       " 45,\n",
       " 46,\n",
       " 47,\n",
       " 46,\n",
       " 45,\n",
       " 46,\n",
       " 47,\n",
       " 48,\n",
       " 47,\n",
       " 48,\n",
       " 49,\n",
       " 48,\n",
       " 49,\n",
       " 48,\n",
       " 49,\n",
       " 50,\n",
       " 51,\n",
       " 52,\n",
       " 51,\n",
       " 50,\n",
       " 51,\n",
       " 50,\n",
       " 49,\n",
       " 48,\n",
       " 49,\n",
       " 50,\n",
       " 49,\n",
       " 50,\n",
       " 49,\n",
       " 50,\n",
       " 49,\n",
       " 50,\n",
       " 49,\n",
       " 48,\n",
       " 49,\n",
       " 50,\n",
       " 51,\n",
       " 50,\n",
       " 49,\n",
       " 48,\n",
       " 47,\n",
       " 46,\n",
       " 47,\n",
       " 46,\n",
       " 47,\n",
       " 46,\n",
       " 45,\n",
       " 46,\n",
       " 45,\n",
       " 46,\n",
       " 47,\n",
       " 48,\n",
       " 49,\n",
       " 50,\n",
       " 51,\n",
       " 52,\n",
       " 51,\n",
       " 50,\n",
       " 49,\n",
       " 48,\n",
       " 49,\n",
       " 50,\n",
       " 51,\n",
       " 52,\n",
       " 51,\n",
       " 52,\n",
       " 53,\n",
       " 54,\n",
       " 53,\n",
       " 54,\n",
       " 53,\n",
       " 52,\n",
       " 51,\n",
       " 52,\n",
       " 53,\n",
       " 52,\n",
       " 53,\n",
       " 52,\n",
       " 53,\n",
       " 52,\n",
       " 53,\n",
       " 52,\n",
       " 51,\n",
       " 50,\n",
       " 51,\n",
       " 50,\n",
       " 49,\n",
       " 48,\n",
       " 49,\n",
       " 50,\n",
       " 49,\n",
       " 48,\n",
       " 49,\n",
       " 48,\n",
       " 49,\n",
       " 48,\n",
       " 49,\n",
       " 50,\n",
       " 51,\n",
       " 50,\n",
       " 49,\n",
       " 50,\n",
       " 51,\n",
       " 50,\n",
       " 51,\n",
       " 50,\n",
       " 49,\n",
       " 50,\n",
       " 51,\n",
       " 50,\n",
       " 49,\n",
       " 48,\n",
       " 49,\n",
       " 48,\n",
       " 47,\n",
       " 48,\n",
       " 47,\n",
       " 46,\n",
       " 47,\n",
       " 46,\n",
       " 45,\n",
       " 46,\n",
       " 47,\n",
       " 46,\n",
       " 45,\n",
       " 44,\n",
       " 43,\n",
       " 44,\n",
       " 43,\n",
       " 42,\n",
       " 41,\n",
       " 42,\n",
       " 43,\n",
       " 44,\n",
       " 45,\n",
       " 46,\n",
       " 47,\n",
       " 46,\n",
       " 45,\n",
       " 44,\n",
       " 45,\n",
       " 46,\n",
       " 45,\n",
       " 44,\n",
       " 45,\n",
       " 44,\n",
       " 45,\n",
       " 44,\n",
       " 45,\n",
       " 46,\n",
       " 47,\n",
       " 46,\n",
       " 45,\n",
       " 46,\n",
       " 47,\n",
       " 48,\n",
       " 49,\n",
       " 50,\n",
       " 49,\n",
       " 48,\n",
       " 49,\n",
       " 50,\n",
       " 51,\n",
       " 52,\n",
       " 53,\n",
       " 54,\n",
       " 55,\n",
       " 56,\n",
       " 57,\n",
       " 56,\n",
       " 57,\n",
       " 56,\n",
       " 57,\n",
       " 58,\n",
       " 57,\n",
       " 58,\n",
       " 59,\n",
       " 58,\n",
       " 59,\n",
       " 58,\n",
       " 57,\n",
       " 56,\n",
       " 57,\n",
       " 58,\n",
       " 57,\n",
       " 56,\n",
       " 57,\n",
       " 56,\n",
       " 55,\n",
       " 56,\n",
       " 55,\n",
       " 54,\n",
       " 53,\n",
       " 52,\n",
       " 53,\n",
       " 52,\n",
       " 51,\n",
       " 52,\n",
       " 53,\n",
       " 54,\n",
       " 53,\n",
       " 54,\n",
       " 53,\n",
       " 54,\n",
       " 53,\n",
       " 54,\n",
       " 55,\n",
       " 56,\n",
       " 55,\n",
       " 56,\n",
       " 57,\n",
       " 58,\n",
       " 57,\n",
       " 56,\n",
       " 55,\n",
       " 54,\n",
       " 55,\n",
       " 56,\n",
       " 55,\n",
       " 54,\n",
       " 55,\n",
       " 54,\n",
       " 53,\n",
       " 52,\n",
       " 51,\n",
       " 52,\n",
       " 51,\n",
       " 50,\n",
       " 51,\n",
       " 50,\n",
       " 51,\n",
       " 50,\n",
       " 51,\n",
       " 50,\n",
       " 51,\n",
       " 52,\n",
       " 51,\n",
       " 52,\n",
       " 51,\n",
       " 52,\n",
       " 51,\n",
       " 52,\n",
       " 53,\n",
       " 54,\n",
       " 55,\n",
       " 56,\n",
       " 57,\n",
       " 56,\n",
       " 55,\n",
       " 54,\n",
       " 53,\n",
       " 54,\n",
       " 55,\n",
       " 54,\n",
       " 53,\n",
       " 54,\n",
       " 53,\n",
       " 52,\n",
       " 53,\n",
       " 54,\n",
       " 55,\n",
       " 54,\n",
       " 55,\n",
       " 54,\n",
       " 55,\n",
       " 56,\n",
       " 57,\n",
       " 56,\n",
       " 57,\n",
       " 56,\n",
       " 57,\n",
       " 58,\n",
       " 59,\n",
       " 58,\n",
       " 57,\n",
       " 58,\n",
       " 57,\n",
       " 58,\n",
       " 57,\n",
       " 56,\n",
       " 55,\n",
       " 54,\n",
       " 53,\n",
       " 52,\n",
       " 51,\n",
       " 52,\n",
       " 53,\n",
       " 52,\n",
       " 51,\n",
       " 52,\n",
       " 51,\n",
       " 50,\n",
       " 49,\n",
       " 48,\n",
       " 47,\n",
       " 46,\n",
       " 45,\n",
       " 46,\n",
       " 45,\n",
       " 46,\n",
       " 47,\n",
       " 46,\n",
       " 47,\n",
       " 48,\n",
       " 49,\n",
       " 48,\n",
       " 49,\n",
       " 48,\n",
       " 49,\n",
       " 48,\n",
       " 47,\n",
       " 48,\n",
       " 47,\n",
       " 48,\n",
       " 47,\n",
       " 48,\n",
       " 47,\n",
       " 46,\n",
       " 47,\n",
       " 48,\n",
       " 47,\n",
       " 46,\n",
       " 47,\n",
       " 46,\n",
       " 47,\n",
       " 48,\n",
       " 49,\n",
       " 48,\n",
       " 49,\n",
       " 48,\n",
       " 49,\n",
       " 50,\n",
       " 51,\n",
       " 50,\n",
       " 49,\n",
       " 48,\n",
       " 47,\n",
       " 48,\n",
       " 49,\n",
       " 48,\n",
       " 47,\n",
       " 48,\n",
       " 49,\n",
       " 48,\n",
       " 49,\n",
       " 50,\n",
       " 51,\n",
       " 50,\n",
       " 49,\n",
       " 48,\n",
       " 49,\n",
       " 50,\n",
       " 49,\n",
       " 50,\n",
       " 51,\n",
       " 52,\n",
       " 51,\n",
       " 52,\n",
       " 51,\n",
       " 50,\n",
       " 49,\n",
       " 50,\n",
       " 49,\n",
       " 50,\n",
       " 49,\n",
       " ...]"
      ]
     },
     "execution_count": 79,
     "metadata": {},
     "output_type": "execute_result"
    }
   ],
   "source": [
    "#######################강사님 파이썬 코드#############################\n",
    "import random\n",
    "position = 0 # 최초위치\n",
    "walking = [position] # 최초위치를 담는 리스트\n",
    "for n in range(1000):    \n",
    "    position += 1 if random.randint(0,1) else -1\n",
    "    walking.append(position)\n",
    "len(walking)\n",
    "walking\n",
    "    \n",
    "\n"
   ]
  },
  {
   "cell_type": "code",
   "execution_count": 80,
   "metadata": {},
   "outputs": [],
   "source": [
    "#시각화\n",
    "import matplotlib.pyplot as plt\n",
    "%matplotlib inline"
   ]
  },
  {
   "cell_type": "code",
   "execution_count": 81,
   "metadata": {},
   "outputs": [
    {
     "data": {
      "image/png": "[encoded data removed]",
      "text/plain": [
       "<Figure size 432x288 with 1 Axes>"
      ]
     },
     "metadata": {},
     "output_type": "display_data"
    }
   ],
   "source": [
    "plt.plot(range(1001),walking)\n",
    "plt.show()"
   ]
  },
  {
   "cell_type": "code",
   "execution_count": 82,
   "metadata": {},
   "outputs": [
    {
     "data": {
      "image/png": "[encoded data removed]",
      "text/plain": [
       "<Figure size 432x288 with 1 Axes>"
      ]
     },
     "metadata": {},
     "output_type": "display_data"
    }
   ],
   "source": [
    "plt.plot(range(100),walking[:100])\n",
    "plt.show()"
   ]
  },
  {
   "cell_type": "markdown",
   "metadata": {},
   "source": [
    "### numpy로 구현\n",
    "- 1000개의 난수를 생성\n",
    "- 누적합으로 계단 오르기를 구현\n"
   ]
  },
  {
   "cell_type": "code",
   "execution_count": 89,
   "metadata": {},
   "outputs": [
    {
     "data": {
      "text/plain": [
       "array([0, 0, 1, 0, 0, 1, 0, 1, 1, 0, 1, 0, 0, 1, 0, 0, 1, 1, 0, 1, 1, 0,\n",
       "       0, 0, 1, 0, 0, 0, 1, 1, 1, 1, 1, 1, 1, 0, 1, 1, 0, 0, 0, 1, 1, 0,\n",
       "       1, 1, 0, 0, 0, 0, 1, 0, 1, 0, 1, 1, 0, 0, 0, 1, 1, 0, 1, 0, 1, 1,\n",
       "       1, 0, 1, 0, 1, 0, 1, 0, 1, 0, 0, 1, 1, 1, 0, 0, 0, 1, 1, 1, 1, 1,\n",
       "       0, 0, 0, 0, 0, 0, 1, 0, 0, 1, 0, 0, 0, 0, 1, 0, 0, 1, 0, 1, 0, 1,\n",
       "       1, 0, 0, 0, 1, 0, 0, 0, 1, 0, 1, 1, 1, 1, 0, 0, 1, 0, 0, 0, 0, 1,\n",
       "       1, 0, 0, 1, 0, 1, 1, 0, 0, 0, 0, 0, 0, 1, 0, 0, 1, 0, 0, 0, 1, 0,\n",
       "       1, 0, 0, 0, 0, 1, 1, 1, 0, 0, 1, 0, 0, 0, 1, 0, 0, 0, 0, 1, 1, 0,\n",
       "       1, 1, 1, 1, 0, 0, 1, 0, 0, 1, 1, 0, 1, 0, 1, 0, 0, 1, 0, 1, 1, 0,\n",
       "       0, 1, 0, 0, 0, 0, 0, 1, 1, 1, 1, 1, 1, 0, 0, 1, 0, 0, 0, 1, 0, 0,\n",
       "       0, 1, 0, 0, 0, 0, 0, 0, 1, 0, 0, 0, 0, 1, 0, 0, 0, 0, 0, 1, 1, 0,\n",
       "       0, 1, 1, 0, 0, 1, 1, 0, 1, 0, 0, 1, 0, 0, 1, 1, 1, 0, 0, 0, 0, 0,\n",
       "       0, 1, 1, 0, 1, 1, 0, 0, 0, 1, 1, 1, 0, 0, 1, 0, 0, 1, 0, 0, 1, 0,\n",
       "       0, 1, 1, 1, 0, 1, 1, 1, 1, 0, 0, 1, 0, 1, 1, 0, 1, 1, 0, 1, 0, 0,\n",
       "       0, 1, 0, 0, 1, 0, 0, 0, 0, 0, 0, 1, 0, 0, 0, 0, 1, 0, 0, 0, 1, 1,\n",
       "       1, 1, 1, 1, 0, 0, 1, 1, 0, 1, 1, 0, 1, 1, 1, 0, 1, 0, 1, 0, 0, 0,\n",
       "       1, 1, 0, 1, 1, 1, 0, 0, 1, 0, 1, 1, 1, 0, 0, 0, 0, 0, 1, 0, 0, 0,\n",
       "       0, 1, 1, 1, 0, 1, 0, 1, 0, 1, 1, 1, 1, 0, 0, 1, 1, 1, 0, 0, 0, 1,\n",
       "       1, 0, 1, 1, 1, 0, 0, 1, 1, 0, 1, 1, 1, 0, 1, 0, 1, 0, 0, 0, 1, 1,\n",
       "       0, 1, 0, 1, 1, 1, 1, 0, 0, 1, 0, 0, 0, 1, 0, 1, 0, 1, 0, 1, 1, 1,\n",
       "       0, 0, 1, 0, 1, 0, 1, 1, 1, 0, 0, 1, 0, 0, 1, 1, 1, 0, 1, 0, 1, 0,\n",
       "       0, 0, 0, 1, 0, 1, 1, 1, 0, 0, 0, 1, 0, 0, 1, 1, 0, 1, 1, 1, 0, 1,\n",
       "       1, 1, 0, 0, 1, 1, 1, 1, 1, 0, 0, 0, 0, 0, 0, 0, 1, 0, 0, 0, 1, 1,\n",
       "       1, 1, 1, 1, 1, 0, 0, 1, 0, 1, 0, 1, 1, 1, 0, 1, 0, 1, 1, 0, 1, 1,\n",
       "       1, 0, 1, 0, 0, 1, 1, 0, 0, 0, 1, 0, 1, 0, 0, 1, 1, 1, 1, 1, 0, 0,\n",
       "       0, 1, 1, 1, 1, 0, 0, 1, 0, 0, 0, 0, 1, 0, 0, 0, 0, 0, 0, 0, 0, 1,\n",
       "       1, 0, 1, 0, 0, 0, 0, 0, 0, 0, 0, 1, 0, 1, 1, 0, 0, 1, 0, 0, 1, 1,\n",
       "       0, 0, 0, 0, 0, 0, 0, 0, 0, 0, 1, 1, 0, 0, 1, 0, 1, 0, 1, 1, 1, 0,\n",
       "       1, 1, 1, 0, 1, 0, 0, 1, 1, 0, 1, 0, 0, 0, 1, 1, 0, 1, 1, 0, 0, 0,\n",
       "       1, 0, 0, 0, 1, 0, 1, 0, 0, 0, 1, 1, 1, 1, 1, 0, 1, 0, 0, 1, 1, 1,\n",
       "       0, 0, 0, 1, 1, 0, 0, 1, 1, 0, 1, 0, 0, 1, 0, 0, 0, 0, 1, 0, 0, 0,\n",
       "       1, 0, 1, 1, 1, 1, 0, 0, 0, 1, 0, 0, 0, 1, 0, 1, 1, 0, 1, 0, 1, 0,\n",
       "       0, 0, 0, 0, 1, 0, 1, 1, 1, 1, 1, 1, 1, 0, 1, 0, 1, 0, 0, 0, 1, 0,\n",
       "       1, 0, 0, 1, 1, 1, 0, 1, 0, 0, 1, 0, 1, 1, 0, 1, 1, 0, 0, 1, 1, 0,\n",
       "       0, 0, 0, 1, 0, 0, 0, 1, 1, 0, 0, 0, 1, 1, 1, 1, 1, 0, 1, 1, 1, 0,\n",
       "       1, 0, 0, 0, 1, 1, 1, 1, 1, 0, 0, 0, 0, 0, 0, 1, 0, 1, 0, 0, 1, 0,\n",
       "       1, 1, 1, 0, 0, 1, 0, 1, 1, 0, 0, 0, 1, 1, 1, 0, 1, 0, 1, 0, 0, 1,\n",
       "       0, 0, 1, 1, 0, 1, 0, 0, 0, 0, 1, 0, 1, 0, 1, 0, 0, 0, 0, 1, 0, 1,\n",
       "       1, 0, 0, 0, 1, 0, 0, 0, 1, 1, 1, 0, 1, 0, 1, 0, 0, 1, 0, 1, 0, 0,\n",
       "       0, 1, 1, 1, 0, 1, 1, 0, 1, 0, 1, 1, 0, 1, 1, 0, 0, 0, 0, 1, 1, 1,\n",
       "       0, 1, 1, 1, 1, 1, 1, 0, 1, 1, 0, 0, 0, 1, 0, 1, 0, 1, 0, 1, 0, 0,\n",
       "       1, 0, 0, 0, 1, 1, 0, 0, 0, 0, 1, 1, 1, 1, 0, 1, 1, 1, 0, 1, 1, 0,\n",
       "       1, 0, 1, 0, 1, 1, 0, 0, 0, 1, 1, 0, 1, 1, 0, 0, 0, 0, 1, 0, 1, 1,\n",
       "       1, 0, 1, 1, 0, 1, 0, 1, 0, 0, 1, 1, 1, 1, 1, 0, 0, 0, 1, 0, 0, 1,\n",
       "       0, 1, 1, 1, 1, 1, 0, 0, 0, 1, 1, 0, 0, 0, 1, 1, 0, 1, 1, 0, 0, 1,\n",
       "       1, 1, 1, 0, 1, 0, 0, 1, 0, 1])"
      ]
     },
     "execution_count": 89,
     "metadata": {},
     "output_type": "execute_result"
    }
   ],
   "source": [
    "rs=np.random.randint(0, 2, size=1000)\n",
    "rs"
   ]
  },
  {
   "cell_type": "code",
   "execution_count": 92,
   "metadata": {},
   "outputs": [],
   "source": [
    "step = np.where(rs == 1, rs, -1)"
   ]
  },
  {
   "cell_type": "code",
   "execution_count": 94,
   "metadata": {},
   "outputs": [
    {
     "data": {
      "text/plain": [
       "array([ 0, -1,  1, -1, -1,  1, -1,  1,  1, -1,  1, -1, -1,  1, -1, -1,  1,\n",
       "        1, -1,  1,  1, -1, -1, -1,  1, -1, -1, -1,  1,  1,  1,  1,  1,  1,\n",
       "        1, -1,  1,  1, -1, -1, -1,  1,  1, -1,  1,  1, -1, -1, -1, -1,  1,\n",
       "       -1,  1, -1,  1,  1, -1, -1, -1,  1,  1, -1,  1, -1,  1,  1,  1, -1,\n",
       "        1, -1,  1, -1,  1, -1,  1, -1, -1,  1,  1,  1, -1, -1, -1,  1,  1,\n",
       "        1,  1,  1, -1, -1, -1, -1, -1, -1,  1, -1, -1,  1, -1, -1, -1, -1,\n",
       "        1, -1, -1,  1, -1,  1, -1,  1,  1, -1, -1, -1,  1, -1, -1, -1,  1,\n",
       "       -1,  1,  1,  1,  1, -1, -1,  1, -1, -1, -1, -1,  1,  1, -1, -1,  1,\n",
       "       -1,  1,  1, -1, -1, -1, -1, -1, -1,  1, -1, -1,  1, -1, -1, -1,  1,\n",
       "       -1,  1, -1, -1, -1, -1,  1,  1,  1, -1, -1,  1, -1, -1, -1,  1, -1,\n",
       "       -1, -1, -1,  1,  1, -1,  1,  1,  1,  1, -1, -1,  1, -1, -1,  1,  1,\n",
       "       -1,  1, -1,  1, -1, -1,  1, -1,  1,  1, -1, -1,  1, -1, -1, -1, -1,\n",
       "       -1,  1,  1,  1,  1,  1,  1, -1, -1,  1, -1, -1, -1,  1, -1, -1, -1,\n",
       "        1, -1, -1, -1, -1, -1, -1,  1, -1, -1, -1, -1,  1, -1, -1, -1, -1,\n",
       "       -1,  1,  1, -1, -1,  1,  1, -1, -1,  1,  1, -1,  1, -1, -1,  1, -1,\n",
       "       -1,  1,  1,  1, -1, -1, -1, -1, -1, -1,  1,  1, -1,  1,  1, -1, -1,\n",
       "       -1,  1,  1,  1, -1, -1,  1, -1, -1,  1, -1, -1,  1, -1, -1,  1,  1,\n",
       "        1, -1,  1,  1,  1,  1, -1, -1,  1, -1,  1,  1, -1,  1,  1, -1,  1,\n",
       "       -1, -1, -1,  1, -1, -1,  1, -1, -1, -1, -1, -1, -1,  1, -1, -1, -1,\n",
       "       -1,  1, -1, -1, -1,  1,  1,  1,  1,  1,  1, -1, -1,  1,  1, -1,  1,\n",
       "        1, -1,  1,  1,  1, -1,  1, -1,  1, -1, -1, -1,  1,  1, -1,  1,  1,\n",
       "        1, -1, -1,  1, -1,  1,  1,  1, -1, -1, -1, -1, -1,  1, -1, -1, -1,\n",
       "       -1,  1,  1,  1, -1,  1, -1,  1, -1,  1,  1,  1,  1, -1, -1,  1,  1,\n",
       "        1, -1, -1, -1,  1,  1, -1,  1,  1,  1, -1, -1,  1,  1, -1,  1,  1,\n",
       "        1, -1,  1, -1,  1, -1, -1, -1,  1,  1, -1,  1, -1,  1,  1,  1,  1,\n",
       "       -1, -1,  1, -1, -1, -1,  1, -1,  1, -1,  1, -1,  1,  1,  1, -1, -1,\n",
       "        1, -1,  1, -1,  1,  1,  1, -1, -1,  1, -1, -1,  1,  1,  1, -1,  1,\n",
       "       -1,  1, -1, -1, -1, -1,  1, -1,  1,  1,  1, -1, -1, -1,  1, -1, -1,\n",
       "        1,  1, -1,  1,  1,  1, -1,  1,  1,  1, -1, -1,  1,  1,  1,  1,  1,\n",
       "       -1, -1, -1, -1, -1, -1, -1,  1, -1, -1, -1,  1,  1,  1,  1,  1,  1,\n",
       "        1, -1, -1,  1, -1,  1, -1,  1,  1,  1, -1,  1, -1,  1,  1, -1,  1,\n",
       "        1,  1, -1,  1, -1, -1,  1,  1, -1, -1, -1,  1, -1,  1, -1, -1,  1,\n",
       "        1,  1,  1,  1, -1, -1, -1,  1,  1,  1,  1, -1, -1,  1, -1, -1, -1,\n",
       "       -1,  1, -1, -1, -1, -1, -1, -1, -1, -1,  1,  1, -1,  1, -1, -1, -1,\n",
       "       -1, -1, -1, -1, -1,  1, -1,  1,  1, -1, -1,  1, -1, -1,  1,  1, -1,\n",
       "       -1, -1, -1, -1, -1, -1, -1, -1, -1,  1,  1, -1, -1,  1, -1,  1, -1,\n",
       "        1,  1,  1, -1,  1,  1,  1, -1,  1, -1, -1,  1,  1, -1,  1, -1, -1,\n",
       "       -1,  1,  1, -1,  1,  1, -1, -1, -1,  1, -1, -1, -1,  1, -1,  1, -1,\n",
       "       -1, -1,  1,  1,  1,  1,  1, -1,  1, -1, -1,  1,  1,  1, -1, -1, -1,\n",
       "        1,  1, -1, -1,  1,  1, -1,  1, -1, -1,  1, -1, -1, -1, -1,  1, -1,\n",
       "       -1, -1,  1, -1,  1,  1,  1,  1, -1, -1, -1,  1, -1, -1, -1,  1, -1,\n",
       "        1,  1, -1,  1, -1,  1, -1, -1, -1, -1, -1,  1, -1,  1,  1,  1,  1,\n",
       "        1,  1,  1, -1,  1, -1,  1, -1, -1, -1,  1, -1,  1, -1, -1,  1,  1,\n",
       "        1, -1,  1, -1, -1,  1, -1,  1,  1, -1,  1,  1, -1, -1,  1,  1, -1,\n",
       "       -1, -1, -1,  1, -1, -1, -1,  1,  1, -1, -1, -1,  1,  1,  1,  1,  1,\n",
       "       -1,  1,  1,  1, -1,  1, -1, -1, -1,  1,  1,  1,  1,  1, -1, -1, -1,\n",
       "       -1, -1, -1,  1, -1,  1, -1, -1,  1, -1,  1,  1,  1, -1, -1,  1, -1,\n",
       "        1,  1, -1, -1, -1,  1,  1,  1, -1,  1, -1,  1, -1, -1,  1, -1, -1,\n",
       "        1,  1, -1,  1, -1, -1, -1, -1,  1, -1,  1, -1,  1, -1, -1, -1, -1,\n",
       "        1, -1,  1,  1, -1, -1, -1,  1, -1, -1, -1,  1,  1,  1, -1,  1, -1,\n",
       "        1, -1, -1,  1, -1,  1, -1, -1, -1,  1,  1,  1, -1,  1,  1, -1,  1,\n",
       "       -1,  1,  1, -1,  1,  1, -1, -1, -1, -1,  1,  1,  1, -1,  1,  1,  1,\n",
       "        1,  1,  1, -1,  1,  1, -1, -1, -1,  1, -1,  1, -1,  1, -1,  1, -1,\n",
       "       -1,  1, -1, -1, -1,  1,  1, -1, -1, -1, -1,  1,  1,  1,  1, -1,  1,\n",
       "        1,  1, -1,  1,  1, -1,  1, -1,  1, -1,  1,  1, -1, -1, -1,  1,  1,\n",
       "       -1,  1,  1, -1, -1, -1, -1,  1, -1,  1,  1,  1, -1,  1,  1, -1,  1,\n",
       "       -1,  1, -1, -1,  1,  1,  1,  1,  1, -1, -1, -1,  1, -1, -1,  1, -1,\n",
       "        1,  1,  1,  1,  1, -1, -1, -1,  1,  1, -1, -1, -1,  1,  1, -1,  1,\n",
       "        1, -1, -1,  1,  1,  1,  1, -1,  1, -1, -1,  1, -1,  1])"
      ]
     },
     "execution_count": 94,
     "metadata": {},
     "output_type": "execute_result"
    }
   ],
   "source": [
    "# 최소 시작이 0부터 이다!!\n",
    "# 최최값을 0으로 두고 시작\n",
    "step[0] = 0\n",
    "step"
   ]
  },
  {
   "cell_type": "code",
   "execution_count": 96,
   "metadata": {},
   "outputs": [
    {
     "data": {
      "text/plain": [
       "array([  0,  -1,   0,  -1,  -2,  -1,  -2,  -1,   0,  -1,   0,  -1,  -2,\n",
       "        -1,  -2,  -3,  -2,  -1,  -2,  -1,   0,  -1,  -2,  -3,  -2,  -3,\n",
       "        -4,  -5,  -4,  -3,  -2,  -1,   0,   1,   2,   1,   2,   3,   2,\n",
       "         1,   0,   1,   2,   1,   2,   3,   2,   1,   0,  -1,   0,  -1,\n",
       "         0,  -1,   0,   1,   0,  -1,  -2,  -1,   0,  -1,   0,  -1,   0,\n",
       "         1,   2,   1,   2,   1,   2,   1,   2,   1,   2,   1,   0,   1,\n",
       "         2,   3,   2,   1,   0,   1,   2,   3,   4,   5,   4,   3,   2,\n",
       "         1,   0,  -1,   0,  -1,  -2,  -1,  -2,  -3,  -4,  -5,  -4,  -5,\n",
       "        -6,  -5,  -6,  -5,  -6,  -5,  -4,  -5,  -6,  -7,  -6,  -7,  -8,\n",
       "        -9,  -8,  -9,  -8,  -7,  -6,  -5,  -6,  -7,  -6,  -7,  -8,  -9,\n",
       "       -10,  -9,  -8,  -9, -10,  -9, -10,  -9,  -8,  -9, -10, -11, -12,\n",
       "       -13, -14, -13, -14, -15, -14, -15, -16, -17, -16, -17, -16, -17,\n",
       "       -18, -19, -20, -19, -18, -17, -18, -19, -18, -19, -20, -21, -20,\n",
       "       -21, -22, -23, -24, -23, -22, -23, -22, -21, -20, -19, -20, -21,\n",
       "       -20, -21, -22, -21, -20, -21, -20, -21, -20, -21, -22, -21, -22,\n",
       "       -21, -20, -21, -22, -21, -22, -23, -24, -25, -26, -25, -24, -23,\n",
       "       -22, -21, -20, -21, -22, -21, -22, -23, -24, -23, -24, -25, -26,\n",
       "       -25, -26, -27, -28, -29, -30, -31, -30, -31, -32, -33, -34, -33,\n",
       "       -34, -35, -36, -37, -38, -37, -36, -37, -38, -37, -36, -37, -38,\n",
       "       -37, -36, -37, -36, -37, -38, -37, -38, -39, -38, -37, -36, -37,\n",
       "       -38, -39, -40, -41, -42, -41, -40, -41, -40, -39, -40, -41, -42,\n",
       "       -41, -40, -39, -40, -41, -40, -41, -42, -41, -42, -43, -42, -43,\n",
       "       -44, -43, -42, -41, -42, -41, -40, -39, -38, -39, -40, -39, -40,\n",
       "       -39, -38, -39, -38, -37, -38, -37, -38, -39, -40, -39, -40, -41,\n",
       "       -40, -41, -42, -43, -44, -45, -46, -45, -46, -47, -48, -49, -48,\n",
       "       -49, -50, -51, -50, -49, -48, -47, -46, -45, -46, -47, -46, -45,\n",
       "       -46, -45, -44, -45, -44, -43, -42, -43, -42, -43, -42, -43, -44,\n",
       "       -45, -44, -43, -44, -43, -42, -41, -42, -43, -42, -43, -42, -41,\n",
       "       -40, -41, -42, -43, -44, -45, -44, -45, -46, -47, -48, -47, -46,\n",
       "       -45, -46, -45, -46, -45, -46, -45, -44, -43, -42, -43, -44, -43,\n",
       "       -42, -41, -42, -43, -44, -43, -42, -43, -42, -41, -40, -41, -42,\n",
       "       -41, -40, -41, -40, -39, -38, -39, -38, -39, -38, -39, -40, -41,\n",
       "       -40, -39, -40, -39, -40, -39, -38, -37, -36, -37, -38, -37, -38,\n",
       "       -39, -40, -39, -40, -39, -40, -39, -40, -39, -38, -37, -38, -39,\n",
       "       -38, -39, -38, -39, -38, -37, -36, -37, -38, -37, -38, -39, -38,\n",
       "       -37, -36, -37, -36, -37, -36, -37, -38, -39, -40, -39, -40, -39,\n",
       "       -38, -37, -38, -39, -40, -39, -40, -41, -40, -39, -40, -39, -38,\n",
       "       -37, -38, -37, -36, -35, -36, -37, -36, -35, -34, -33, -32, -33,\n",
       "       -34, -35, -36, -37, -38, -39, -38, -39, -40, -41, -40, -39, -38,\n",
       "       -37, -36, -35, -34, -35, -36, -35, -36, -35, -36, -35, -34, -33,\n",
       "       -34, -33, -34, -33, -32, -33, -32, -31, -30, -31, -30, -31, -32,\n",
       "       -31, -30, -31, -32, -33, -32, -33, -32, -33, -34, -33, -32, -31,\n",
       "       -30, -29, -30, -31, -32, -31, -30, -29, -28, -29, -30, -29, -30,\n",
       "       -31, -32, -33, -32, -33, -34, -35, -36, -37, -38, -39, -40, -39,\n",
       "       -38, -39, -38, -39, -40, -41, -42, -43, -44, -45, -46, -45, -46,\n",
       "       -45, -44, -45, -46, -45, -46, -47, -46, -45, -46, -47, -48, -49,\n",
       "       -50, -51, -52, -53, -54, -55, -54, -53, -54, -55, -54, -55, -54,\n",
       "       -55, -54, -53, -52, -53, -52, -51, -50, -51, -50, -51, -52, -51,\n",
       "       -50, -51, -50, -51, -52, -53, -52, -51, -52, -51, -50, -51, -52,\n",
       "       -53, -52, -53, -54, -55, -54, -55, -54, -55, -56, -57, -56, -55,\n",
       "       -54, -53, -52, -53, -52, -53, -54, -53, -52, -51, -52, -53, -54,\n",
       "       -53, -52, -53, -54, -53, -52, -53, -52, -53, -54, -53, -54, -55,\n",
       "       -56, -57, -56, -57, -58, -59, -58, -59, -58, -57, -56, -55, -56,\n",
       "       -57, -58, -57, -58, -59, -60, -59, -60, -59, -58, -59, -58, -59,\n",
       "       -58, -59, -60, -61, -62, -63, -62, -63, -62, -61, -60, -59, -58,\n",
       "       -57, -56, -57, -56, -57, -56, -57, -58, -59, -58, -59, -58, -59,\n",
       "       -60, -59, -58, -57, -58, -57, -58, -59, -58, -59, -58, -57, -58,\n",
       "       -57, -56, -57, -58, -57, -56, -57, -58, -59, -60, -59, -60, -61,\n",
       "       -62, -61, -60, -61, -62, -63, -62, -61, -60, -59, -58, -59, -58,\n",
       "       -57, -56, -57, -56, -57, -58, -59, -58, -57, -56, -55, -54, -55,\n",
       "       -56, -57, -58, -59, -60, -59, -60, -59, -60, -61, -60, -61, -60,\n",
       "       -59, -58, -59, -60, -59, -60, -59, -58, -59, -60, -61, -60, -59,\n",
       "       -58, -59, -58, -59, -58, -59, -60, -59, -60, -61, -60, -59, -60,\n",
       "       -59, -60, -61, -62, -63, -62, -63, -62, -63, -62, -63, -64, -65,\n",
       "       -66, -65, -66, -65, -64, -65, -66, -67, -66, -67, -68, -69, -68,\n",
       "       -67, -66, -67, -66, -67, -66, -67, -68, -67, -68, -67, -68, -69,\n",
       "       -70, -69, -68, -67, -68, -67, -66, -67, -66, -67, -66, -65, -66,\n",
       "       -65, -64, -65, -66, -67, -68, -67, -66, -65, -66, -65, -64, -63,\n",
       "       -62, -61, -60, -61, -60, -59, -60, -61, -62, -61, -62, -61, -62,\n",
       "       -61, -62, -61, -62, -63, -62, -63, -64, -65, -64, -63, -64, -65,\n",
       "       -66, -67, -66, -65, -64, -63, -64, -63, -62, -61, -62, -61, -60,\n",
       "       -61, -60, -61, -60, -61, -60, -59, -60, -61, -62, -61, -60, -61,\n",
       "       -60, -59, -60, -61, -62, -63, -62, -63, -62, -61, -60, -61, -60,\n",
       "       -59, -60, -59, -60, -59, -60, -61, -60, -59, -58, -57, -56, -57,\n",
       "       -58, -59, -58, -59, -60, -59, -60, -59, -58, -57, -56, -55, -56,\n",
       "       -57, -58, -57, -56, -57, -58, -59, -58, -57, -58, -57, -56, -57,\n",
       "       -58, -57, -56, -55, -54, -55, -54, -55, -56, -55, -56, -55],\n",
       "      dtype=int32)"
      ]
     },
     "execution_count": 96,
     "metadata": {},
     "output_type": "execute_result"
    }
   ],
   "source": [
    "# 계단 오르기 => 누적합\n",
    "walking = step.cumsum()\n",
    "walking"
   ]
  },
  {
   "cell_type": "code",
   "execution_count": 99,
   "metadata": {},
   "outputs": [
    {
     "data": {
      "text/plain": [
       "[<matplotlib.lines.Line2D at 0x531b940>]"
      ]
     },
     "execution_count": 99,
     "metadata": {},
     "output_type": "execute_result"
    },
    {
     "data": {
      "image/png": "[encoded data removed]",
      "text/plain": [
       "<Figure size 432x288 with 1 Axes>"
      ]
     },
     "metadata": {},
     "output_type": "display_data"
    }
   ],
   "source": [
    "plt.plot(range(1000),walking)"
   ]
  },
  {
   "cell_type": "code",
   "execution_count": 103,
   "metadata": {},
   "outputs": [
    {
     "data": {
      "text/plain": [
       "147"
      ]
     },
     "execution_count": 103,
     "metadata": {},
     "output_type": "execute_result"
    }
   ],
   "source": [
    "# 최초 위치에서 15계단 이상 떨어진 최초 위치\n",
    "(np.abs(walking)>=15).argmax()"
   ]
  },
  {
   "cell_type": "code",
   "execution_count": 106,
   "metadata": {},
   "outputs": [
    {
     "name": "stdout",
     "output_type": "stream",
     "text": [
      "(5000, 1000) 2 int32\n"
     ]
    }
   ],
   "source": [
    "# 1000씩 계단 오르는 데이터를 5000번 수행한다.(5000개를 모은다.)\n",
    "rs = np.random.randint(0, 2, size = (5000,1000))\n",
    "print(rs.shape, rs.ndim, rs.dtype)"
   ]
  },
  {
   "cell_type": "code",
   "execution_count": 112,
   "metadata": {},
   "outputs": [],
   "source": [
    "step = np.where( rs > 0, rs, -1)"
   ]
  },
  {
   "cell_type": "code",
   "execution_count": 114,
   "metadata": {},
   "outputs": [
    {
     "data": {
      "text/plain": [
       "array([[  1,   0,  -1, ..., -10, -11, -10],\n",
       "       [  1,   2,   1, ...,   4,   3,   4],\n",
       "       [  1,   2,   3, ..., -38, -39, -38],\n",
       "       ...,\n",
       "       [ -1,  -2,  -3, ...,  -6,  -5,  -4],\n",
       "       [ -1,   0,   1, ..., -58, -57, -58],\n",
       "       [  1,   0,  -1, ..., -24, -23, -22]], dtype=int32)"
      ]
     },
     "execution_count": 114,
     "metadata": {},
     "output_type": "execute_result"
    }
   ],
   "source": [
    "walking  = step.cumsum(axis = 1)\n",
    "walking.shape\n",
    "walking"
   ]
  },
  {
   "cell_type": "code",
   "execution_count": 115,
   "metadata": {},
   "outputs": [
    {
     "name": "stdout",
     "output_type": "stream",
     "text": [
      "135 -124\n"
     ]
    }
   ],
   "source": [
    "print(walking.max(), walking.min())"
   ]
  },
  {
   "cell_type": "code",
   "execution_count": 121,
   "metadata": {},
   "outputs": [
    {
     "name": "stdout",
     "output_type": "stream",
     "text": [
      "5000 [False False  True ...  True  True  True]\n"
     ]
    }
   ],
   "source": [
    "# 크기가 최초 위치에서 30이상 이동한 갯수 \n",
    "overStep = (np.abs(walking) >= 30).any(1)\n",
    "print( len(overStep), overStep)"
   ]
  },
  {
   "cell_type": "code",
   "execution_count": 120,
   "metadata": {},
   "outputs": [
    {
     "data": {
      "text/plain": [
       "3380"
      ]
     },
     "execution_count": 120,
     "metadata": {},
     "output_type": "execute_result"
    }
   ],
   "source": [
    "overStep.sum()"
   ]
  },
  {
   "cell_type": "code",
   "execution_count": null,
   "metadata": {},
   "outputs": [],
   "source": []
  }
 ],
 "metadata": {
  "kernelspec": {
   "display_name": "Python 3",
   "language": "python",
   "name": "python3"
  },
  "language_info": {
   "codemirror_mode": {
    "name": "ipython",
    "version": 3
   },
   "file_extension": ".py",
   "mimetype": "text/x-python",
   "name": "python",
   "nbconvert_exporter": "python",
   "pygments_lexer": "ipython3",
   "version": "3.6.5"
  }
 },
 "nbformat": 4,
 "nbformat_minor": 2
}
