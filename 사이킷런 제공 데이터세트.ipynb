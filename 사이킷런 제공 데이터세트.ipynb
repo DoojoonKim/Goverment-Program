{
 "cells": [
  {
   "cell_type": "markdown",
   "metadata": {},
   "source": [
    "### sklearn.datasets\n",
    "\n",
    "- 개별 모델 및 알고리즘 확인을 위해서 데이터 세트를 기본 제공\n",
    "- `3가지 계열`로 제공\n",
    "\n",
    "|함수명|내용|\n",
    "|:--:|:--:|\n",
    "|load()| 이미 저장된 데이터셋 제공|\n",
    "|fetch()| 인터넷 캐쉬로 download하고 나서 제공 |\n",
    "|make()| 가상의 데이터셋을 만들어서 제공 |"
   ]
  },
  {
   "cell_type": "code",
   "execution_count": 1,
   "metadata": {},
   "outputs": [],
   "source": [
    "import sklearn.datasets as mls"
   ]
  },
  {
   "cell_type": "markdown",
   "metadata": {},
   "source": [
    "## load계열 명령\n",
    "\n",
    "- load_boston() : 회귀분석용 보스톤 집값(데이터가 수치)\n",
    "- load_diabetes() : 회귀분석용 당뇨병 자료\n",
    "---------------------------------------------------------------\n",
    "- load_breast_cancer() : 분류용 유방함 진단 자료(데이터가 범주형)\n",
    "- load digits() : 분류용 숫자 필기 이미지 \n",
    "- load_iris(): 분류형 아이리스 자료\n",
    "- load_wine(): 분류형 포도주 등급 자료"
   ]
  },
  {
   "cell_type": "markdown",
   "metadata": {},
   "source": [
    "### fetch계열\n",
    "- fetch_covtype() : 회귀분석용 토지 자료\n",
    "- fetch_20newsgroups() : 뉴스 그룹의 텍스트 자료\n",
    "- fetch_olivetti_faces() : 얼굴 이미지 자료\n",
    "- fetch_lfw_people() : 얼굴 이미지 자료\n",
    "- fetch_lfw_paris() : 얼굴 이미지 자료\n",
    "- fetch_rvcl() : 로이터 뉴스"
   ]
  },
  {
   "cell_type": "markdown",
   "metadata": {},
   "source": [
    "### make 계열\n",
    "\n",
    "- make_regression() : 회귀분석용 가상 데이터\n",
    "- make_classification() : 분류분석용 가상 데이터\n",
    "- make_blobs() : 클러스트용 가상 데이터"
   ]
  },
  {
   "cell_type": "markdown",
   "metadata": {},
   "source": [
    "### 데이터 세트의 형식\n",
    "- 사이키 런에서 가져온 데이터 세트는 대부분 Bunch라는 class를 상속 받음.\n",
    "- 공통 속성 또는 유사 속성 존재\n",
    "> data : ndarray 배열(필수), 독립변수  \n",
    "> target : ndarray 배열(필수), 종속변수  \n",
    "> feature_names :(옵션) 독립변수들의 이름 => 컬럼명  \n",
    "> target_names :(옵션) 종속변수의 이름  \n",
    "> DESCR : (옵션) 자료설명  "
   ]
  },
  {
   "cell_type": "code",
   "execution_count": null,
   "metadata": {},
   "outputs": [],
   "source": []
  }
 ],
 "metadata": {
  "kernelspec": {
   "display_name": "Python 3",
   "language": "python",
   "name": "python3"
  },
  "language_info": {
   "codemirror_mode": {
    "name": "ipython",
    "version": 3
   },
   "file_extension": ".py",
   "mimetype": "text/x-python",
   "name": "python",
   "nbconvert_exporter": "python",
   "pygments_lexer": "ipython3",
   "version": "3.6.5"
  }
 },
 "nbformat": 4,
 "nbformat_minor": 2
}
