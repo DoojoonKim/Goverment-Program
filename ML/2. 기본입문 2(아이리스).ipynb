{
 "cells": [
  {
   "cell_type": "markdown",
   "metadata": {},
   "source": [
    "### 아이리스(붓꽃) 품종 분류\n",
    "\n",
    "- 사전지식 \n",
    "- 종류가 150종 존재\n",
    "- 꽃잎, 꽃받침의 너비, 개수\n",
    "- 제공데이터는 특성 4(2*2)개를 기반으로 해당 품종(레이블)을 분류하여 제공하고 있다."
   ]
  },
  {
   "cell_type": "code",
   "execution_count": 34,
   "metadata": {},
   "outputs": [],
   "source": [
    "from sklearn import svm, metrics\n",
    "import random\n",
    "#정규식\n",
    "import re "
   ]
  },
  {
   "cell_type": "code",
   "execution_count": 31,
   "metadata": {},
   "outputs": [],
   "source": [
    "# 데이터 수집\n",
    "# iris.csv 읽어서 2차원 리스트에 담는다.\n",
    "# 불필요한 데이터(컬럼열)제거\n",
    "# 부동소수쪽은 float형으로 처리한다.\n",
    "'./data/iris.csv'"
   ]
  },
  {
   "cell_type": "code",
   "execution_count": 48,
   "metadata": {},
   "outputs": [],
   "source": [
    "csv =[]\n",
    "with open('./data/iris.csv','r',encoding='utf8') as f:\n",
    "    for line in f:\n",
    "        tmp = line.strip().split(',')     \n",
    "        # 정규식 사용하여 부동소수형 문자이면 float 처리를 하겠다.\n",
    "        # 1. 패턴 정의\n",
    "        # 문자열이 하나가 오면 -> 패턴으로 조사해서 일치하면(적합) 적용, 아니면 그대로(원래값)\n",
    "\n",
    "        fun = lambda x: float(x) if re.match('^[0-9\\.]+$', x ) else x # [문자] 중에 표현, ^ 문장의 시작$ 문자으이 끝, 숫자 0~9 특수문자 => \\.\n",
    "        row = list(map(fun,tmp))\n",
    "        # 2. 연속/한번 적용\n",
    "        csv.append(row)\n",
    "    #ile = f.read()\n",
    "del csv[0]\n"
   ]
  },
  {
   "cell_type": "code",
   "execution_count": 42,
   "metadata": {},
   "outputs": [],
   "source": [
    "def read_csv(fileName,sep=',',encoding='utf-8'):\n",
    "    csv =[]\n",
    "    with open(fileName,'r',encoding=encoding) as f:\n",
    "        for line in f:\n",
    "            tmp = line.strip().split(sep)     \n",
    "            # 정규식 사용하여 부동소수형 문자이면 float 처리를 하겠다.\n",
    "            # 1. 패턴 정의\n",
    "            # 문자열이 하나가 오면 -> 패턴으로 조사해서 일치하면(적합) 적용, 아니면 그대로(원래값)\n",
    "\n",
    "            fun = lambda x: float(x) if re.match('^[0-9\\.]+$', x ) else x # [문자] 중에 표현, ^ 문장의 시작$ 문자으이 끝, 숫자 0~9 특수문자 => \\.\n",
    "            row = list(map(fun,tmp))\n",
    "            # 2. 연속/한번 적용\n",
    "            csv.append(row)\n",
    "        #ile = f.read()\n",
    "    del csv[0]\n",
    "    return csv"
   ]
  },
  {
   "cell_type": "code",
   "execution_count": 51,
   "metadata": {},
   "outputs": [
    {
     "data": {
      "text/plain": [
       "[[5.7, 2.5, 5.0, 2.0, 'Iris-virginica'],\n",
       " [6.3, 3.3, 6.0, 2.5, 'Iris-virginica'],\n",
       " [5.0, 3.5, 1.3, 0.3, 'Iris-setosa'],\n",
       " [5.1, 3.5, 1.4, 0.2, 'Iris-setosa'],\n",
       " [6.3, 2.3, 4.4, 1.3, 'Iris-versicolor'],\n",
       " [7.2, 3.2, 6.0, 1.8, 'Iris-virginica'],\n",
       " [6.4, 3.2, 5.3, 2.3, 'Iris-virginica'],\n",
       " [6.7, 3.1, 4.7, 1.5, 'Iris-versicolor'],\n",
       " [6.5, 2.8, 4.6, 1.5, 'Iris-versicolor'],\n",
       " [6.7, 2.5, 5.8, 1.8, 'Iris-virginica'],\n",
       " [5.2, 4.1, 1.5, 0.1, 'Iris-setosa'],\n",
       " [5.1, 3.8, 1.6, 0.2, 'Iris-setosa'],\n",
       " [5.8, 2.6, 4.0, 1.2, 'Iris-versicolor'],\n",
       " [5.6, 2.7, 4.2, 1.3, 'Iris-versicolor'],\n",
       " [5.1, 2.5, 3.0, 1.1, 'Iris-versicolor'],\n",
       " [5.5, 2.4, 3.7, 1.0, 'Iris-versicolor'],\n",
       " [5.8, 4.0, 1.2, 0.2, 'Iris-setosa'],\n",
       " [5.0, 2.3, 3.3, 1.0, 'Iris-versicolor'],\n",
       " [5.4, 3.4, 1.5, 0.4, 'Iris-setosa'],\n",
       " [6.3, 2.9, 5.6, 1.8, 'Iris-virginica'],\n",
       " [6.7, 3.3, 5.7, 2.5, 'Iris-virginica'],\n",
       " [5.1, 3.8, 1.9, 0.4, 'Iris-setosa'],\n",
       " [5.6, 2.8, 4.9, 2.0, 'Iris-virginica'],\n",
       " [6.2, 2.8, 4.8, 1.8, 'Iris-virginica'],\n",
       " [5.2, 3.4, 1.4, 0.2, 'Iris-setosa'],\n",
       " [6.0, 2.2, 5.0, 1.5, 'Iris-virginica'],\n",
       " [5.4, 3.9, 1.3, 0.4, 'Iris-setosa'],\n",
       " [6.3, 2.5, 4.9, 1.5, 'Iris-versicolor'],\n",
       " [5.6, 3.0, 4.5, 1.5, 'Iris-versicolor'],\n",
       " [6.1, 2.9, 4.7, 1.4, 'Iris-versicolor'],\n",
       " [5.8, 2.7, 4.1, 1.0, 'Iris-versicolor'],\n",
       " [7.7, 2.8, 6.7, 2.0, 'Iris-virginica'],\n",
       " [5.6, 2.9, 3.6, 1.3, 'Iris-versicolor'],\n",
       " [7.4, 2.8, 6.1, 1.9, 'Iris-virginica'],\n",
       " [5.6, 3.0, 4.1, 1.3, 'Iris-versicolor'],\n",
       " [5.1, 3.5, 1.4, 0.3, 'Iris-setosa'],\n",
       " [5.8, 2.7, 5.1, 1.9, 'Iris-virginica'],\n",
       " [6.5, 3.0, 5.2, 2.0, 'Iris-virginica'],\n",
       " [6.0, 2.7, 5.1, 1.6, 'Iris-versicolor'],\n",
       " [6.0, 3.0, 4.8, 1.8, 'Iris-virginica'],\n",
       " [5.9, 3.0, 5.1, 1.8, 'Iris-virginica'],\n",
       " [5.0, 3.6, 1.4, 0.2, 'Iris-setosa'],\n",
       " [4.9, 3.1, 1.5, 0.1, 'Iris-setosa'],\n",
       " [5.5, 3.5, 1.3, 0.2, 'Iris-setosa'],\n",
       " [7.7, 3.8, 6.7, 2.2, 'Iris-virginica'],\n",
       " [6.7, 3.1, 5.6, 2.4, 'Iris-virginica'],\n",
       " [5.9, 3.2, 4.8, 1.8, 'Iris-versicolor'],\n",
       " [6.4, 2.8, 5.6, 2.2, 'Iris-virginica'],\n",
       " [7.0, 3.2, 4.7, 1.4, 'Iris-versicolor'],\n",
       " [5.2, 3.5, 1.5, 0.2, 'Iris-setosa'],\n",
       " [4.4, 3.2, 1.3, 0.2, 'Iris-setosa'],\n",
       " [7.7, 3.0, 6.1, 2.3, 'Iris-virginica'],\n",
       " [4.6, 3.2, 1.4, 0.2, 'Iris-setosa'],\n",
       " [6.0, 2.2, 4.0, 1.0, 'Iris-versicolor'],\n",
       " [5.5, 4.2, 1.4, 0.2, 'Iris-setosa'],\n",
       " [6.0, 2.9, 4.5, 1.5, 'Iris-versicolor'],\n",
       " [5.5, 2.4, 3.8, 1.1, 'Iris-versicolor'],\n",
       " [5.8, 2.7, 3.9, 1.2, 'Iris-versicolor'],\n",
       " [6.9, 3.1, 5.4, 2.1, 'Iris-virginica'],\n",
       " [5.9, 3.0, 4.2, 1.5, 'Iris-versicolor'],\n",
       " [6.4, 2.9, 4.3, 1.3, 'Iris-versicolor'],\n",
       " [6.0, 3.4, 4.5, 1.6, 'Iris-versicolor'],\n",
       " [6.5, 3.2, 5.1, 2.0, 'Iris-virginica'],\n",
       " [5.4, 3.4, 1.7, 0.2, 'Iris-setosa'],\n",
       " [6.3, 2.7, 4.9, 1.8, 'Iris-virginica'],\n",
       " [5.0, 3.3, 1.4, 0.2, 'Iris-setosa'],\n",
       " [6.8, 3.2, 5.9, 2.3, 'Iris-virginica'],\n",
       " [4.6, 3.1, 1.5, 0.2, 'Iris-setosa'],\n",
       " [5.7, 4.4, 1.5, 0.4, 'Iris-setosa'],\n",
       " [5.7, 3.8, 1.7, 0.3, 'Iris-setosa'],\n",
       " [5.5, 2.6, 4.4, 1.2, 'Iris-versicolor'],\n",
       " [7.2, 3.6, 6.1, 2.5, 'Iris-virginica'],\n",
       " [4.9, 3.1, 1.5, 0.1, 'Iris-setosa'],\n",
       " [5.0, 3.4, 1.5, 0.2, 'Iris-setosa'],\n",
       " [4.6, 3.4, 1.4, 0.3, 'Iris-setosa'],\n",
       " [6.9, 3.2, 5.7, 2.3, 'Iris-virginica'],\n",
       " [6.1, 2.8, 4.0, 1.3, 'Iris-versicolor'],\n",
       " [7.1, 3.0, 5.9, 2.1, 'Iris-virginica'],\n",
       " [4.8, 3.0, 1.4, 0.1, 'Iris-setosa'],\n",
       " [4.3, 3.0, 1.1, 0.1, 'Iris-setosa'],\n",
       " [4.5, 2.3, 1.3, 0.3, 'Iris-setosa'],\n",
       " [4.8, 3.1, 1.6, 0.2, 'Iris-setosa'],\n",
       " [5.1, 3.4, 1.5, 0.2, 'Iris-setosa'],\n",
       " [6.9, 3.1, 4.9, 1.5, 'Iris-versicolor'],\n",
       " [5.8, 2.7, 5.1, 1.9, 'Iris-virginica'],\n",
       " [4.8, 3.0, 1.4, 0.3, 'Iris-setosa'],\n",
       " [5.5, 2.5, 4.0, 1.3, 'Iris-versicolor'],\n",
       " [5.2, 2.7, 3.9, 1.4, 'Iris-versicolor'],\n",
       " [4.9, 2.5, 4.5, 1.7, 'Iris-virginica'],\n",
       " [6.8, 3.0, 5.5, 2.1, 'Iris-virginica'],\n",
       " [5.0, 3.0, 1.6, 0.2, 'Iris-setosa'],\n",
       " [5.6, 2.5, 3.9, 1.1, 'Iris-versicolor'],\n",
       " [5.8, 2.8, 5.1, 2.4, 'Iris-virginica'],\n",
       " [6.3, 2.5, 5.0, 1.9, 'Iris-virginica'],\n",
       " [4.7, 3.2, 1.3, 0.2, 'Iris-setosa'],\n",
       " [6.7, 3.1, 4.4, 1.4, 'Iris-versicolor'],\n",
       " [7.9, 3.8, 6.4, 2.0, 'Iris-virginica'],\n",
       " [4.8, 3.4, 1.6, 0.2, 'Iris-setosa'],\n",
       " [5.5, 2.3, 4.0, 1.3, 'Iris-versicolor'],\n",
       " [4.9, 2.4, 3.3, 1.0, 'Iris-versicolor'],\n",
       " [6.1, 3.0, 4.6, 1.4, 'Iris-versicolor'],\n",
       " [6.5, 3.0, 5.8, 2.2, 'Iris-virginica'],\n",
       " [5.0, 3.4, 1.6, 0.4, 'Iris-setosa'],\n",
       " [4.8, 3.4, 1.9, 0.2, 'Iris-setosa'],\n",
       " [7.6, 3.0, 6.6, 2.1, 'Iris-virginica'],\n",
       " [6.7, 3.0, 5.0, 1.7, 'Iris-versicolor'],\n",
       " [6.2, 3.4, 5.4, 2.3, 'Iris-virginica'],\n",
       " [5.0, 3.2, 1.2, 0.2, 'Iris-setosa'],\n",
       " [5.0, 3.5, 1.6, 0.6, 'Iris-setosa'],\n",
       " [4.9, 3.1, 1.5, 0.1, 'Iris-setosa'],\n",
       " [6.9, 3.1, 5.1, 2.3, 'Iris-virginica'],\n",
       " [6.1, 3.0, 4.9, 1.8, 'Iris-virginica'],\n",
       " [6.3, 3.3, 4.7, 1.6, 'Iris-versicolor'],\n",
       " [5.7, 3.0, 4.2, 1.2, 'Iris-versicolor'],\n",
       " [6.6, 3.0, 4.4, 1.4, 'Iris-versicolor'],\n",
       " [4.7, 3.2, 1.6, 0.2, 'Iris-setosa'],\n",
       " [6.7, 3.3, 5.7, 2.1, 'Iris-virginica'],\n",
       " [4.4, 3.0, 1.3, 0.2, 'Iris-setosa'],\n",
       " [4.6, 3.6, 1.0, 0.2, 'Iris-setosa'],\n",
       " [5.7, 2.8, 4.1, 1.3, 'Iris-versicolor'],\n",
       " [5.4, 3.7, 1.5, 0.2, 'Iris-setosa'],\n",
       " [6.2, 2.2, 4.5, 1.5, 'Iris-versicolor'],\n",
       " [5.7, 2.9, 4.2, 1.3, 'Iris-versicolor'],\n",
       " [6.1, 2.8, 4.7, 1.2, 'Iris-versicolor'],\n",
       " [6.5, 3.0, 5.5, 1.8, 'Iris-virginica'],\n",
       " [7.2, 3.0, 5.8, 1.6, 'Iris-virginica'],\n",
       " [7.7, 2.6, 6.9, 2.3, 'Iris-virginica'],\n",
       " [5.7, 2.6, 3.5, 1.0, 'Iris-versicolor'],\n",
       " [6.4, 2.8, 5.6, 2.1, 'Iris-virginica'],\n",
       " [6.4, 2.7, 5.3, 1.9, 'Iris-virginica'],\n",
       " [6.4, 3.1, 5.5, 1.8, 'Iris-virginica'],\n",
       " [7.3, 2.9, 6.3, 1.8, 'Iris-virginica'],\n",
       " [6.4, 3.2, 4.5, 1.5, 'Iris-versicolor'],\n",
       " [4.9, 3.0, 1.4, 0.2, 'Iris-setosa'],\n",
       " [6.6, 2.9, 4.6, 1.3, 'Iris-versicolor'],\n",
       " [6.2, 2.9, 4.3, 1.3, 'Iris-versicolor'],\n",
       " [5.3, 3.7, 1.5, 0.2, 'Iris-setosa'],\n",
       " [4.4, 2.9, 1.4, 0.2, 'Iris-setosa'],\n",
       " [5.7, 2.8, 4.5, 1.3, 'Iris-versicolor'],\n",
       " [6.7, 3.0, 5.2, 2.3, 'Iris-virginica'],\n",
       " [6.1, 2.6, 5.6, 1.4, 'Iris-virginica'],\n",
       " [5.1, 3.8, 1.5, 0.3, 'Iris-setosa'],\n",
       " [5.4, 3.9, 1.7, 0.4, 'Iris-setosa'],\n",
       " [5.1, 3.3, 1.7, 0.5, 'Iris-setosa'],\n",
       " [6.8, 2.8, 4.8, 1.4, 'Iris-versicolor'],\n",
       " [5.4, 3.0, 4.5, 1.5, 'Iris-versicolor'],\n",
       " [5.0, 2.0, 3.5, 1.0, 'Iris-versicolor'],\n",
       " [6.3, 2.8, 5.1, 1.5, 'Iris-virginica'],\n",
       " [6.3, 3.4, 5.6, 2.4, 'Iris-virginica'],\n",
       " [5.1, 3.7, 1.5, 0.4, 'Iris-setosa']]"
      ]
     },
     "execution_count": 51,
     "metadata": {},
     "output_type": "execute_result"
    }
   ],
   "source": [
    "csv"
   ]
  },
  {
   "cell_type": "code",
   "execution_count": 49,
   "metadata": {},
   "outputs": [
    {
     "data": {
      "text/plain": [
       "(112, 38)"
      ]
     },
     "execution_count": 49,
     "metadata": {},
     "output_type": "execute_result"
    }
   ],
   "source": [
    "# 훈련 데이터, 테스트 데이터 분류(75퍼 25퍼)\n",
    "\n",
    "train_len = len(csv)*3//4 \n",
    "test_len = len(csv) - train_len\n",
    "train_len, test_len\n",
    "# 모댈 생성해서 학습\n",
    "# 테스트 데이터로 예측\n",
    "# 평가 : 정답률 구함"
   ]
  },
  {
   "cell_type": "code",
   "execution_count": 50,
   "metadata": {},
   "outputs": [],
   "source": [
    "# 섞기(패를 섞는다. 데이터를 섞는다.)\n",
    "random.shuffle(csv)"
   ]
  },
  {
   "cell_type": "code",
   "execution_count": 62,
   "metadata": {},
   "outputs": [],
   "source": [
    "# 훈련 데이터 (112,4)\n",
    "train_data = [line[:4] for line in csv[:train_len] ]\n",
    "# 훈련 레이블(112)\n",
    "train_label = [line[4] for line in csv[:train_len] ]\n",
    "# 테스트 데이터(38,4)\n",
    "test_data = [line[:4] for line in csv[train_len:] ]\n",
    "# 테스트 레이블 (38)\n",
    "test_label = [line[4] for line in csv[train_len:] ]"
   ]
  },
  {
   "cell_type": "code",
   "execution_count": 66,
   "metadata": {},
   "outputs": [
    {
     "data": {
      "text/plain": [
       "(112,\n",
       " [[5.7, 2.5, 5.0, 2.0],\n",
       "  [6.3, 3.3, 6.0, 2.5],\n",
       "  [5.0, 3.5, 1.3, 0.3],\n",
       "  [5.1, 3.5, 1.4, 0.2],\n",
       "  [6.3, 2.3, 4.4, 1.3],\n",
       "  [7.2, 3.2, 6.0, 1.8],\n",
       "  [6.4, 3.2, 5.3, 2.3],\n",
       "  [6.7, 3.1, 4.7, 1.5],\n",
       "  [6.5, 2.8, 4.6, 1.5],\n",
       "  [6.7, 2.5, 5.8, 1.8],\n",
       "  [5.2, 4.1, 1.5, 0.1],\n",
       "  [5.1, 3.8, 1.6, 0.2],\n",
       "  [5.8, 2.6, 4.0, 1.2],\n",
       "  [5.6, 2.7, 4.2, 1.3],\n",
       "  [5.1, 2.5, 3.0, 1.1],\n",
       "  [5.5, 2.4, 3.7, 1.0],\n",
       "  [5.8, 4.0, 1.2, 0.2],\n",
       "  [5.0, 2.3, 3.3, 1.0],\n",
       "  [5.4, 3.4, 1.5, 0.4],\n",
       "  [6.3, 2.9, 5.6, 1.8],\n",
       "  [6.7, 3.3, 5.7, 2.5],\n",
       "  [5.1, 3.8, 1.9, 0.4],\n",
       "  [5.6, 2.8, 4.9, 2.0],\n",
       "  [6.2, 2.8, 4.8, 1.8],\n",
       "  [5.2, 3.4, 1.4, 0.2],\n",
       "  [6.0, 2.2, 5.0, 1.5],\n",
       "  [5.4, 3.9, 1.3, 0.4],\n",
       "  [6.3, 2.5, 4.9, 1.5],\n",
       "  [5.6, 3.0, 4.5, 1.5],\n",
       "  [6.1, 2.9, 4.7, 1.4],\n",
       "  [5.8, 2.7, 4.1, 1.0],\n",
       "  [7.7, 2.8, 6.7, 2.0],\n",
       "  [5.6, 2.9, 3.6, 1.3],\n",
       "  [7.4, 2.8, 6.1, 1.9],\n",
       "  [5.6, 3.0, 4.1, 1.3],\n",
       "  [5.1, 3.5, 1.4, 0.3],\n",
       "  [5.8, 2.7, 5.1, 1.9],\n",
       "  [6.5, 3.0, 5.2, 2.0],\n",
       "  [6.0, 2.7, 5.1, 1.6],\n",
       "  [6.0, 3.0, 4.8, 1.8],\n",
       "  [5.9, 3.0, 5.1, 1.8],\n",
       "  [5.0, 3.6, 1.4, 0.2],\n",
       "  [4.9, 3.1, 1.5, 0.1],\n",
       "  [5.5, 3.5, 1.3, 0.2],\n",
       "  [7.7, 3.8, 6.7, 2.2],\n",
       "  [6.7, 3.1, 5.6, 2.4],\n",
       "  [5.9, 3.2, 4.8, 1.8],\n",
       "  [6.4, 2.8, 5.6, 2.2],\n",
       "  [7.0, 3.2, 4.7, 1.4],\n",
       "  [5.2, 3.5, 1.5, 0.2],\n",
       "  [4.4, 3.2, 1.3, 0.2],\n",
       "  [7.7, 3.0, 6.1, 2.3],\n",
       "  [4.6, 3.2, 1.4, 0.2],\n",
       "  [6.0, 2.2, 4.0, 1.0],\n",
       "  [5.5, 4.2, 1.4, 0.2],\n",
       "  [6.0, 2.9, 4.5, 1.5],\n",
       "  [5.5, 2.4, 3.8, 1.1],\n",
       "  [5.8, 2.7, 3.9, 1.2],\n",
       "  [6.9, 3.1, 5.4, 2.1],\n",
       "  [5.9, 3.0, 4.2, 1.5],\n",
       "  [6.4, 2.9, 4.3, 1.3],\n",
       "  [6.0, 3.4, 4.5, 1.6],\n",
       "  [6.5, 3.2, 5.1, 2.0],\n",
       "  [5.4, 3.4, 1.7, 0.2],\n",
       "  [6.3, 2.7, 4.9, 1.8],\n",
       "  [5.0, 3.3, 1.4, 0.2],\n",
       "  [6.8, 3.2, 5.9, 2.3],\n",
       "  [4.6, 3.1, 1.5, 0.2],\n",
       "  [5.7, 4.4, 1.5, 0.4],\n",
       "  [5.7, 3.8, 1.7, 0.3],\n",
       "  [5.5, 2.6, 4.4, 1.2],\n",
       "  [7.2, 3.6, 6.1, 2.5],\n",
       "  [4.9, 3.1, 1.5, 0.1],\n",
       "  [5.0, 3.4, 1.5, 0.2],\n",
       "  [4.6, 3.4, 1.4, 0.3],\n",
       "  [6.9, 3.2, 5.7, 2.3],\n",
       "  [6.1, 2.8, 4.0, 1.3],\n",
       "  [7.1, 3.0, 5.9, 2.1],\n",
       "  [4.8, 3.0, 1.4, 0.1],\n",
       "  [4.3, 3.0, 1.1, 0.1],\n",
       "  [4.5, 2.3, 1.3, 0.3],\n",
       "  [4.8, 3.1, 1.6, 0.2],\n",
       "  [5.1, 3.4, 1.5, 0.2],\n",
       "  [6.9, 3.1, 4.9, 1.5],\n",
       "  [5.8, 2.7, 5.1, 1.9],\n",
       "  [4.8, 3.0, 1.4, 0.3],\n",
       "  [5.5, 2.5, 4.0, 1.3],\n",
       "  [5.2, 2.7, 3.9, 1.4],\n",
       "  [4.9, 2.5, 4.5, 1.7],\n",
       "  [6.8, 3.0, 5.5, 2.1],\n",
       "  [5.0, 3.0, 1.6, 0.2],\n",
       "  [5.6, 2.5, 3.9, 1.1],\n",
       "  [5.8, 2.8, 5.1, 2.4],\n",
       "  [6.3, 2.5, 5.0, 1.9],\n",
       "  [4.7, 3.2, 1.3, 0.2],\n",
       "  [6.7, 3.1, 4.4, 1.4],\n",
       "  [7.9, 3.8, 6.4, 2.0],\n",
       "  [4.8, 3.4, 1.6, 0.2],\n",
       "  [5.5, 2.3, 4.0, 1.3],\n",
       "  [4.9, 2.4, 3.3, 1.0],\n",
       "  [6.1, 3.0, 4.6, 1.4],\n",
       "  [6.5, 3.0, 5.8, 2.2],\n",
       "  [5.0, 3.4, 1.6, 0.4],\n",
       "  [4.8, 3.4, 1.9, 0.2],\n",
       "  [7.6, 3.0, 6.6, 2.1],\n",
       "  [6.7, 3.0, 5.0, 1.7],\n",
       "  [6.2, 3.4, 5.4, 2.3],\n",
       "  [5.0, 3.2, 1.2, 0.2],\n",
       "  [5.0, 3.5, 1.6, 0.6],\n",
       "  [4.9, 3.1, 1.5, 0.1],\n",
       "  [6.9, 3.1, 5.1, 2.3],\n",
       "  [6.1, 3.0, 4.9, 1.8]])"
      ]
     },
     "execution_count": 66,
     "metadata": {},
     "output_type": "execute_result"
    }
   ],
   "source": [
    "len(train_data), train_data"
   ]
  },
  {
   "cell_type": "code",
   "execution_count": 65,
   "metadata": {},
   "outputs": [
    {
     "data": {
      "text/plain": [
       "(38,\n",
       " [[6.3, 3.3, 4.7, 1.6],\n",
       "  [5.7, 3.0, 4.2, 1.2],\n",
       "  [6.6, 3.0, 4.4, 1.4],\n",
       "  [4.7, 3.2, 1.6, 0.2],\n",
       "  [6.7, 3.3, 5.7, 2.1],\n",
       "  [4.4, 3.0, 1.3, 0.2],\n",
       "  [4.6, 3.6, 1.0, 0.2],\n",
       "  [5.7, 2.8, 4.1, 1.3],\n",
       "  [5.4, 3.7, 1.5, 0.2],\n",
       "  [6.2, 2.2, 4.5, 1.5],\n",
       "  [5.7, 2.9, 4.2, 1.3],\n",
       "  [6.1, 2.8, 4.7, 1.2],\n",
       "  [6.5, 3.0, 5.5, 1.8],\n",
       "  [7.2, 3.0, 5.8, 1.6],\n",
       "  [7.7, 2.6, 6.9, 2.3],\n",
       "  [5.7, 2.6, 3.5, 1.0],\n",
       "  [6.4, 2.8, 5.6, 2.1],\n",
       "  [6.4, 2.7, 5.3, 1.9],\n",
       "  [6.4, 3.1, 5.5, 1.8],\n",
       "  [7.3, 2.9, 6.3, 1.8],\n",
       "  [6.4, 3.2, 4.5, 1.5],\n",
       "  [4.9, 3.0, 1.4, 0.2],\n",
       "  [6.6, 2.9, 4.6, 1.3],\n",
       "  [6.2, 2.9, 4.3, 1.3],\n",
       "  [5.3, 3.7, 1.5, 0.2],\n",
       "  [4.4, 2.9, 1.4, 0.2],\n",
       "  [5.7, 2.8, 4.5, 1.3],\n",
       "  [6.7, 3.0, 5.2, 2.3],\n",
       "  [6.1, 2.6, 5.6, 1.4],\n",
       "  [5.1, 3.8, 1.5, 0.3],\n",
       "  [5.4, 3.9, 1.7, 0.4],\n",
       "  [5.1, 3.3, 1.7, 0.5],\n",
       "  [6.8, 2.8, 4.8, 1.4],\n",
       "  [5.4, 3.0, 4.5, 1.5],\n",
       "  [5.0, 2.0, 3.5, 1.0],\n",
       "  [6.3, 2.8, 5.1, 1.5],\n",
       "  [6.3, 3.4, 5.6, 2.4],\n",
       "  [5.1, 3.7, 1.5, 0.4]])"
      ]
     },
     "execution_count": 65,
     "metadata": {},
     "output_type": "execute_result"
    }
   ],
   "source": [
    "len(test_data), test_data"
   ]
  },
  {
   "cell_type": "code",
   "execution_count": 69,
   "metadata": {},
   "outputs": [
    {
     "data": {
      "text/plain": [
       "SVC(C=1.0, cache_size=200, class_weight=None, coef0=0.0,\n",
       "  decision_function_shape='ovr', degree=3, gamma='auto', kernel='rbf',\n",
       "  max_iter=-1, probability=False, random_state=None, shrinking=True,\n",
       "  tol=0.001, verbose=False)"
      ]
     },
     "execution_count": 69,
     "metadata": {},
     "output_type": "execute_result"
    }
   ],
   "source": [
    "model= svm.SVC()\n",
    "model.fit(train_data,train_label)"
   ]
  },
  {
   "cell_type": "code",
   "execution_count": 70,
   "metadata": {},
   "outputs": [
    {
     "data": {
      "text/plain": [
       "array(['Iris-versicolor', 'Iris-versicolor', 'Iris-versicolor',\n",
       "       'Iris-setosa', 'Iris-virginica', 'Iris-setosa', 'Iris-setosa',\n",
       "       'Iris-versicolor', 'Iris-setosa', 'Iris-versicolor',\n",
       "       'Iris-versicolor', 'Iris-versicolor', 'Iris-virginica',\n",
       "       'Iris-virginica', 'Iris-virginica', 'Iris-versicolor',\n",
       "       'Iris-virginica', 'Iris-virginica', 'Iris-virginica',\n",
       "       'Iris-virginica', 'Iris-versicolor', 'Iris-setosa',\n",
       "       'Iris-versicolor', 'Iris-versicolor', 'Iris-setosa', 'Iris-setosa',\n",
       "       'Iris-versicolor', 'Iris-virginica', 'Iris-virginica',\n",
       "       'Iris-setosa', 'Iris-setosa', 'Iris-setosa', 'Iris-versicolor',\n",
       "       'Iris-versicolor', 'Iris-versicolor', 'Iris-virginica',\n",
       "       'Iris-virginica', 'Iris-setosa'], dtype='<U15')"
      ]
     },
     "execution_count": 70,
     "metadata": {},
     "output_type": "execute_result"
    }
   ],
   "source": [
    "# 테스트데이터로 예측 \n",
    "pre = model.predict(test_data)\n",
    "pre"
   ]
  },
  {
   "cell_type": "code",
   "execution_count": 73,
   "metadata": {},
   "outputs": [
    {
     "data": {
      "text/plain": [
       "'1.00'"
      ]
     },
     "execution_count": 73,
     "metadata": {},
     "output_type": "execute_result"
    }
   ],
   "source": [
    "'%0.2f' % metrics.accuracy_score(test_label,pre)"
   ]
  },
  {
   "cell_type": "markdown",
   "metadata": {},
   "source": [
    "### 라이브러리 사용"
   ]
  },
  {
   "cell_type": "code",
   "execution_count": 74,
   "metadata": {},
   "outputs": [],
   "source": [
    "import pandas as pd\n",
    "from sklearn import svm, metrics\n",
    "from sklearn.model_selection import train_test_split"
   ]
  },
  {
   "cell_type": "code",
   "execution_count": 76,
   "metadata": {},
   "outputs": [
    {
     "data": {
      "text/html": [
       "<div>\n",
       "<style scoped>\n",
       "    .dataframe tbody tr th:only-of-type {\n",
       "        vertical-align: middle;\n",
       "    }\n",
       "\n",
       "    .dataframe tbody tr th {\n",
       "        vertical-align: top;\n",
       "    }\n",
       "\n",
       "    .dataframe thead th {\n",
       "        text-align: right;\n",
       "    }\n",
       "</style>\n",
       "<table border=\"1\" class=\"dataframe\">\n",
       "  <thead>\n",
       "    <tr style=\"text-align: right;\">\n",
       "      <th></th>\n",
       "      <th>SepalLength</th>\n",
       "      <th>SepalWidth</th>\n",
       "      <th>PetalLength</th>\n",
       "      <th>PetalWidth</th>\n",
       "      <th>Name</th>\n",
       "    </tr>\n",
       "  </thead>\n",
       "  <tbody>\n",
       "    <tr>\n",
       "      <th>0</th>\n",
       "      <td>5.1</td>\n",
       "      <td>3.5</td>\n",
       "      <td>1.4</td>\n",
       "      <td>0.2</td>\n",
       "      <td>Iris-setosa</td>\n",
       "    </tr>\n",
       "    <tr>\n",
       "      <th>1</th>\n",
       "      <td>4.9</td>\n",
       "      <td>3.0</td>\n",
       "      <td>1.4</td>\n",
       "      <td>0.2</td>\n",
       "      <td>Iris-setosa</td>\n",
       "    </tr>\n",
       "  </tbody>\n",
       "</table>\n",
       "</div>"
      ],
      "text/plain": [
       "   SepalLength  SepalWidth  PetalLength  PetalWidth         Name\n",
       "0          5.1         3.5          1.4         0.2  Iris-setosa\n",
       "1          4.9         3.0          1.4         0.2  Iris-setosa"
      ]
     },
     "execution_count": 76,
     "metadata": {},
     "output_type": "execute_result"
    }
   ],
   "source": [
    "# 데이터 수집\n",
    "csv = pd.read_csv('./data/iris.csv')\n",
    "csv.head(2)\n",
    "# 데이터 가공(전처리)"
   ]
  },
  {
   "cell_type": "code",
   "execution_count": 80,
   "metadata": {},
   "outputs": [],
   "source": [
    "# 특성 데이터\n",
    "csv_data=csv[csv.columns[:-1]]\n",
    "csv_data.head(2)"
   ]
  },
  {
   "cell_type": "code",
   "execution_count": 87,
   "metadata": {},
   "outputs": [
    {
     "data": {
      "text/plain": [
       "0    Iris-setosa\n",
       "1    Iris-setosa\n",
       "Name: Name, dtype: object"
      ]
     },
     "execution_count": 87,
     "metadata": {},
     "output_type": "execute_result"
    }
   ],
   "source": [
    "# 레이블\n",
    "csv_label=csv['Name']\n",
    "csv_label=csv[csv.columns[-1]]\n",
    "csv_label[:2]"
   ]
  },
  {
   "cell_type": "code",
   "execution_count": 91,
   "metadata": {},
   "outputs": [
    {
     "name": "stdout",
     "output_type": "stream",
     "text": [
      "112 38 112 38\n"
     ]
    }
   ],
   "source": [
    "a, b, c, d=train_test_split(csv_data, csv_label)\n",
    "train_data = a\n",
    "train_label = c\n",
    "test_data = b\n",
    "test_label = d\n",
    "print(len(a),len(b),len(c),len(d))"
   ]
  },
  {
   "cell_type": "code",
   "execution_count": 92,
   "metadata": {},
   "outputs": [
    {
     "data": {
      "text/plain": [
       "'1.00'"
      ]
     },
     "execution_count": 92,
     "metadata": {},
     "output_type": "execute_result"
    }
   ],
   "source": [
    "model= svm.SVC()\n",
    "model.fit(train_data,train_label)\n",
    "\n",
    "# 테스트데이터로 예측 \n",
    "pre = model.predict(test_data)\n",
    "pre\n",
    "\n",
    "'%0.2f' % metrics.accuracy_score(test_label,pre)"
   ]
  },
  {
   "cell_type": "code",
   "execution_count": null,
   "metadata": {},
   "outputs": [],
   "source": []
  }
 ],
 "metadata": {
  "kernelspec": {
   "display_name": "Python 3",
   "language": "python",
   "name": "python3"
  },
  "language_info": {
   "codemirror_mode": {
    "name": "ipython",
    "version": 3
   },
   "file_extension": ".py",
   "mimetype": "text/x-python",
   "name": "python",
   "nbconvert_exporter": "python",
   "pygments_lexer": "ipython3",
   "version": "3.6.5"
  }
 },
 "nbformat": 4,
 "nbformat_minor": 2
}
