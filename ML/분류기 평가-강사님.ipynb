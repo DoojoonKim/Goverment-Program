{
 "cells": [
  {
   "cell_type": "markdown",
   "metadata": {},
   "source": [
    "## A. 분류기 평가\n",
    "\n",
    "- 상황 (전처리후 -> 모델 선정 -> 학습 -> 평가 => 체크)\n",
    "- 분류기(모델) : 나이브베이즈, 라소회귀, 로지스틱회귀, 결정트리, 서포트백터머신,\n",
    "  앙상블분류기, 랜덤포레스트, 인공신경망등등..\n",
    "  \n",
    "1. 성능 평가 기준점  \n",
    "- 원하는것(결과, 예측) 잘 해결하는지?  \n",
    "- 원하지 않는것(빼야 할것, 걸러야할등) 잘 처리하는지?  \n",
    "> 기준점을 낮추면 -> false positive(거짓 양성) 늘어나게 된다 -> \n",
    "  예를 들면 주식 추천 서비스라면=> 매수 주식 알리게 됨  \n",
    "> 기존점을 높이면(보수적) -> false negative(거짓 음성)이 많아지게 된다 ->\n",
    "  얘를 들어 의료진단 암확인시 오판을 할수 있다  \n",
    "\n",
    "2. 분류기의 성능평가 기준 1\n",
    "- 참 양성비 (true positive rate) : Y축\n",
    ">  실제값이 참인 표본중 정답이라고 분류한 표본의 비율, 높을수록 좋다 => 최대 1.0\n",
    "- 거짓 양성비 (false positive rate) : X축 \n",
    "> 실제값이 거짓인 표본중 참으로  잘못 분류한 표본의 비율, 이상치 => 0.0\n",
    "\n",
    "\n",
    "3. 분류기의 성능평가 기준 2\n",
    "> 정밀도(precision)\n",
    "> 재현율(recall)\n",
    "> 정밀도와 재현율을 가지고 계산한 조화 평균값 F1-score"
   ]
  },
  {
   "cell_type": "markdown",
   "metadata": {},
   "source": [
    "## B. 성능 평가 방법\n",
    "\n",
    "- 혼동행렬\n",
    "- ROC 곡선\n",
    "- AUC 곡선/값\n",
    "- F1 Score\n",
    "- Lift 곡선"
   ]
  },
  {
   "cell_type": "markdown",
   "metadata": {},
   "source": [
    "### B-1 혼동행렬\n",
    "\n",
    "-> 데이터가 범주형(categorical) 변수를 예측하기위해 사용되는 지도학습법-분류\n",
    "- 이진 분류(레이블이 2개) => 분류(classification) => 지도학습\n",
    "  binary classification <-> 다중 클레스 분류(multi-class classification)\n",
    "<-> 회귀(regression) : 연속값을 예측할대, 데이터가 수치형  \n",
    "\n",
    "\n",
    "- 이진 분류기의 성능을 시각화하여 성능을 확인\n",
    "- 2 x 2 행렬\n",
    "- 예\n",
    "\n",
    "|정답| 0을 예측한 표본수 | 1을 예측한 표본수 |\n",
    "|:--:|:--:|:--:|\n",
    "| 0 | 40  |  5 |\n",
    "| 1 | 1  |  12 |\n",
    "\n",
    "- 참(답이1인에1을넣은경우) 양성비(1을 넣은비율) :  12 / (1 + 12) = 0.92 => 가장 좋은값은 1.0\n",
    "- 거짓(답이0인데1을넣는경우) 양성비(1을 넣은비율) : 5 / (40 + 5)  = 0.11 => 가장 좋은것은 0.0"
   ]
  },
  {
   "cell_type": "markdown",
   "metadata": {},
   "source": [
    "### B-2 ROC 곡선\n",
    "\n",
    "- 기준점에 따른 분류기의 성능을 시각화 하는것을 ROC 곡선\n",
    "- 거짓 양성비가 x축, 참 양성비 y축 \n",
    "- 코드로 평가 진행"
   ]
  },
  {
   "cell_type": "code",
   "execution_count": 2,
   "metadata": {},
   "outputs": [],
   "source": [
    "# 한글 처리 시각화\n",
    "import matplotlib.pyplot as plt\n",
    "# 주피터 내장\n",
    "%matplotlib inline\n",
    "# 한글처리 \n",
    "import platform\n",
    "from matplotlib import font_manager, rc\n",
    "# 한글처리\n",
    "plt.rcParams['axes.unicode_minus'] = False\n",
    "if platform.system() == 'Darwin':    # 맥\n",
    "    rc( 'font', family='AppleGothic' )\n",
    "elif platform.system() == 'Windows': # 윈도우\n",
    "    # 폰트 차후 확인\n",
    "    fontPath = 'c:/Windows/Fonts/malgun.ttf'\n",
    "    fontName = font_manager.FontProperties( fname=fontPath ).get_name()\n",
    "    rc( 'font', family=fontName )\n",
    "else:\n",
    "    print('알수없는 시스템. 미적용')"
   ]
  },
  {
   "cell_type": "code",
   "execution_count": 3,
   "metadata": {},
   "outputs": [],
   "source": [
    "import pandas as pd\n",
    "import sklearn.datasets"
   ]
  },
  {
   "cell_type": "code",
   "execution_count": 9,
   "metadata": {},
   "outputs": [
    {
     "name": "stdout",
     "output_type": "stream",
     "text": [
      "[[5.1 3.5 1.4 0.2]\n",
      " [4.9 3.  1.4 0.2]]\n",
      "['sepal length (cm)', 'sepal width (cm)', 'petal length (cm)', 'petal width (cm)']\n",
      "[0 0]\n",
      "['setosa' 'versicolor' 'virginica']\n"
     ]
    }
   ],
   "source": [
    "# 아이리스 데이터를 사용하겟다 -> 이진 데이터화 해서 처리\n",
    "ds = sklearn.datasets.load_iris()\n",
    "print ( ds['data'][:2] ) \n",
    "print ( ds['feature_names'] ) \n",
    "print ( ds['target'][:2] ) \n",
    "print ( ds['target_names'] ) "
   ]
  },
  {
   "cell_type": "code",
   "execution_count": 7,
   "metadata": {},
   "outputs": [
    {
     "data": {
      "text/html": [
       "<div>\n",
       "<style scoped>\n",
       "    .dataframe tbody tr th:only-of-type {\n",
       "        vertical-align: middle;\n",
       "    }\n",
       "\n",
       "    .dataframe tbody tr th {\n",
       "        vertical-align: top;\n",
       "    }\n",
       "\n",
       "    .dataframe thead th {\n",
       "        text-align: right;\n",
       "    }\n",
       "</style>\n",
       "<table border=\"1\" class=\"dataframe\">\n",
       "  <thead>\n",
       "    <tr style=\"text-align: right;\">\n",
       "      <th></th>\n",
       "      <th>sepal length (cm)</th>\n",
       "      <th>sepal width (cm)</th>\n",
       "      <th>petal length (cm)</th>\n",
       "      <th>petal width (cm)</th>\n",
       "    </tr>\n",
       "  </thead>\n",
       "  <tbody>\n",
       "    <tr>\n",
       "      <th>0</th>\n",
       "      <td>5.1</td>\n",
       "      <td>3.5</td>\n",
       "      <td>1.4</td>\n",
       "      <td>0.2</td>\n",
       "    </tr>\n",
       "    <tr>\n",
       "      <th>1</th>\n",
       "      <td>4.9</td>\n",
       "      <td>3.0</td>\n",
       "      <td>1.4</td>\n",
       "      <td>0.2</td>\n",
       "    </tr>\n",
       "  </tbody>\n",
       "</table>\n",
       "</div>"
      ],
      "text/plain": [
       "   sepal length (cm)  sepal width (cm)  petal length (cm)  petal width (cm)\n",
       "0                5.1               3.5                1.4               0.2\n",
       "1                4.9               3.0                1.4               0.2"
      ]
     },
     "execution_count": 7,
     "metadata": {},
     "output_type": "execute_result"
    }
   ],
   "source": [
    "df = pd.DataFrame( ds['data'], columns=ds['feature_names'] )\n",
    "df.head(2)"
   ]
  },
  {
   "cell_type": "markdown",
   "metadata": {},
   "source": [
    "#### 컬럼명 species 이름으로 정답이 0이면 setosa, 1이면 versicolor 2면 virginica 값이 들어가게\n",
    "\n",
    "   sepal length (cm)\tsepal width (cm)\tpetal length (cm)\tpetal width (cm)   species\n",
    "0\t5.1\t                   3.5\t                 1.4\t           0.2             setosa\n",
    "1\t4.9\t                   3.0\t                 1.4\t           0.2             setosa"
   ]
  },
  {
   "cell_type": "code",
   "execution_count": 12,
   "metadata": {},
   "outputs": [
    {
     "data": {
      "text/html": [
       "<div>\n",
       "<style scoped>\n",
       "    .dataframe tbody tr th:only-of-type {\n",
       "        vertical-align: middle;\n",
       "    }\n",
       "\n",
       "    .dataframe tbody tr th {\n",
       "        vertical-align: top;\n",
       "    }\n",
       "\n",
       "    .dataframe thead th {\n",
       "        text-align: right;\n",
       "    }\n",
       "</style>\n",
       "<table border=\"1\" class=\"dataframe\">\n",
       "  <thead>\n",
       "    <tr style=\"text-align: right;\">\n",
       "      <th></th>\n",
       "      <th>sepal length (cm)</th>\n",
       "      <th>sepal width (cm)</th>\n",
       "      <th>petal length (cm)</th>\n",
       "      <th>petal width (cm)</th>\n",
       "      <th>species</th>\n",
       "    </tr>\n",
       "  </thead>\n",
       "  <tbody>\n",
       "    <tr>\n",
       "      <th>0</th>\n",
       "      <td>5.1</td>\n",
       "      <td>3.5</td>\n",
       "      <td>1.4</td>\n",
       "      <td>0.2</td>\n",
       "      <td>setosa</td>\n",
       "    </tr>\n",
       "    <tr>\n",
       "      <th>1</th>\n",
       "      <td>4.9</td>\n",
       "      <td>3.0</td>\n",
       "      <td>1.4</td>\n",
       "      <td>0.2</td>\n",
       "      <td>setosa</td>\n",
       "    </tr>\n",
       "  </tbody>\n",
       "</table>\n",
       "</div>"
      ],
      "text/plain": [
       "   sepal length (cm)  sepal width (cm)  petal length (cm)  petal width (cm)  \\\n",
       "0                5.1               3.5                1.4               0.2   \n",
       "1                4.9               3.0                1.4               0.2   \n",
       "\n",
       "  species  \n",
       "0  setosa  \n",
       "1  setosa  "
      ]
     },
     "execution_count": 12,
     "metadata": {},
     "output_type": "execute_result"
    }
   ],
   "source": [
    "df['species'] = [ ds['target_names'][n] for n in ds['target'] ]\n",
    "df.head(2)"
   ]
  },
  {
   "cell_type": "markdown",
   "metadata": {},
   "source": [
    "### 4개 분류기를 사용하여 ROC 곡선을 시각화하여 어느 분류기가 성능이 좋은지 평가"
   ]
  },
  {
   "cell_type": "code",
   "execution_count": 13,
   "metadata": {},
   "outputs": [],
   "source": [
    "import sklearn\n",
    "# 성능 평가에 사용하는 측정 도구들이 들어잇는 패키지\n",
    "from sklearn.metrics import roc_curve\n",
    "# 학습 데이터와 테스트 데이터 분류 함수\n",
    "# 0.19.0\n",
    "#from sklearn.cross_valication\n",
    "# 0.20.0\n",
    "from sklearn.model_selection import train_test_split\n",
    "# 분류기 , 로지스틱회귀\n",
    "from sklearn.linear_model import LogisticRegression\n",
    "# 결정 트리 분류 \n",
    "from sklearn.tree import DecisionTreeClassifier\n",
    "# 랜덤포레스트분류\n",
    "from sklearn.ensemble import RandomForestClassifier\n",
    "# 나이브베지즈 가우시안 NB\n",
    "from sklearn.naive_bayes import GaussianNB"
   ]
  },
  {
   "cell_type": "code",
   "execution_count": 14,
   "metadata": {},
   "outputs": [],
   "source": [
    "# 분류기를 모은 딕셔너리 구성\n",
    "CLASS_DICT = {\n",
    "    # 키(분류기의이름) : ( 시각화시선의모양, 분류기 객체 )\n",
    "    '로지스틱회귀':('-',     LogisticRegression() ),\n",
    "    '결정트리분류':('--',    DecisionTreeClassifier(max_depth=5) ),\n",
    "    '랜덤포레스트분류':('.-', RandomForestClassifier(max_depth=5, \n",
    "                                                    n_estimators=10, max_features=1)),\n",
    "    '나이브베이즈':(':',     GaussianNB() )\n",
    "}"
   ]
  },
  {
   "cell_type": "code",
   "execution_count": 15,
   "metadata": {},
   "outputs": [
    {
     "data": {
      "text/html": [
       "<div>\n",
       "<style scoped>\n",
       "    .dataframe tbody tr th:only-of-type {\n",
       "        vertical-align: middle;\n",
       "    }\n",
       "\n",
       "    .dataframe tbody tr th {\n",
       "        vertical-align: top;\n",
       "    }\n",
       "\n",
       "    .dataframe thead th {\n",
       "        text-align: right;\n",
       "    }\n",
       "</style>\n",
       "<table border=\"1\" class=\"dataframe\">\n",
       "  <thead>\n",
       "    <tr style=\"text-align: right;\">\n",
       "      <th></th>\n",
       "      <th>sepal length (cm)</th>\n",
       "      <th>sepal width (cm)</th>\n",
       "      <th>petal length (cm)</th>\n",
       "      <th>petal width (cm)</th>\n",
       "      <th>species</th>\n",
       "    </tr>\n",
       "  </thead>\n",
       "  <tbody>\n",
       "    <tr>\n",
       "      <th>0</th>\n",
       "      <td>5.1</td>\n",
       "      <td>3.5</td>\n",
       "      <td>1.4</td>\n",
       "      <td>0.2</td>\n",
       "      <td>setosa</td>\n",
       "    </tr>\n",
       "    <tr>\n",
       "      <th>1</th>\n",
       "      <td>4.9</td>\n",
       "      <td>3.0</td>\n",
       "      <td>1.4</td>\n",
       "      <td>0.2</td>\n",
       "      <td>setosa</td>\n",
       "    </tr>\n",
       "  </tbody>\n",
       "</table>\n",
       "</div>"
      ],
      "text/plain": [
       "   sepal length (cm)  sepal width (cm)  petal length (cm)  petal width (cm)  \\\n",
       "0                5.1               3.5                1.4               0.2   \n",
       "1                4.9               3.0                1.4               0.2   \n",
       "\n",
       "  species  \n",
       "0  setosa  \n",
       "1  setosa  "
      ]
     },
     "execution_count": 15,
     "metadata": {},
     "output_type": "execute_result"
    }
   ],
   "source": [
    "# 데이터 2진화 \n",
    "df.head(2)"
   ]
  },
  {
   "cell_type": "code",
   "execution_count": 17,
   "metadata": {},
   "outputs": [
    {
     "data": {
      "text/html": [
       "<div>\n",
       "<style scoped>\n",
       "    .dataframe tbody tr th:only-of-type {\n",
       "        vertical-align: middle;\n",
       "    }\n",
       "\n",
       "    .dataframe tbody tr th {\n",
       "        vertical-align: top;\n",
       "    }\n",
       "\n",
       "    .dataframe thead th {\n",
       "        text-align: right;\n",
       "    }\n",
       "</style>\n",
       "<table border=\"1\" class=\"dataframe\">\n",
       "  <thead>\n",
       "    <tr style=\"text-align: right;\">\n",
       "      <th></th>\n",
       "      <th>sepal length (cm)</th>\n",
       "      <th>sepal width (cm)</th>\n",
       "      <th>petal length (cm)</th>\n",
       "      <th>petal width (cm)</th>\n",
       "    </tr>\n",
       "  </thead>\n",
       "  <tbody>\n",
       "    <tr>\n",
       "      <th>0</th>\n",
       "      <td>5.1</td>\n",
       "      <td>3.5</td>\n",
       "      <td>1.4</td>\n",
       "      <td>0.2</td>\n",
       "    </tr>\n",
       "    <tr>\n",
       "      <th>1</th>\n",
       "      <td>4.9</td>\n",
       "      <td>3.0</td>\n",
       "      <td>1.4</td>\n",
       "      <td>0.2</td>\n",
       "    </tr>\n",
       "  </tbody>\n",
       "</table>\n",
       "</div>"
      ],
      "text/plain": [
       "   sepal length (cm)  sepal width (cm)  petal length (cm)  petal width (cm)\n",
       "0                5.1               3.5                1.4               0.2\n",
       "1                4.9               3.0                1.4               0.2"
      ]
     },
     "execution_count": 17,
     "metadata": {},
     "output_type": "execute_result"
    }
   ],
   "source": [
    "X = df[ df.columns[:4] ]\n",
    "X.head(2)"
   ]
  },
  {
   "cell_type": "code",
   "execution_count": 40,
   "metadata": {},
   "outputs": [
    {
     "data": {
      "text/plain": [
       "0    False\n",
       "1    False\n",
       "Name: species, dtype: bool"
      ]
     },
     "execution_count": 40,
     "metadata": {},
     "output_type": "execute_result"
    }
   ],
   "source": [
    "Y = df['species'] ==  ds['target_names'][1]#'virginica'\n",
    "Y[:2]"
   ]
  },
  {
   "cell_type": "code",
   "execution_count": 41,
   "metadata": {},
   "outputs": [
    {
     "data": {
      "text/plain": [
       "(150, array([False,  True]))"
      ]
     },
     "execution_count": 41,
     "metadata": {},
     "output_type": "execute_result"
    }
   ],
   "source": [
    "len(X), Y.unique()"
   ]
  },
  {
   "cell_type": "code",
   "execution_count": 42,
   "metadata": {},
   "outputs": [
    {
     "name": "stdout",
     "output_type": "stream",
     "text": [
      "(30, 4) (120, 4) (30,) (120,)\n"
     ]
    }
   ],
   "source": [
    "# 훈련데이터의 개수(30) , 테스트 데이터의 개수(120)\n",
    "# 테스트가 80% 훈련이 20% \n",
    "X_train, X_test, Y_train, Y_test= train_test_split( X, Y, test_size=.8 )\n",
    "print(X_train.shape, X_test.shape, Y_train.shape, Y_test.shape)"
   ]
  },
  {
   "cell_type": "code",
   "execution_count": 43,
   "metadata": {},
   "outputs": [
    {
     "name": "stderr",
     "output_type": "stream",
     "text": [
      "C:\\ProgramData\\Anaconda3\\lib\\site-packages\\sklearn\\linear_model\\logistic.py:432: FutureWarning: Default solver will be changed to 'lbfgs' in 0.22. Specify a solver to silence this warning.\n",
      "  FutureWarning)\n"
     ]
    },
    {
     "data": {
      "image/png": "[encoded data removed]",
      "text/plain": [
       "<Figure size 720x720 with 1 Axes>"
      ]
     },
     "metadata": {},
     "output_type": "display_data"
    }
   ],
   "source": [
    "plt.figure( figsize=(10,10) )\n",
    "# 4개 분류기 학습 및 평가 및 시각화\n",
    "for mName, (lineShape, clf)  in CLASS_DICT.items():\n",
    "    #print( mName, lineShape, clf )\n",
    "    # 학습\n",
    "    clf.fit( X_train, Y_train )\n",
    "    # 예측\n",
    "    # 1) 예측값으로 예측결과 : predict()\n",
    "    # 2) 예측에 대한 확률로 예측 : predict_proba()\n",
    "    #    => 알고리즘의 신뢰수준을 확인하는데 유용한게 활용됨\n",
    "    pred = clf.predict_proba(X_test)\n",
    "    # 답안 획득\n",
    "    pre  = pd.Series( pred[:, 1] ) \n",
    "    # ROC 계산\n",
    "    # roc_curve () 함수 호출하면 3개를 리턴 (튜플)\n",
    "    # fpr : 거짓 양성비\n",
    "    # tpr : 참 양성비\n",
    "    # thresholds : 임계값, fpr, tpr을 계산할대 사용한 임계값\n",
    "    fpr, tpr, thresholds = roc_curve( Y_test, pre )\n",
    "    # 시각화 \n",
    "    label = '분류기:%s' % mName\n",
    "    plt.plot( fpr, tpr, lineShape, linewidth=5, label=label )\n",
    "\n",
    "plt.legend()\n",
    "plt.title('분류기 성능 평가를 위한 ROC 곡선 그래프')\n",
    "# 경계 구분선\n",
    "plt.plot( [0,1], [0,1], 'k--' )\n",
    "# 구간 제한\n",
    "#plt.xlim([ 0.0, 1.0 ])\n",
    "#plt.ylim([ -0.2, 1.1 ])\n",
    "# 레이블\n",
    "plt.xlabel('거짓 양성비')\n",
    "plt.ylabel('참 양성비')\n",
    "plt.show()"
   ]
  },
  {
   "cell_type": "markdown",
   "metadata": {},
   "source": [
    "** 해석 **\n",
    "- 좌측 하단 : 탐지를 못한다\n",
    "- 좌측 상단 : 완벽한 분류기\n",
    "- 우측 상단 : 모든값을 양성으로 분류\n",
    "\n",
    "#### 결론 \n",
    "- 품종이 versicolor 인경우 랜덤포레스분류가 가장 성능이 좋았다 \n",
    "- 시각적으로 판단한것은 ROC 곡선인데 만약 곡선들이 접전을 벌인다면 해석이 힘들다\n",
    "- 이런 경우 ROC 곡선을 요약하는 수치값이 필요하다. \n",
    "- ROC곡선의 하단 면적을 계산하는 방법=> AUC(area under curve)"
   ]
  },
  {
   "cell_type": "markdown",
   "metadata": {},
   "source": [
    "### B-3 AUC \n"
   ]
  },
  {
   "cell_type": "code",
   "execution_count": 45,
   "metadata": {},
   "outputs": [
    {
     "name": "stderr",
     "output_type": "stream",
     "text": [
      "C:\\ProgramData\\Anaconda3\\lib\\site-packages\\sklearn\\linear_model\\logistic.py:432: FutureWarning: Default solver will be changed to 'lbfgs' in 0.22. Specify a solver to silence this warning.\n",
      "  FutureWarning)\n"
     ]
    },
    {
     "data": {
      "image/png": "[encoded data removed]",
      "text/plain": [
       "<Figure size 720x720 with 1 Axes>"
      ]
     },
     "metadata": {},
     "output_type": "display_data"
    }
   ],
   "source": [
    "from sklearn.metrics import auc\n",
    "\n",
    "# 데이터 교체\n",
    "Y = df['species'] ==  ds['target_names'][2]#'virginica'\n",
    "X_train, X_test, Y_train, Y_test= train_test_split( X, Y, test_size=.8 )\n",
    "\n",
    "plt.figure( figsize=(10,10) )\n",
    "for mName, (lineShape, clf)  in CLASS_DICT.items():    \n",
    "    clf.fit( X_train, Y_train )    \n",
    "    pred = clf.predict_proba(X_test)    \n",
    "    pre  = pd.Series( pred[:, 1] )     \n",
    "    fpr, tpr, thresholds = roc_curve( Y_test, pre )    \n",
    "    # auc 값 계산\n",
    "    aucScore = auc( fpr, tpr )\n",
    "    label = '분류기:%s : auc=%f' % (mName, aucScore)\n",
    "    plt.plot( fpr, tpr, lineShape, linewidth=5, label=label )\n",
    "\n",
    "plt.legend()\n",
    "plt.title('분류기 성능 평가를 위한 ROC 곡선 그래프')\n",
    "plt.plot( [0,1], [0,1], 'k--' )\n",
    "plt.xlabel('거짓 양성비')\n",
    "plt.ylabel('참 양성비')\n",
    "plt.show()"
   ]
  },
  {
   "cell_type": "markdown",
   "metadata": {},
   "source": [
    "### 분류 기준값\n",
    "\n",
    "- y=1-x과 만나는점  \n",
    "> ROC곡선의 분류 기준값  \n",
    "> 참, 거짓의 표본의 정확도가 동일해지는 지점  \n",
    " \n",
    "- y=x와 평행이 되는 지점\n",
    "> 변곡점  "
   ]
  },
  {
   "cell_type": "markdown",
   "metadata": {},
   "source": [
    "### B-4 F1-score\n",
    "\n",
    "- 이진 분류기는 통상 fl score로 평가함  \n",
    "- 정밀도, 재현율의 조화 평균\n",
    "- 정밀도 : 분류기가 양성으로 판단판 표본들 중에 실제 양성 비율\n",
    "- 재현율 : 분류기가 실제로 양성으로 판단한 표본의 비율\n",
    "- 조화평균 식 : \n",
    "> F1 = 1 / ( 1/정밀도 + 1/재현율 )/2 = 2*(정밀도*재현율)/(정밀도+재현율)\n",
    "> 값의 범위는 0 ~1 사이 값을 가진다"
   ]
  },
  {
   "cell_type": "markdown",
   "metadata": {},
   "source": [
    "[ 보충 설명 ]\n",
    "- 정확도 : Accuracy\n",
    "- 정밀도 : Precision\n",
    "- 재현율 : Recall\n",
    "- F1 Score : 정밀도와 재현율의 조화 평균\n",
    "\n",
    "[ 해석 ]\n",
    "- 정확도 : 예측이 정답과 얼마나 정확한가?\n",
    "- 정밀도 : 예측한 것중에 정답의 비율은?\n",
    "- 재현율 : 찾아야 할 것중에 실제로 찾은 비율은?\n",
    "- F1 Score : 정밀도와 재현율의 평균\n",
    ">  이중에서 F1 Score 값이 높으면 성능이 높다"
   ]
  },
  {
   "cell_type": "markdown",
   "metadata": {},
   "source": [
    "### B-5 다중 클레스 분류의 평균 f1-score\n",
    "\n",
    "- 마이크로 평균\n",
    "- 매크로 평균"
   ]
  },
  {
   "cell_type": "code",
   "execution_count": 49,
   "metadata": {},
   "outputs": [
    {
     "name": "stdout",
     "output_type": "stream",
     "text": [
      "0.26666666666666666\n",
      "0.3333333333333333\n",
      "0.26666666666666666\n",
      "[0.8 0.  0. ]\n"
     ]
    }
   ],
   "source": [
    "from sklearn.metrics import f1_score\n",
    "y_data = [0, 1, 2, 0, 1, 2 ]\n",
    "y_pre  = [0, 2, 1, 0, 0, 1 ]\n",
    "[ 보충 설명 ]\n",
    "# 매크로 평균\n",
    "# 각 클레스에 대해 독립적으로(개별 비중에 관계없이) 평가하여 평균을 취함\n",
    "print( f1_score(y_data, y_pre, average='macro') )\n",
    "# 마이크로 평균\n",
    "# 각 클레스에 대해 기여도(fp, fn, tp의 총수를)를 집계하여 평균을 취함\n",
    "print( f1_score(y_data, y_pre, average='micro') )\n",
    "# 가중치 평균\n",
    "# 샘플수에 가중치를 두어서 평균을 취함 -> report에 나오는 값임\n",
    "print( f1_score(y_data, y_pre, average='weighted') )\n",
    "print( f1_score(y_data, y_pre, average=None) )\n",
    "\n",
    "# 결론 \n",
    "# 각 샘플을 동일하게 간주하면 => micro 사용\n",
    "# 각 클레스를 동일하게 간주하면 => macro 사용\n",
    "# 샘플수에 가중치를 중시하면  => weighted 사용"
   ]
  },
  {
   "cell_type": "code",
   "execution_count": null,
   "metadata": {},
   "outputs": [],
   "source": []
  },
  {
   "cell_type": "code",
   "execution_count": null,
   "metadata": {},
   "outputs": [],
   "source": []
  },
  {
   "cell_type": "code",
   "execution_count": null,
   "metadata": {},
   "outputs": [],
   "source": []
  },
  {
   "cell_type": "code",
   "execution_count": null,
   "metadata": {},
   "outputs": [],
   "source": []
  },
  {
   "cell_type": "markdown",
   "metadata": {},
   "source": []
  }
 ],
 "metadata": {
  "kernelspec": {
   "display_name": "Python 3",
   "language": "python",
   "name": "python3"
  },
  "language_info": {
   "codemirror_mode": {
    "name": "ipython",
    "version": 3
   },
   "file_extension": ".py",
   "mimetype": "text/x-python",
   "name": "python",
   "nbconvert_exporter": "python",
   "pygments_lexer": "ipython3",
   "version": "3.6.5"
  }
 },
 "nbformat": 4,
 "nbformat_minor": 2
}
