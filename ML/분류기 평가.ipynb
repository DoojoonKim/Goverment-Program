{
 "cells": [
  {
   "cell_type": "markdown",
   "metadata": {},
   "source": [
    "## A. 분류기 평가\n",
    "\n",
    "- 상황(전처리 후 -> 모델 선정 -> 학습 -> 평가 => 체크)\n",
    "- 분류기(모델) : 나이브 베이지 ,라쏘회귀, 로지스틱 회귀, 결정 트리, 서포트 벡터 머신, 앙상블 분류기, 랜덤 포레스트, 인공신경망 등등..\n",
    "\n",
    "1. 성능 평가 기준점\n",
    "- 원하는 것(결과, 예측) 잘 해결하는지?  \n",
    "- 원하지 않는 것(빼야 할것, 걸러야 할 것 등)  \n",
    "> 기준점을 낮추면 -> false positive(거짓 양성) 늘어나게 된다  \n",
    "    예를 들면 주식 추천 서비스 라면 => 매수 주식 알리게됨  \n",
    "> 기준점을 높이면(보수적) -> false negative(거짓 음성)이 많아지게 된다. =>  \n",
    "예를 들면 의료진단 암확인시 오판 할 수 있다.  \n",
    "\n",
    "2. 분류기의 성능평가 기준\n",
    "예측값, 실제값   \n",
    "true ->  실제값 1  \n",
    "positive -> 예측값 1  \n",
    "\n",
    "- 참 양성비 (true positive rate) : y 축   -> 바른 예측 \n",
    "> 실제값이 참인 표본중 정답이라고 분류한 표본의 비율    \n",
    "- 거짓 양성비 (false positive rate) : x축   -> 잘못된 예측\n",
    "> 실제값이 거짓인데 정답이라고 분류한 표본의 비율   \n",
    "\n",
    "\n",
    "3. 분류기의 성능평가 기준 2\n",
    "> 정밀도(precision)  \n",
    "> 재현율(recall)   \n",
    "> 정밀도 재현율을 가지고 계산한 조화 평균(f1 score)  \n",
    " "
   ]
  },
  {
   "cell_type": "markdown",
   "metadata": {},
   "source": [
    "## B. 성능 평가 방법\n",
    "\n",
    "- 혼동행렬\n",
    "- ROC 곡선\n",
    "- AUC 곡선/값\n",
    "- F1-Score\n",
    "- List 곡선"
   ]
  },
  {
   "cell_type": "markdown",
   "metadata": {},
   "source": [
    "### B-1 혼동행렬  \n",
    "-> 데이터가 범주형(categorical) 변수를 예측하기 위해 사용되는 지도학습법 - 분류  \n",
    "- 이진 분류(레이블이 2개) => 분류(classification) => 지도학습 =>binary classification  \n",
    "  binary classification <-> 다중 클래스 분류(multi-classification)  \n",
    "<-> 회귀(regression) : 연속값을 예측할때, 데이터가 수치형  \n",
    "\n",
    "- 이진 분류기의 성능을 시각화하여 성능 확인\n",
    "- 2 x 2 행렬\n",
    "- 예\n",
    "\n",
    "|정답|0을 예측한 표본수|  1을 예측한 표본수|\n",
    "|:--:|:--:|:--:|\n",
    "|0 | 40 | 5 |\n",
    "|1 | 1 | 12 |\n",
    "\n",
    "- 참 양성비 : 12 / (1+12) = 0.92\n",
    "- 거짓 양성비 : 5 / (40+5) = 0.11"
   ]
  },
  {
   "cell_type": "markdown",
   "metadata": {},
   "source": [
    "### B-2 ROC 곡선\n",
    "\n",
    "- 기준점에 따른 분류기의 성능을 시각화 하는 것   \n",
    "- 거짓 양성비 x축, 참 양성비 y 축  \n",
    "- 코드로 평가 진행"
   ]
  },
  {
   "cell_type": "code",
   "execution_count": 1,
   "metadata": {},
   "outputs": [],
   "source": [
    "# 한글 처리 시각화.\n",
    "import custom as  cus\n",
    "cus.matplot_hangul()\n",
    "import matplotlib.pyplot as plt"
   ]
  },
  {
   "cell_type": "code",
   "execution_count": 2,
   "metadata": {},
   "outputs": [],
   "source": [
    "import pandas as pd\n",
    "import sklearn.datasets"
   ]
  },
  {
   "cell_type": "code",
   "execution_count": 3,
   "metadata": {},
   "outputs": [
    {
     "name": "stdout",
     "output_type": "stream",
     "text": [
      "[[5.1 3.5 1.4 0.2]\n",
      " [4.9 3.  1.4 0.2]]\n",
      "['sepal length (cm)', 'sepal width (cm)']\n",
      "[0 0]\n",
      "['setosa' 'versicolor' 'virginica']\n"
     ]
    }
   ],
   "source": [
    "# 아이리스 데이터를 사용하겠다. -> 이진 데이터화 해서 처리\n",
    "ds = sklearn.datasets.load_iris()\n",
    "print(ds['data'][:2])\n",
    "print(ds['feature_names'][:2])\n",
    "print(ds['target'][:2])\n",
    "print(ds['target_names'])"
   ]
  },
  {
   "cell_type": "code",
   "execution_count": 4,
   "metadata": {},
   "outputs": [
    {
     "data": {
      "text/html": [
       "<div>\n",
       "<style scoped>\n",
       "    .dataframe tbody tr th:only-of-type {\n",
       "        vertical-align: middle;\n",
       "    }\n",
       "\n",
       "    .dataframe tbody tr th {\n",
       "        vertical-align: top;\n",
       "    }\n",
       "\n",
       "    .dataframe thead th {\n",
       "        text-align: right;\n",
       "    }\n",
       "</style>\n",
       "<table border=\"1\" class=\"dataframe\">\n",
       "  <thead>\n",
       "    <tr style=\"text-align: right;\">\n",
       "      <th></th>\n",
       "      <th>sepal length (cm)</th>\n",
       "      <th>sepal width (cm)</th>\n",
       "      <th>petal length (cm)</th>\n",
       "      <th>petal width (cm)</th>\n",
       "    </tr>\n",
       "  </thead>\n",
       "  <tbody>\n",
       "    <tr>\n",
       "      <th>0</th>\n",
       "      <td>5.1</td>\n",
       "      <td>3.5</td>\n",
       "      <td>1.4</td>\n",
       "      <td>0.2</td>\n",
       "    </tr>\n",
       "    <tr>\n",
       "      <th>1</th>\n",
       "      <td>4.9</td>\n",
       "      <td>3.0</td>\n",
       "      <td>1.4</td>\n",
       "      <td>0.2</td>\n",
       "    </tr>\n",
       "    <tr>\n",
       "      <th>2</th>\n",
       "      <td>4.7</td>\n",
       "      <td>3.2</td>\n",
       "      <td>1.3</td>\n",
       "      <td>0.2</td>\n",
       "    </tr>\n",
       "    <tr>\n",
       "      <th>3</th>\n",
       "      <td>4.6</td>\n",
       "      <td>3.1</td>\n",
       "      <td>1.5</td>\n",
       "      <td>0.2</td>\n",
       "    </tr>\n",
       "    <tr>\n",
       "      <th>4</th>\n",
       "      <td>5.0</td>\n",
       "      <td>3.6</td>\n",
       "      <td>1.4</td>\n",
       "      <td>0.2</td>\n",
       "    </tr>\n",
       "  </tbody>\n",
       "</table>\n",
       "</div>"
      ],
      "text/plain": [
       "   sepal length (cm)  sepal width (cm)  petal length (cm)  petal width (cm)\n",
       "0                5.1               3.5                1.4               0.2\n",
       "1                4.9               3.0                1.4               0.2\n",
       "2                4.7               3.2                1.3               0.2\n",
       "3                4.6               3.1                1.5               0.2\n",
       "4                5.0               3.6                1.4               0.2"
      ]
     },
     "execution_count": 4,
     "metadata": {},
     "output_type": "execute_result"
    }
   ],
   "source": [
    "df = pd.DataFrame(ds['data'],columns=ds['feature_names'])\n",
    "df.head()"
   ]
  },
  {
   "cell_type": "code",
   "execution_count": 5,
   "metadata": {},
   "outputs": [
    {
     "data": {
      "text/plain": [
       "array([0, 0, 0, 0, 0, 0, 0, 0, 0, 0, 0, 0, 0, 0, 0, 0, 0, 0, 0, 0, 0, 0,\n",
       "       0, 0, 0, 0, 0, 0, 0, 0, 0, 0, 0, 0, 0, 0, 0, 0, 0, 0, 0, 0, 0, 0,\n",
       "       0, 0, 0, 0, 0, 0, 1, 1, 1, 1, 1, 1, 1, 1, 1, 1, 1, 1, 1, 1, 1, 1,\n",
       "       1, 1, 1, 1, 1, 1, 1, 1, 1, 1, 1, 1, 1, 1, 1, 1, 1, 1, 1, 1, 1, 1,\n",
       "       1, 1, 1, 1, 1, 1, 1, 1, 1, 1, 1, 1, 2, 2, 2, 2, 2, 2, 2, 2, 2, 2,\n",
       "       2, 2, 2, 2, 2, 2, 2, 2, 2, 2, 2, 2, 2, 2, 2, 2, 2, 2, 2, 2, 2, 2,\n",
       "       2, 2, 2, 2, 2, 2, 2, 2, 2, 2, 2, 2, 2, 2, 2, 2, 2, 2])"
      ]
     },
     "execution_count": 5,
     "metadata": {},
     "output_type": "execute_result"
    }
   ],
   "source": [
    "# 컬럼명 Species 이름으로 정답이 0이면 setosa, 1이면 versicolor 2면 aus virginica 값이 들어가기\n",
    "ds['target']"
   ]
  },
  {
   "cell_type": "code",
   "execution_count": 6,
   "metadata": {},
   "outputs": [],
   "source": [
    "# 내 쓰레기 코드\n",
    "# labels = []\n",
    "# for target in ds['target']:\n",
    "#     if target == 0:\n",
    "#         labels.append('setosa')\n",
    "#     elif target == 1:\n",
    "#         labels.append('versicolor')\n",
    "#     else:\n",
    "#         labels.append('aus virginica')\n",
    "\n",
    "# df_label = pd.concat([df,pd.Series(labels,name='species')],axis=1)\n",
    "# df_label.head()\n"
   ]
  },
  {
   "cell_type": "code",
   "execution_count": 7,
   "metadata": {},
   "outputs": [],
   "source": [
    "df['species']= [ds['target_names'][n] for n in ds['target']]"
   ]
  },
  {
   "cell_type": "code",
   "execution_count": 8,
   "metadata": {},
   "outputs": [
    {
     "data": {
      "text/html": [
       "<div>\n",
       "<style scoped>\n",
       "    .dataframe tbody tr th:only-of-type {\n",
       "        vertical-align: middle;\n",
       "    }\n",
       "\n",
       "    .dataframe tbody tr th {\n",
       "        vertical-align: top;\n",
       "    }\n",
       "\n",
       "    .dataframe thead th {\n",
       "        text-align: right;\n",
       "    }\n",
       "</style>\n",
       "<table border=\"1\" class=\"dataframe\">\n",
       "  <thead>\n",
       "    <tr style=\"text-align: right;\">\n",
       "      <th></th>\n",
       "      <th>sepal length (cm)</th>\n",
       "      <th>sepal width (cm)</th>\n",
       "      <th>petal length (cm)</th>\n",
       "      <th>petal width (cm)</th>\n",
       "      <th>species</th>\n",
       "    </tr>\n",
       "  </thead>\n",
       "  <tbody>\n",
       "    <tr>\n",
       "      <th>0</th>\n",
       "      <td>5.1</td>\n",
       "      <td>3.5</td>\n",
       "      <td>1.4</td>\n",
       "      <td>0.2</td>\n",
       "      <td>setosa</td>\n",
       "    </tr>\n",
       "    <tr>\n",
       "      <th>1</th>\n",
       "      <td>4.9</td>\n",
       "      <td>3.0</td>\n",
       "      <td>1.4</td>\n",
       "      <td>0.2</td>\n",
       "      <td>setosa</td>\n",
       "    </tr>\n",
       "    <tr>\n",
       "      <th>2</th>\n",
       "      <td>4.7</td>\n",
       "      <td>3.2</td>\n",
       "      <td>1.3</td>\n",
       "      <td>0.2</td>\n",
       "      <td>setosa</td>\n",
       "    </tr>\n",
       "    <tr>\n",
       "      <th>3</th>\n",
       "      <td>4.6</td>\n",
       "      <td>3.1</td>\n",
       "      <td>1.5</td>\n",
       "      <td>0.2</td>\n",
       "      <td>setosa</td>\n",
       "    </tr>\n",
       "    <tr>\n",
       "      <th>4</th>\n",
       "      <td>5.0</td>\n",
       "      <td>3.6</td>\n",
       "      <td>1.4</td>\n",
       "      <td>0.2</td>\n",
       "      <td>setosa</td>\n",
       "    </tr>\n",
       "  </tbody>\n",
       "</table>\n",
       "</div>"
      ],
      "text/plain": [
       "   sepal length (cm)  sepal width (cm)  petal length (cm)  petal width (cm)  \\\n",
       "0                5.1               3.5                1.4               0.2   \n",
       "1                4.9               3.0                1.4               0.2   \n",
       "2                4.7               3.2                1.3               0.2   \n",
       "3                4.6               3.1                1.5               0.2   \n",
       "4                5.0               3.6                1.4               0.2   \n",
       "\n",
       "  species  \n",
       "0  setosa  \n",
       "1  setosa  \n",
       "2  setosa  \n",
       "3  setosa  \n",
       "4  setosa  "
      ]
     },
     "execution_count": 8,
     "metadata": {},
     "output_type": "execute_result"
    }
   ],
   "source": [
    "df.head()"
   ]
  },
  {
   "cell_type": "markdown",
   "metadata": {},
   "source": [
    "### 4개 분류기 사용하여 ROC 곡선을 시각화하여 어느 분류기가 성능이 좋은지 평가"
   ]
  },
  {
   "cell_type": "code",
   "execution_count": 9,
   "metadata": {},
   "outputs": [],
   "source": [
    "import sklearn\n",
    "# metrics 성능평가에 사용하는 도구들이 들어있음.\n",
    "from sklearn.metrics import roc_curve\n",
    "# 학습 데이터와 테스트 데이터를 분류 함수\n",
    "#from sklearn.cross_validation \n",
    "# 0.20.0 version\n",
    "from sklearn.model_selection import train_test_split\n",
    "# 분류기, 로지스틱 회귀\n",
    "from sklearn.linear_model import LogisticRegression\n",
    "# 결정 트리 분류\n",
    "from sklearn.tree import DecisionTreeClassifier\n",
    "# 랜덤포레스트 분류\n",
    "from sklearn.ensemble import RandomForestClassifier\n",
    "# 나이브베이즈 가우시안\n",
    "from sklearn.naive_bayes import GaussianNB"
   ]
  },
  {
   "cell_type": "code",
   "execution_count": 10,
   "metadata": {},
   "outputs": [],
   "source": [
    "# 분류기를 모은 dictionary\n",
    "CLASS_DICT = {\n",
    "    # 키(분류기의 이름) : (시각화 선의 모양, 분류기 객체 )\n",
    "    '로지스틱회귀':('-', LogisticRegression()),\n",
    "    '결정트리분류':('--', DecisionTreeClassifier(max_depth=5) ),\n",
    "    '랜덤포레스트':('.-', RandomForestClassifier(max_depth=5, n_estimators = 10, max_features=1 )),\n",
    "    '나이브베이즈':(':', GaussianNB() )        \n",
    "}"
   ]
  },
  {
   "cell_type": "code",
   "execution_count": 11,
   "metadata": {},
   "outputs": [],
   "source": [
    "df.head()\n",
    "X = df.iloc[:,:4]\n",
    "Y = df.iloc[:,4]\n"
   ]
  },
  {
   "cell_type": "code",
   "execution_count": 12,
   "metadata": {},
   "outputs": [],
   "source": [
    "# 이진화 작업이 필요하다. roc_curve is not support multiple classification \n",
    "#Y = [label =='versicolor' for label in Y]\n",
    "Y = [label =='virginica' for label in Y]"
   ]
  },
  {
   "cell_type": "code",
   "execution_count": 13,
   "metadata": {},
   "outputs": [],
   "source": [
    "X_train, X_test,Y_train, Y_test = train_test_split(X,Y)"
   ]
  },
  {
   "cell_type": "code",
   "execution_count": 14,
   "metadata": {},
   "outputs": [],
   "source": [
    "# for label,pack in CLASS_DICT.items():\n",
    "#     ####목표 roc 커브 그리기\n",
    "    \n",
    "#     line_shape = pack[0]\n",
    "#     model = pack[1]\n",
    "    \n",
    "#     model.fit(X_train,Y_train)\n",
    "#     pre = model.predict(X_test) #  1\n",
    "#     # 확률을 계산한 이유는 roc를 계산하기 위해서 일 것이다.\n",
    "    \n",
    "#     fpr, tpr, thresholds = roc_curve( Y_test, pre )# it's error. roc_curve does not support multiple classification    \n",
    "    \n",
    "#     aucScore = auc(fpr, tpr)\n",
    "#     labels = '분류기:%s auc=%r' % (label,aucScore)  \n",
    "#     plt.plot(fpr, tpr, line_shape, linewidth=5, label=labels)#label=a[0]  \n",
    "#     plt.legend()\n",
    "   \n",
    "# #     print(a)\n",
    "# #     clf = a[2]\n",
    "# #     pre = \n",
    "# #     fpr, tpr, thresholds = roc_curve( Y_test, pre )\n",
    "# #     plt.plot(fpr, tpr, lineShape, linewidth=5, label=labels)#label=a[0]    "
   ]
  },
  {
   "cell_type": "code",
   "execution_count": null,
   "metadata": {},
   "outputs": [],
   "source": []
  },
  {
   "cell_type": "code",
   "execution_count": 26,
   "metadata": {},
   "outputs": [
    {
     "data": {
      "text/plain": [
       "58      True\n",
       "120    False\n",
       "30     False\n",
       "60      True\n",
       "53      True\n",
       "3      False\n",
       "140    False\n",
       "129    False\n",
       "35     False\n",
       "36     False\n",
       "73      True\n",
       "138    False\n",
       "54      True\n",
       "9      False\n",
       "89      True\n",
       "39     False\n",
       "20     False\n",
       "119    False\n",
       "47     False\n",
       "132    False\n",
       "97      True\n",
       "121    False\n",
       "71      True\n",
       "116    False\n",
       "37     False\n",
       "78      True\n",
       "80      True\n",
       "90      True\n",
       "61      True\n",
       "83      True\n",
       "       ...  \n",
       "94      True\n",
       "142    False\n",
       "38     False\n",
       "26     False\n",
       "145    False\n",
       "96      True\n",
       "105    False\n",
       "95      True\n",
       "28     False\n",
       "82      True\n",
       "114    False\n",
       "64      True\n",
       "101    False\n",
       "81      True\n",
       "88      True\n",
       "10     False\n",
       "5      False\n",
       "66      True\n",
       "29     False\n",
       "62      True\n",
       "7      False\n",
       "118    False\n",
       "33     False\n",
       "110    False\n",
       "144    False\n",
       "133    False\n",
       "25     False\n",
       "16     False\n",
       "6      False\n",
       "77      True\n",
       "Name: species, Length: 120, dtype: bool"
      ]
     },
     "execution_count": 26,
     "metadata": {},
     "output_type": "execute_result"
    }
   ],
   "source": [
    "Y_test"
   ]
  },
  {
   "cell_type": "code",
   "execution_count": 15,
   "metadata": {},
   "outputs": [
    {
     "data": {
      "text/html": [
       "<div>\n",
       "<style scoped>\n",
       "    .dataframe tbody tr th:only-of-type {\n",
       "        vertical-align: middle;\n",
       "    }\n",
       "\n",
       "    .dataframe tbody tr th {\n",
       "        vertical-align: top;\n",
       "    }\n",
       "\n",
       "    .dataframe thead th {\n",
       "        text-align: right;\n",
       "    }\n",
       "</style>\n",
       "<table border=\"1\" class=\"dataframe\">\n",
       "  <thead>\n",
       "    <tr style=\"text-align: right;\">\n",
       "      <th></th>\n",
       "      <th>sepal length (cm)</th>\n",
       "      <th>sepal width (cm)</th>\n",
       "      <th>petal length (cm)</th>\n",
       "      <th>petal width (cm)</th>\n",
       "      <th>species</th>\n",
       "    </tr>\n",
       "  </thead>\n",
       "  <tbody>\n",
       "    <tr>\n",
       "      <th>0</th>\n",
       "      <td>5.1</td>\n",
       "      <td>3.5</td>\n",
       "      <td>1.4</td>\n",
       "      <td>0.2</td>\n",
       "      <td>setosa</td>\n",
       "    </tr>\n",
       "    <tr>\n",
       "      <th>1</th>\n",
       "      <td>4.9</td>\n",
       "      <td>3.0</td>\n",
       "      <td>1.4</td>\n",
       "      <td>0.2</td>\n",
       "      <td>setosa</td>\n",
       "    </tr>\n",
       "  </tbody>\n",
       "</table>\n",
       "</div>"
      ],
      "text/plain": [
       "   sepal length (cm)  sepal width (cm)  petal length (cm)  petal width (cm)  \\\n",
       "0                5.1               3.5                1.4               0.2   \n",
       "1                4.9               3.0                1.4               0.2   \n",
       "\n",
       "  species  \n",
       "0  setosa  \n",
       "1  setosa  "
      ]
     },
     "execution_count": 15,
     "metadata": {},
     "output_type": "execute_result"
    }
   ],
   "source": [
    "# 데이터 이진화\n",
    "df.head(2)"
   ]
  },
  {
   "cell_type": "code",
   "execution_count": 16,
   "metadata": {},
   "outputs": [
    {
     "data": {
      "text/html": [
       "<div>\n",
       "<style scoped>\n",
       "    .dataframe tbody tr th:only-of-type {\n",
       "        vertical-align: middle;\n",
       "    }\n",
       "\n",
       "    .dataframe tbody tr th {\n",
       "        vertical-align: top;\n",
       "    }\n",
       "\n",
       "    .dataframe thead th {\n",
       "        text-align: right;\n",
       "    }\n",
       "</style>\n",
       "<table border=\"1\" class=\"dataframe\">\n",
       "  <thead>\n",
       "    <tr style=\"text-align: right;\">\n",
       "      <th></th>\n",
       "      <th>sepal length (cm)</th>\n",
       "      <th>sepal width (cm)</th>\n",
       "      <th>petal length (cm)</th>\n",
       "      <th>petal width (cm)</th>\n",
       "    </tr>\n",
       "  </thead>\n",
       "  <tbody>\n",
       "    <tr>\n",
       "      <th>0</th>\n",
       "      <td>5.1</td>\n",
       "      <td>3.5</td>\n",
       "      <td>1.4</td>\n",
       "      <td>0.2</td>\n",
       "    </tr>\n",
       "    <tr>\n",
       "      <th>1</th>\n",
       "      <td>4.9</td>\n",
       "      <td>3.0</td>\n",
       "      <td>1.4</td>\n",
       "      <td>0.2</td>\n",
       "    </tr>\n",
       "    <tr>\n",
       "      <th>2</th>\n",
       "      <td>4.7</td>\n",
       "      <td>3.2</td>\n",
       "      <td>1.3</td>\n",
       "      <td>0.2</td>\n",
       "    </tr>\n",
       "    <tr>\n",
       "      <th>3</th>\n",
       "      <td>4.6</td>\n",
       "      <td>3.1</td>\n",
       "      <td>1.5</td>\n",
       "      <td>0.2</td>\n",
       "    </tr>\n",
       "    <tr>\n",
       "      <th>4</th>\n",
       "      <td>5.0</td>\n",
       "      <td>3.6</td>\n",
       "      <td>1.4</td>\n",
       "      <td>0.2</td>\n",
       "    </tr>\n",
       "  </tbody>\n",
       "</table>\n",
       "</div>"
      ],
      "text/plain": [
       "   sepal length (cm)  sepal width (cm)  petal length (cm)  petal width (cm)\n",
       "0                5.1               3.5                1.4               0.2\n",
       "1                4.9               3.0                1.4               0.2\n",
       "2                4.7               3.2                1.3               0.2\n",
       "3                4.6               3.1                1.5               0.2\n",
       "4                5.0               3.6                1.4               0.2"
      ]
     },
     "execution_count": 16,
     "metadata": {},
     "output_type": "execute_result"
    }
   ],
   "source": [
    "X = df[ df.columns[:4] ]\n",
    "X.head()"
   ]
  },
  {
   "cell_type": "code",
   "execution_count": 17,
   "metadata": {},
   "outputs": [
    {
     "data": {
      "text/plain": [
       "0    False\n",
       "1    False\n",
       "Name: species, dtype: bool"
      ]
     },
     "execution_count": 17,
     "metadata": {},
     "output_type": "execute_result"
    }
   ],
   "source": [
    "Y = df['species'] == 'versicolor'  # Series\n",
    "Y[:2]"
   ]
  },
  {
   "cell_type": "code",
   "execution_count": 18,
   "metadata": {},
   "outputs": [
    {
     "data": {
      "text/plain": [
       "(150, array([False,  True]))"
      ]
     },
     "execution_count": 18,
     "metadata": {},
     "output_type": "execute_result"
    }
   ],
   "source": [
    "len(X), Y.unique()"
   ]
  },
  {
   "cell_type": "code",
   "execution_count": 19,
   "metadata": {},
   "outputs": [],
   "source": [
    "X_train, X_test, Y_train, Y_test = train_test_split(X, Y, test_size=.8 )"
   ]
  },
  {
   "cell_type": "code",
   "execution_count": 20,
   "metadata": {},
   "outputs": [
    {
     "name": "stdout",
     "output_type": "stream",
     "text": [
      "(30, 4) (120, 4) (30,) (120,) <class 'pandas.core.series.Series'>\n"
     ]
    }
   ],
   "source": [
    "print(X_train.shape, X_test.shape, Y_train.shape, Y_test.shape,type(Y_test))"
   ]
  },
  {
   "cell_type": "code",
   "execution_count": 21,
   "metadata": {},
   "outputs": [
    {
     "name": "stdout",
     "output_type": "stream",
     "text": [
      "로지스틱회귀\n",
      "결정트리분류\n",
      "랜덤포레스트\n",
      "나이브베이즈\n"
     ]
    }
   ],
   "source": [
    "# 4ㄱ ㅐ분류기 학습 및 시각화\n",
    "for model in CLASS_DICT:\n",
    "    print(model)#키만 나옴"
   ]
  },
  {
   "cell_type": "code",
   "execution_count": 22,
   "metadata": {},
   "outputs": [
    {
     "name": "stdout",
     "output_type": "stream",
     "text": [
      "로지스틱회귀 ('-', LogisticRegression(C=1.0, class_weight=None, dual=False, fit_intercept=True,\n",
      "          intercept_scaling=1, max_iter=100, multi_class='ovr', n_jobs=1,\n",
      "          penalty='l2', random_state=None, solver='liblinear', tol=0.0001,\n",
      "          verbose=0, warm_start=False))\n",
      "0      0.398580\n",
      "1      0.306272\n",
      "2      0.231097\n",
      "3      0.460837\n",
      "4      0.421640\n",
      "5      0.218485\n",
      "6      0.298342\n",
      "7      0.448629\n",
      "8      0.208053\n",
      "9      0.190710\n",
      "10     0.407891\n",
      "11     0.302027\n",
      "12     0.389355\n",
      "13     0.239898\n",
      "14     0.381162\n",
      "15     0.196589\n",
      "16     0.216377\n",
      "17     0.508552\n",
      "18     0.200474\n",
      "19     0.360057\n",
      "20     0.358774\n",
      "21     0.301691\n",
      "22     0.355734\n",
      "23     0.366724\n",
      "24     0.239898\n",
      "25     0.336602\n",
      "26     0.413286\n",
      "27     0.396213\n",
      "28     0.297279\n",
      "29     0.398386\n",
      "         ...   \n",
      "90     0.358886\n",
      "91     0.352390\n",
      "92     0.216336\n",
      "93     0.181511\n",
      "94     0.305859\n",
      "95     0.326326\n",
      "96     0.459652\n",
      "97     0.318725\n",
      "98     0.196493\n",
      "99     0.364369\n",
      "100    0.280831\n",
      "101    0.289877\n",
      "102    0.352390\n",
      "103    0.419353\n",
      "104    0.297842\n",
      "105    0.169548\n",
      "106    0.140959\n",
      "107    0.297660\n",
      "108    0.212429\n",
      "109    0.509093\n",
      "110    0.192838\n",
      "111    0.543374\n",
      "112    0.118065\n",
      "113    0.286589\n",
      "114    0.259466\n",
      "115    0.407284\n",
      "116    0.255405\n",
      "117    0.129489\n",
      "118    0.167784\n",
      "119    0.360865\n",
      "Length: 120, dtype: float64\n",
      "thresholds: [1.54337426 0.54337426 0.52617442 0.50909299 0.49914907 0.48984955\n",
      " 0.47943412 0.46083663 0.44862881 0.41935304 0.41462483 0.40789139\n",
      " 0.40728399 0.3893553  0.38862193 0.38116215 0.38099539 0.36968189\n",
      " 0.36672425 0.36086467 0.36005729 0.35573419 0.35239029 0.34197412\n",
      " 0.33660217 0.32679712 0.31872506 0.31164008 0.31023822 0.29834244\n",
      " 0.29727909 0.29306984 0.28775449 0.28083145 0.28003658 0.24649224\n",
      " 0.24059634 0.23989833 0.11806499]\n",
      "결정트리분류 ('--', DecisionTreeClassifier(class_weight=None, criterion='gini', max_depth=5,\n",
      "            max_features=None, max_leaf_nodes=None,\n",
      "            min_impurity_decrease=0.0, min_impurity_split=None,\n",
      "            min_samples_leaf=1, min_samples_split=2,\n",
      "            min_weight_fraction_leaf=0.0, presort=False, random_state=None,\n",
      "            splitter='best'))\n",
      "0      1.0\n",
      "1      0.0\n",
      "2      0.0\n",
      "3      0.0\n",
      "4      0.0\n",
      "5      0.0\n",
      "6      0.0\n",
      "7      1.0\n",
      "8      0.0\n",
      "9      0.0\n",
      "10     1.0\n",
      "11     1.0\n",
      "12     1.0\n",
      "13     0.0\n",
      "14     0.0\n",
      "15     0.0\n",
      "16     0.0\n",
      "17     1.0\n",
      "18     0.0\n",
      "19     0.0\n",
      "20     1.0\n",
      "21     0.0\n",
      "22     1.0\n",
      "23     0.0\n",
      "24     0.0\n",
      "25     1.0\n",
      "26     0.0\n",
      "27     0.0\n",
      "28     1.0\n",
      "29     1.0\n",
      "      ... \n",
      "90     1.0\n",
      "91     0.0\n",
      "92     0.0\n",
      "93     0.0\n",
      "94     0.0\n",
      "95     1.0\n",
      "96     0.0\n",
      "97     1.0\n",
      "98     0.0\n",
      "99     1.0\n",
      "100    0.0\n",
      "101    1.0\n",
      "102    0.0\n",
      "103    0.0\n",
      "104    1.0\n",
      "105    0.0\n",
      "106    0.0\n",
      "107    1.0\n",
      "108    0.0\n",
      "109    1.0\n",
      "110    0.0\n",
      "111    0.0\n",
      "112    0.0\n",
      "113    0.0\n",
      "114    0.0\n",
      "115    1.0\n",
      "116    0.0\n",
      "117    0.0\n",
      "118    0.0\n",
      "119    0.0\n",
      "Length: 120, dtype: float64\n",
      "thresholds: [2. 1. 0.]\n",
      "랜덤포레스트 ('.-', RandomForestClassifier(bootstrap=True, class_weight=None, criterion='gini',\n",
      "            max_depth=5, max_features=1, max_leaf_nodes=None,\n",
      "            min_impurity_decrease=0.0, min_impurity_split=None,\n",
      "            min_samples_leaf=1, min_samples_split=2,\n",
      "            min_weight_fraction_leaf=0.0, n_estimators=10, n_jobs=1,\n",
      "            oob_score=False, random_state=None, verbose=0,\n",
      "            warm_start=False))\n",
      "0      0.85\n",
      "1      0.00\n",
      "2      0.10\n",
      "3      0.50\n",
      "4      0.80\n",
      "5      0.10\n",
      "6      0.00\n",
      "7      0.30\n",
      "8      0.10\n",
      "9      0.05\n",
      "10     0.75\n",
      "11     0.65\n",
      "12     0.75\n",
      "13     0.10\n",
      "14     0.80\n",
      "15     0.00\n",
      "16     0.05\n",
      "17     0.70\n",
      "18     0.10\n",
      "19     0.00\n",
      "20     0.85\n",
      "21     0.25\n",
      "22     0.75\n",
      "23     0.00\n",
      "24     0.10\n",
      "25     0.95\n",
      "26     0.80\n",
      "27     0.80\n",
      "28     0.95\n",
      "29     0.40\n",
      "       ... \n",
      "90     0.70\n",
      "91     0.10\n",
      "92     0.00\n",
      "93     0.00\n",
      "94     0.00\n",
      "95     0.85\n",
      "96     0.00\n",
      "97     0.85\n",
      "98     0.00\n",
      "99     0.70\n",
      "100    0.10\n",
      "101    0.85\n",
      "102    0.10\n",
      "103    0.80\n",
      "104    0.85\n",
      "105    0.05\n",
      "106    0.05\n",
      "107    0.85\n",
      "108    0.10\n",
      "109    0.90\n",
      "110    0.00\n",
      "111    0.20\n",
      "112    0.05\n",
      "113    0.15\n",
      "114    0.00\n",
      "115    0.40\n",
      "116    0.00\n",
      "117    0.05\n",
      "118    0.00\n",
      "119    0.25\n",
      "Length: 120, dtype: float64\n",
      "thresholds: [0.95 0.9  0.85 0.8  0.75 0.7  0.65 0.55 0.5  0.45 0.4  0.3  0.25 0.2\n",
      " 0.15 0.1  0.05 0.  ]\n",
      "나이브베이즈 (':', GaussianNB(priors=None))\n",
      "0      9.792806e-01\n",
      "1      1.208175e-07\n",
      "2      2.048932e-30\n",
      "3      1.740334e-05\n",
      "4      5.452304e-01\n",
      "5      1.844259e-32\n",
      "6      5.921196e-08\n",
      "7      1.061542e-03\n",
      "8      2.180203e-35\n",
      "9      1.819651e-33\n",
      "10     9.668154e-01\n",
      "11     8.411011e-01\n",
      "12     9.869080e-01\n",
      "13     4.211126e-33\n",
      "14     7.139936e-01\n",
      "15     2.248894e-31\n",
      "16     4.352284e-28\n",
      "17     8.052143e-01\n",
      "18     5.799997e-34\n",
      "19     2.981137e-05\n",
      "20     9.809039e-01\n",
      "21     8.989098e-02\n",
      "22     9.457239e-01\n",
      "23     5.652215e-02\n",
      "24     4.211126e-33\n",
      "25     9.852884e-01\n",
      "26     1.080146e-01\n",
      "27     8.564050e-01\n",
      "28     9.671623e-01\n",
      "29     8.930113e-01\n",
      "           ...     \n",
      "90     9.225633e-01\n",
      "91     2.412922e-01\n",
      "92     6.441802e-36\n",
      "93     2.566753e-27\n",
      "94     4.754570e-05\n",
      "95     9.413496e-01\n",
      "96     1.896967e-13\n",
      "97     8.828855e-01\n",
      "98     1.879929e-32\n",
      "99     7.575886e-01\n",
      "100    6.011216e-06\n",
      "101    2.231464e-01\n",
      "102    2.412922e-01\n",
      "103    1.665224e-02\n",
      "104    8.703041e-01\n",
      "105    1.261162e-31\n",
      "106    6.913419e-27\n",
      "107    9.519800e-01\n",
      "108    6.206992e-31\n",
      "109    1.724333e-01\n",
      "110    1.152692e-31\n",
      "111    1.011694e-18\n",
      "112    2.965181e-35\n",
      "113    4.537566e-02\n",
      "114    3.656634e-10\n",
      "115    9.370987e-01\n",
      "116    1.197155e-29\n",
      "117    3.543700e-32\n",
      "118    8.151856e-33\n",
      "119    8.273493e-01\n",
      "Length: 120, dtype: float64\n",
      "thresholds: [9.86908019e-01 9.41349628e-01 9.37098710e-01 8.93011322e-01\n",
      " 8.91476282e-01 8.56405044e-01 8.41101090e-01 8.27349265e-01\n",
      " 8.05214299e-01 5.16749096e-01 4.24645807e-01 3.67754047e-01\n",
      " 2.41292215e-01 1.72433288e-01 1.42898851e-01 1.08014643e-01\n",
      " 2.71357462e-02 9.62889970e-03 1.83485226e-05 1.74033394e-05\n",
      " 1.41956878e-05 8.49906129e-06 6.01121576e-06 2.53678770e-06\n",
      " 5.28124527e-33 4.21112599e-33 5.26103793e-41]\n"
     ]
    },
    {
     "data": {
      "image/png": "[encoded data removed]",
      "text/plain": [
       "<Figure size 432x288 with 1 Axes>"
      ]
     },
     "metadata": {},
     "output_type": "display_data"
    }
   ],
   "source": [
    "#plt.figure(figsize=(16,16))\n",
    "#4개 분류기 학습 및 평가 및 시각화\n",
    "for mName,(lineShape, clf) in CLASS_DICT.items():    \n",
    "    print(mName,(lineShape, clf))\n",
    "    # 학습\n",
    "    clf.fit(X_train,Y_train)\n",
    "    # 1) 예측값으로 예측 결과 : predict()\n",
    "    # 2) 예측에 대한 확률 : predict_proba() \n",
    "    # -> 알고리즘의 신뢰수준을 확인\n",
    "    pre = clf.predict_proba(X_test)   \n",
    "    # 답안 획득    \n",
    "  \n",
    "    pre = pd.Series(pre[:,1])    \n",
    "    print(pre)\n",
    "    # ROC 계산\n",
    "    # roc_curve : \n",
    "    #fpr : 거짓 양성비\n",
    "    #tpr : 참 양성비\n",
    "    #thresholds : fpr, tpr을 계산할때 사용한 임계값(?) - 의미도 이해가 안가고 왜 받았는지도 이해 못함.\n",
    "    fpr, tpr, thresholds = roc_curve( Y_test, pre )\n",
    "    labels = '분류기:%s' % mName\n",
    "    # 시각화\n",
    "    print('thresholds:',thresholds)\n",
    "    plt.plot(fpr, tpr, lineShape, linewidth=5, label=labels)\n",
    "plt.legend()\n",
    "plt.title('분류기 성능 평가를 위한 ROC 곡선 그래프')\n",
    "# 경계 구분선\n",
    "plt.plot([0,1],[0,1], 'k--')# 대각선 점선\n",
    "plt.show()"
   ]
  },
  {
   "cell_type": "markdown",
   "metadata": {},
   "source": [
    "**해석**\n",
    "- 좌측 하단 : 탐지를 못한다.\n",
    "- 좌측 상단 :완벽한 분류기 \n",
    "- 우측 상단 : 모든 값을 양성으로 분류\n",
    "\n",
    "### 결론\n",
    "- 품종이 versicolor인 경우 random forest classifier 가 성능이 좋았다.\n",
    "- 시각적으로 판단한 것은 ROC 곡선, 만약 곡선들이 접전을 벌인다면 해석이 힘들다\n",
    "- 이런 경우 ROC 곡선을 요약하는 수치값이 필요하다. \n",
    "- ROC 곡선의 하단 면적을 계산하는 방법 =>AUC( area under curve)"
   ]
  },
  {
   "cell_type": "markdown",
   "metadata": {},
   "source": [
    "### B-3 AUC"
   ]
  },
  {
   "cell_type": "code",
   "execution_count": 23,
   "metadata": {},
   "outputs": [
    {
     "data": {
      "image/png": "[encoded data removed]",
      "text/plain": [
       "<Figure size 432x288 with 1 Axes>"
      ]
     },
     "metadata": {},
     "output_type": "display_data"
    }
   ],
   "source": [
    "from sklearn.metrics import auc \n",
    "# 벌써부터 근육 걱정 하는 사람이랑 다를 바가 없다.\n",
    "for mName,(lineShape, clf) in CLASS_DICT.items(): \n",
    "    clf.fit(X_train,Y_train)  \n",
    "    pred = clf.predict_proba(X_test)\n",
    "    pre = pd.Series(pred[:,1]) \n",
    "    fpr, tpr, thresholds = roc_curve( Y_test, pre )\n",
    "    #auc 값 계산\n",
    "    aucScore = auc(fpr, tpr)\n",
    "    label = '분류기:%s auc=%r' % (mName,aucScore)    \n",
    "    plt.plot(fpr, tpr, lineShape, linewidth=5, label=label)\n",
    "plt.legend()\n",
    "plt.title('분류기 성능 평가를 위한 ROC 곡선 그래프')\n",
    "\n",
    "plt.plot([0,1],[0,1], 'k--')# 대각선 점선\n",
    "plt.show()"
   ]
  },
  {
   "cell_type": "markdown",
   "metadata": {},
   "source": [
    "### 분류 기준 값\n",
    "- ROC 곡선의 분류 기준값  \n",
    "Y = 1-X와 만나는점\n",
    "> ROC 곡선의 분류 기준값\n",
    "> 참, 거짓의 표본의 정확도가 동일해지는 지점 \n",
    "\n",
    "or \n",
    "\n",
    "- y = x 와 평행이 되는지점  \n",
    "> 변곡점"
   ]
  },
  {
   "cell_type": "markdown",
   "metadata": {},
   "source": [
    "### B-4 F1-score\n",
    "\n",
    "- 이진 분류기는 통상 f1-score로 평가함\n",
    "- 정밀도, 재현율의 조화 평균\n",
    "- 정밀도(precision) : 분류기가 양성으로 판단한 표보늘 중에 실제 양성 비율 \n",
    "- 재현율(recall) :  분류기가 실제로 양성으로 판단한 표본의 비율 \n",
    "- 조화평균 식 :\n",
    "    >F1 = 1/(1/정밀도 + 1/재현율)/2 = 2 * 정밀도 * 재현율 / 정밀도 * 재현율\n",
    "    \n",
    "    >값의 범위는 0~1사이 값을 가진다.\n"
   ]
  },
  {
   "cell_type": "markdown",
   "metadata": {},
   "source": [
    "[ 보충 설명 ]\n",
    "- 정확도 : Accuracy\n",
    "- 정밀도 : Precision\n",
    "- 재현율 : Recall\n",
    "- F1 Score : 정밀도와 재현율의 조화 평균\n",
    "\n",
    "[ 해석 ]\n",
    "- 정확도 : 예측이 정답과 얼마나 정확한가?\n",
    "- 정밀도 : 예측한 것중에 정답의 비율은?\n",
    "- 재현율 : 찾아야 할 것중에 실제로 찾은 비율은?\n",
    "- F1 Score : 정밀도와 재현율의 평균\n",
    ">  이중에서 F1 Score 값이 높으면 성능이 높다"
   ]
  },
  {
   "cell_type": "markdown",
   "metadata": {},
   "source": [
    "### B-5 다중 클래스 분류의 평균 f1-score \n",
    "\n",
    "- 마이크로 평균\n",
    "- 매크로 평균"
   ]
  },
  {
   "cell_type": "code",
   "execution_count": 24,
   "metadata": {},
   "outputs": [
    {
     "name": "stdout",
     "output_type": "stream",
     "text": [
      "0.26666666666666666\n",
      "0.3333333333333333\n",
      "0.26666666666666666\n",
      "[0.8 0.  0. ]\n"
     ]
    }
   ],
   "source": [
    "from sklearn.metrics import f1_score\n",
    "y_data = [0, 1, 2, 0, 1, 2 ]\n",
    "y_pre  = [0, 2, 1, 0, 0, 1 ]\n",
    "# 매크로 평균\n",
    "# 정밀도 = 참의 개별값의 합산 / 참의 개별값의 합산 + 거짓의 개별값의 합산\n",
    "print(f1_score(y_data, y_pre, average='macro'))\n",
    "# 마이크로 평균\n",
    "# 정밀도 = (정밀도1+ 정밀도2+ 정밀도3+ ....) n개 클래스분류갯수\n",
    "print(f1_score(y_data, y_pre, average='micro'))\n",
    "# 가중치 변경\n",
    "print(f1_score(y_data, y_pre, average='weighted'))\n",
    "print(f1_score(y_data, y_pre, average=None))"
   ]
  },
  {
   "cell_type": "code",
   "execution_count": null,
   "metadata": {},
   "outputs": [],
   "source": []
  }
 ],
 "metadata": {
  "kernelspec": {
   "display_name": "Python 3",
   "language": "python",
   "name": "python3"
  },
  "language_info": {
   "codemirror_mode": {
    "name": "ipython",
    "version": 3
   },
   "file_extension": ".py",
   "mimetype": "text/x-python",
   "name": "python",
   "nbconvert_exporter": "python",
   "pygments_lexer": "ipython3",
   "version": "3.6.5"
  }
 },
 "nbformat": 4,
 "nbformat_minor": 2
}
