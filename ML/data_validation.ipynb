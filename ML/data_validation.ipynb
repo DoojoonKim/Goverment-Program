{
 "cells": [
  {
   "cell_type": "markdown",
   "metadata": {},
   "source": [
    "### 학습한 데이터의 결과가 신뢰할수 있는가?\n",
    "\n",
    "- 모델의 타당성을 검증 \n",
    "> 크로스 벨리데이션을 확인  \n",
    "- `Cross-Vaildation : 교차 검증`\n",
    "> - 특정 데이터를 훈련용과 테스트 전용으로 분할  \n",
    "> - 훈련데이터로 학습  \n",
    "> - 테스트데이터로 학습의 타당성을 검증  \n",
    "- 교차 검증방법중에 K분할 `교차 검증(K-fold(cv값) cross vaildation)`\n",
    "> - 집합 X => A, B, C로 분할\n",
    "> - A를 테스트, B, C는 훈련 => 정밀도 s1를 구함\n",
    "> - B를 테스트, C, A는 훈련 => 정밀도 s2를 구함\n",
    "> - C를 테스트, A, B는 훈련 => 정밀도 s3를 구함\n",
    "> - s1, s2, s3를 평균내서 최종 정밀도를 구한다 "
   ]
  },
  {
   "cell_type": "code",
   "execution_count": 7,
   "metadata": {},
   "outputs": [],
   "source": [
    "import pandas as pd\n",
    "from sklearn import svm, metrics, model_selection\n",
    "import sklearn.datasets as ml\n",
    "import random, re"
   ]
  },
  {
   "cell_type": "code",
   "execution_count": 10,
   "metadata": {},
   "outputs": [
    {
     "data": {
      "text/html": [
       "<div>\n",
       "<style scoped>\n",
       "    .dataframe tbody tr th:only-of-type {\n",
       "        vertical-align: middle;\n",
       "    }\n",
       "\n",
       "    .dataframe tbody tr th {\n",
       "        vertical-align: top;\n",
       "    }\n",
       "\n",
       "    .dataframe thead th {\n",
       "        text-align: right;\n",
       "    }\n",
       "</style>\n",
       "<table border=\"1\" class=\"dataframe\">\n",
       "  <thead>\n",
       "    <tr style=\"text-align: right;\">\n",
       "      <th></th>\n",
       "      <th>SepalLength</th>\n",
       "      <th>SepalWidth</th>\n",
       "      <th>PetalLength</th>\n",
       "      <th>PetalWidth</th>\n",
       "      <th>Name</th>\n",
       "    </tr>\n",
       "  </thead>\n",
       "  <tbody>\n",
       "    <tr>\n",
       "      <th>0</th>\n",
       "      <td>5.1</td>\n",
       "      <td>3.5</td>\n",
       "      <td>1.4</td>\n",
       "      <td>0.2</td>\n",
       "      <td>Iris-setosa</td>\n",
       "    </tr>\n",
       "    <tr>\n",
       "      <th>1</th>\n",
       "      <td>4.9</td>\n",
       "      <td>3.0</td>\n",
       "      <td>1.4</td>\n",
       "      <td>0.2</td>\n",
       "      <td>Iris-setosa</td>\n",
       "    </tr>\n",
       "  </tbody>\n",
       "</table>\n",
       "</div>"
      ],
      "text/plain": [
       "   SepalLength  SepalWidth  PetalLength  PetalWidth         Name\n",
       "0          5.1         3.5          1.4         0.2  Iris-setosa\n",
       "1          4.9         3.0          1.4         0.2  Iris-setosa"
      ]
     },
     "execution_count": 10,
     "metadata": {},
     "output_type": "execute_result"
    }
   ],
   "source": [
    "# 아이리스 데이터 로드\n",
    "#data = ml.load_iris()\n",
    "#data\n",
    "data = pd.read_csv( './data/iris.csv' )\n",
    "data.head(2)"
   ]
  },
  {
   "cell_type": "code",
   "execution_count": 12,
   "metadata": {},
   "outputs": [],
   "source": [
    "train = data[ data.columns[:4] ]\n",
    "label = data[ data.columns[-1] ]\n",
    "#train, label"
   ]
  },
  {
   "cell_type": "code",
   "execution_count": 15,
   "metadata": {},
   "outputs": [
    {
     "name": "stdout",
     "output_type": "stream",
     "text": [
      "5세트 각각의 정밀도  [0.96666667 1.         0.96666667 0.96666667 1.        ]\n",
      "5세트 각각의 정밀도 평균 0.9800000000000001\n"
     ]
    }
   ],
   "source": [
    "clf    = svm.SVC( gamma='auto' )\n",
    "# cv : fold의 수 => 세트화\n",
    "scores = model_selection.cross_val_score( clf, train, label, cv=5 )\n",
    "print( '5세트 각각의 정밀도 ', scores )\n",
    "print( '5세트 각각의 정밀도 평균', scores.mean() )"
   ]
  },
  {
   "cell_type": "code",
   "execution_count": null,
   "metadata": {},
   "outputs": [],
   "source": []
  },
  {
   "cell_type": "markdown",
   "metadata": {},
   "source": [
    "### 그리드 서치 방식\n",
    "- ML의 알고리즘은 매개변수를 가지고 있다\n",
    "- 매개변수를 적절하게 수정하면 정답률을 상승 시킬수 있다 => 튜닝, 최적화\n",
    "- **`매개변수 튜닝을 아주 중요한 작업!!`**\n",
    "- 이것을 일일이(X)-> 자동화 처리 필요\n",
    "> 그리드 서치 방식\n",
    "> 각 매개변수를 적당한 범위에 두고, 알아서 변경하면서 가장 성능이 좋을때까지 값을 찾는 방법\n",
    "> 하이퍼파라미터 튜닝"
   ]
  },
  {
   "cell_type": "code",
   "execution_count": 16,
   "metadata": {},
   "outputs": [],
   "source": [
    "import sklearn\n",
    "import pandas as pd\n",
    "from sklearn.model_selection import GridSearchCV"
   ]
  },
  {
   "cell_type": "code",
   "execution_count": 17,
   "metadata": {},
   "outputs": [],
   "source": [
    "train_csv = pd.read_csv('./data/train_mnist.csv')\n",
    "test_csv  = pd.read_csv('./data/t10k_mnist.csv')"
   ]
  },
  {
   "cell_type": "code",
   "execution_count": 20,
   "metadata": {},
   "outputs": [
    {
     "data": {
      "text/plain": [
       "((749, 785), (249, 785))"
      ]
     },
     "execution_count": 20,
     "metadata": {},
     "output_type": "execute_result"
    }
   ],
   "source": [
    "train_csv.shape, test_csv.shape"
   ]
  },
  {
   "cell_type": "code",
   "execution_count": 21,
   "metadata": {},
   "outputs": [],
   "source": [
    "# 데이터 추출 \n",
    "train_label = train_csv.iloc[:, 0]\n",
    "train_data  = train_csv.iloc[:, 1:]\n",
    "test_label  = test_csv.iloc[:, 0]\n",
    "test_data   = test_csv.iloc[:, 1:]"
   ]
  },
  {
   "cell_type": "code",
   "execution_count": 22,
   "metadata": {},
   "outputs": [
    {
     "name": "stdout",
     "output_type": "stream",
     "text": [
      "(749,) (749, 784) (249,) (249, 784)\n"
     ]
    }
   ],
   "source": [
    "print( train_label.shape, train_data.shape, test_label.shape, test_data.shape  )"
   ]
  },
  {
   "cell_type": "code",
   "execution_count": 24,
   "metadata": {},
   "outputs": [],
   "source": [
    "# 사용 모델 => 분류기 중에 SVC를 사용하겟다 \n",
    "# 매개변수는 => C, kernel값에 대한 하이퍼파라미터 튜닝을 하겟다\n",
    "params = [\n",
    "    {\"C\":[0.01, 0.1, 1.0, 10.0, 100.0, 1000.0], 'kernel':['linear'] },\n",
    "    {\"C\":[0.01, 0.1, 1.0, 10.0, 100.0, 1000.0], 'kernel':['rbf'], 'gamma':[0.001, 0.0001] }\n",
    "]"
   ]
  },
  {
   "cell_type": "code",
   "execution_count": 25,
   "metadata": {},
   "outputs": [],
   "source": [
    "# n_jobs : 병렬 계산 수행할 프로세스수 지정 => -1 => 자동으로 알아서 코어수에 맞게 설정\n",
    "clf = GridSearchCV( svm.SVC(), params, n_jobs=-1, cv=5 )"
   ]
  },
  {
   "cell_type": "code",
   "execution_count": 26,
   "metadata": {},
   "outputs": [
    {
     "data": {
      "text/plain": [
       "GridSearchCV(cv=5, error_score='raise-deprecating',\n",
       "       estimator=SVC(C=1.0, cache_size=200, class_weight=None, coef0=0.0,\n",
       "  decision_function_shape='ovr', degree=3, gamma='auto_deprecated',\n",
       "  kernel='rbf', max_iter=-1, probability=False, random_state=None,\n",
       "  shrinking=True, tol=0.001, verbose=False),\n",
       "       fit_params=None, iid='warn', n_jobs=-1,\n",
       "       param_grid=[{'C': [0.01, 0.1, 1.0, 10.0, 100.0, 1000.0], 'kernel': ['linear']}, {'C': [0.01, 0.1, 1.0, 10.0, 100.0, 1000.0], 'kernel': ['rbf'], 'gamma': [0.001, 0.0001]}],\n",
       "       pre_dispatch='2*n_jobs', refit=True, return_train_score='warn',\n",
       "       scoring=None, verbose=0)"
      ]
     },
     "execution_count": 26,
     "metadata": {},
     "output_type": "execute_result"
    }
   ],
   "source": [
    "# 학습\n",
    "clf.fit(train_data, train_label)"
   ]
  },
  {
   "cell_type": "code",
   "execution_count": 27,
   "metadata": {},
   "outputs": [
    {
     "data": {
      "text/plain": [
       "SVC(C=0.01, cache_size=200, class_weight=None, coef0=0.0,\n",
       "  decision_function_shape='ovr', degree=3, gamma='auto_deprecated',\n",
       "  kernel='linear', max_iter=-1, probability=False, random_state=None,\n",
       "  shrinking=True, tol=0.001, verbose=False)"
      ]
     },
     "execution_count": 27,
     "metadata": {},
     "output_type": "execute_result"
    }
   ],
   "source": [
    "# 결과 확인\n",
    "clf.best_estimator_"
   ]
  },
  {
   "cell_type": "code",
   "execution_count": 28,
   "metadata": {},
   "outputs": [
    {
     "data": {
      "text/plain": [
       "0.8678237650200267"
      ]
     },
     "execution_count": 28,
     "metadata": {},
     "output_type": "execute_result"
    }
   ],
   "source": [
    "clf.best_score_"
   ]
  },
  {
   "cell_type": "code",
   "execution_count": 29,
   "metadata": {},
   "outputs": [
    {
     "data": {
      "text/plain": [
       "0.8755020080321285"
      ]
     },
     "execution_count": 29,
     "metadata": {},
     "output_type": "execute_result"
    }
   ],
   "source": [
    "# 예측\n",
    "pre = clf.predict( test_data )\n",
    "metrics.accuracy_score( pre, test_label )"
   ]
  },
  {
   "cell_type": "code",
   "execution_count": null,
   "metadata": {},
   "outputs": [],
   "source": []
  },
  {
   "cell_type": "markdown",
   "metadata": {},
   "source": []
  }
 ],
 "metadata": {
  "kernelspec": {
   "display_name": "Python 3",
   "language": "python",
   "name": "python3"
  },
  "language_info": {
   "codemirror_mode": {
    "name": "ipython",
    "version": 3
   },
   "file_extension": ".py",
   "mimetype": "text/x-python",
   "name": "python",
   "nbconvert_exporter": "python",
   "pygments_lexer": "ipython3",
   "version": "3.6.5"
  }
 },
 "nbformat": 4,
 "nbformat_minor": 2
}
